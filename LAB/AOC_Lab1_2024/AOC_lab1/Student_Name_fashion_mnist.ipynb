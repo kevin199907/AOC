{
  "cells": [
    {
      "cell_type": "code",
      "execution_count": 54,
      "metadata": {
        "id": "4pUIX5bUsmOv"
      },
      "outputs": [],
      "source": [
        "import torch\n",
        "import torch.nn as nn\n",
        "import torch.nn.functional as F\n",
        "import torchvision\n",
        "import torchvision.transforms as transforms\n",
        "from torchsummary import summary\n",
        "import torch.optim as optim\n",
        "from torchvision import datasets\n",
        "from tqdm import tqdm\n",
        "import numpy as np\n",
        "from torch.utils.data.sampler import SubsetRandomSampler\n",
        "\n",
        "device = torch.device('cuda:0' if torch.cuda.is_available() else 'cpu')\n",
        "use_gpu = torch.cuda.is_available()"
      ]
    },
    {
      "cell_type": "markdown",
      "metadata": {
        "id": "1LrOZnfTZbX9"
      },
      "source": [
        "# Model Design\n"
      ]
    },
    {
      "cell_type": "markdown",
      "metadata": {
        "id": "72yQM3hcb9FR"
      },
      "source": [
        "Some tips you can use in the model design:\n",
        "\n",
        "*   Convolution\n",
        "*   Linear\n",
        "*   Pooling\n",
        "*   Batch normalization\n",
        "*   ReLU\n",
        "*   Dropout\n",
        "\n",
        "\n"
      ]
    },
    {
      "cell_type": "code",
      "execution_count": 55,
      "metadata": {
        "id": "jYh4byzmMWIc"
      },
      "outputs": [],
      "source": [
        "import torch\n",
        "import torch.nn as nn\n",
        "\n",
        "class DNN(nn.Module):\n",
        "    def __init__(self):\n",
        "        super(DNN, self).__init__()\n",
        "        \n",
        "        ###### TODO : You can design model architechture ######\n",
        "        self.conv1 = nn.Conv2d(in_channels= 1 , out_channels=32, kernel_size=3, stride=1, padding=1, bias= False)\n",
        "        self.bn1 = nn.BatchNorm2d(32)\n",
        "        self.conv2 = nn.Conv2d(in_channels= 32 , out_channels=64, kernel_size=3, stride=1, padding=1, bias= False)\n",
        "        self.bn2 = nn.BatchNorm2d(64) \n",
        "        self.maxpool = nn.MaxPool2d(kernel_size=2,stride=2)\n",
        "        self.conv3 = nn.Conv2d(in_channels= 64 , out_channels=32, kernel_size=3, stride=1, padding=1, bias= False)\n",
        "        self.bn3 = nn.BatchNorm2d(32) \n",
        "        self.conv4 = nn.Conv2d(in_channels= 32 , out_channels=16, kernel_size=3, stride=1, padding=1, bias= False)\n",
        "        self.bn4 = nn.BatchNorm2d(16) \n",
        "        self.globpool = nn.AvgPool2d(kernel_size=14)  \n",
        "        self.fc1 = nn.Linear(in_features=16,out_features=64)\n",
        "        self.fc2 = nn.Linear(64,128) \n",
        "        self.fc3 = nn.Linear(128,32)\n",
        "        self.fc4 = nn.Linear(32,10)\n",
        "\n",
        "         ######################################################\n",
        "    def forward(self,x):\n",
        "        out = self.conv1(x)\n",
        "        out1 = F.relu(self.bn1(out)) + x\n",
        "        out1 = self.conv2(out1)\n",
        "        out2 = F.relu(self.bn2(out1)) + out1\n",
        "        out2 = self.maxpool(out2)\n",
        "        out2 = self.conv3(out2)\n",
        "        out3 = F.relu(self.bn3(out2)) + out2\n",
        "        out3 = self.conv4(out3)\n",
        "        out4 = F.relu(self.bn4(out3)) +out3\n",
        "        out4 = self.globpool(out4)\n",
        "        out5 = out4.view(-1,16)\n",
        "        out5 = self.fc1(out5)\n",
        "        out5 = F.relu(out5)\n",
        "        out5 = self.fc2(out5)\n",
        "        out5 = F.relu(out5)\n",
        "        out5 = self.fc3(out5)\n",
        "        out5 = F.sigmoid(self.fc4(out5))\n",
        "        return out5\n"
      ]
    },
    {
      "cell_type": "code",
      "execution_count": 56,
      "metadata": {
        "id": "AE5V7xlThSvZ"
      },
      "outputs": [],
      "source": [
        "# Create an instance of the DNN model\n",
        "net = DNN().cuda()  # Move the model to GPU if available"
      ]
    },
    {
      "cell_type": "markdown",
      "metadata": {
        "id": "Axxipd9UZu8f"
      },
      "source": [
        "# Caculating the number of the parameter and the MACs of the model"
      ]
    },
    {
      "cell_type": "code",
      "execution_count": 57,
      "metadata": {
        "colab": {
          "base_uri": "https://localhost:8080/"
        },
        "id": "I9Ij-VC8tIk8",
        "outputId": "794879db-1ff9-4ae8-d98a-1f86f9e92a6c"
      },
      "outputs": [
        {
          "name": "stdout",
          "output_type": "stream",
          "text": [
            "----------------------------------------------------------------\n",
            "        Layer (type)               Output Shape         Param #\n",
            "================================================================\n",
            "            Conv2d-1           [-1, 32, 28, 28]             288\n",
            "       BatchNorm2d-2           [-1, 32, 28, 28]              64\n",
            "            Conv2d-3           [-1, 64, 28, 28]          18,432\n",
            "       BatchNorm2d-4           [-1, 64, 28, 28]             128\n",
            "         MaxPool2d-5           [-1, 64, 14, 14]               0\n",
            "            Conv2d-6           [-1, 32, 14, 14]          18,432\n",
            "       BatchNorm2d-7           [-1, 32, 14, 14]              64\n",
            "            Conv2d-8           [-1, 16, 14, 14]           4,608\n",
            "       BatchNorm2d-9           [-1, 16, 14, 14]              32\n",
            "        AvgPool2d-10             [-1, 16, 1, 1]               0\n",
            "           Linear-11                   [-1, 64]           1,088\n",
            "           Linear-12                  [-1, 128]           8,320\n",
            "           Linear-13                   [-1, 32]           4,128\n",
            "           Linear-14                   [-1, 10]             330\n",
            "================================================================\n",
            "Total params: 55,914\n",
            "Trainable params: 55,914\n",
            "Non-trainable params: 0\n",
            "----------------------------------------------------------------\n",
            "Input size (MB): 0.00\n",
            "Forward/backward pass size (MB): 1.39\n",
            "Params size (MB): 0.21\n",
            "Estimated Total Size (MB): 1.61\n",
            "----------------------------------------------------------------\n",
            "[INFO] Register count_convNd() for <class 'torch.nn.modules.conv.Conv2d'>.\n",
            "[INFO] Register count_normalization() for <class 'torch.nn.modules.batchnorm.BatchNorm2d'>.\n",
            "[INFO] Register zero_ops() for <class 'torch.nn.modules.pooling.MaxPool2d'>.\n",
            "[INFO] Register count_avgpool() for <class 'torch.nn.modules.pooling.AvgPool2d'>.\n",
            "[INFO] Register count_linear() for <class 'torch.nn.modules.linear.Linear'>.\n",
            "MACs = 0.019544656G\n",
            "Params = 0.055914M\n"
          ]
        }
      ],
      "source": [
        "def count_parameters(model):\n",
        "    return sum(p.numel() for p in model.parameters() if p.requires_grad)\n",
        "grad_para = count_parameters(net)\n",
        "# print(f'Total params: {grad_para / 1e6}M')\n",
        "summary(net,(1,28,28))\n",
        "\n",
        "#Compute MACs\n",
        "from thop import profile\n",
        "input1 = torch.randn(1,1,28,28).cuda()\n",
        "MACs, params = profile(net, inputs=(input1, ))\n",
        "print('MACs = ' + str(MACs/1000**3) + 'G')\n",
        "print('Params = ' + str(params/1000**2) + 'M')\n",
        "\n"
      ]
    },
    {
      "cell_type": "markdown",
      "metadata": {
        "id": "9P1zmlUkbUJd"
      },
      "source": [
        "# Configuration"
      ]
    },
    {
      "cell_type": "code",
      "execution_count": 58,
      "metadata": {
        "id": "OAqeDnegt-wW"
      },
      "outputs": [],
      "source": [
        "### TODO : You can modify the configuration for model training ###\n",
        "\n",
        "# For the classification task, we use cross-entropy as the measurement of performance.\n",
        "criterion = nn.CrossEntropyLoss()\n",
        "\n",
        "# Initialize optimizer, you may fine-tune some hyperparameters such as learning rate on your own.\n",
        "optimizer = optim.Adam(net.parameters(), lr=0.001)\n",
        "\n",
        "# The number of batch size.\n",
        "batch_size = 512\n",
        "\n",
        "# If no improvement in 'patience' epochs, early stop.\n",
        "patience  = 10\n",
        "\n",
        "# The number of training epochs\n",
        "n_epoch = 100\n",
        "\n",
        "_exp_name = \"N26122246_minist\""
      ]
    },
    {
      "cell_type": "markdown",
      "metadata": {
        "id": "YAQbIclcm0JX"
      },
      "source": [
        "# Dataloader"
      ]
    },
    {
      "cell_type": "code",
      "execution_count": 59,
      "metadata": {
        "colab": {
          "base_uri": "https://localhost:8080/"
        },
        "id": "oIVOCYSLm0RO",
        "outputId": "f1420064-c079-463d-bd9d-d8ee7541cb67"
      },
      "outputs": [],
      "source": [
        "\n",
        "\n",
        "# Select training_set and testing_set (dataset : FashionMNIST )\n",
        "train_data = datasets.FashionMNIST(\"data\",train= True, download=True,   transform = transforms.ToTensor())\n",
        "\n",
        "test_data = datasets.FashionMNIST(\"data\",  train= False, download=True, transform = transforms.ToTensor())\n",
        "\n",
        "# # Number of subprocesses to use for data loading\n",
        "# num_workers = 0\n",
        "\n",
        "# Percentage of training set to use as validation\n",
        "n_valid = 0.2\n",
        "\n",
        "# Get indices for training_set and validation_set\n",
        "n_train = len(train_data)\n",
        "indices = list(range(n_train))\n",
        "np.random.shuffle(indices)\n",
        "\n",
        "split = int(np.floor(n_valid * n_train))\n",
        "train_idx, valid_idx = indices[split:], indices[:split]\n",
        "\n",
        "# Define samplers for obtaining training and validation\n",
        "train_sampler = SubsetRandomSampler(train_idx)\n",
        "valid_sampler = SubsetRandomSampler(valid_idx)\n"
      ]
    },
    {
      "cell_type": "code",
      "execution_count": 60,
      "metadata": {
        "id": "McDXU5qdtujs"
      },
      "outputs": [],
      "source": [
        "# Training data\n",
        "trainset = torchvision.datasets.FashionMNIST(root='./data', train=True, download=True, transform=transforms.ToTensor())\n",
        "trainloader = torch.utils.data.DataLoader(trainset, batch_size=batch_size,  sampler = train_sampler , num_workers=2)\n",
        "\n",
        "# Validation data\n",
        "validloader = torch.utils.data.DataLoader(trainset, batch_size = batch_size, sampler = valid_sampler, num_workers = 2)\n",
        "\n",
        "# Test data\n",
        "testset = torchvision.datasets.FashionMNIST(root='./data', train=False, download=True, transform=transforms.ToTensor())\n",
        "testloader = torch.utils.data.DataLoader(testset, batch_size=batch_size,  num_workers=2)\n",
        "\n"
      ]
    },
    {
      "cell_type": "markdown",
      "metadata": {
        "id": "6brCFwGvbW2M"
      },
      "source": [
        "# Model Training"
      ]
    },
    {
      "cell_type": "code",
      "execution_count": 69,
      "metadata": {},
      "outputs": [
        {
          "name": "stdout",
          "output_type": "stream",
          "text": [
            "========================================================================================================\n",
            "[ Train | 001/100 ] loss = 1.54938, acc = 0.86517\n"
          ]
        },
        {
          "name": "stderr",
          "output_type": "stream",
          "text": [
            "100%|██████████| 24/24 [00:03<00:00,  7.98it/s]\n"
          ]
        },
        {
          "name": "stdout",
          "output_type": "stream",
          "text": [
            "[ Valid | 001/100 ] loss = 1.55452, acc = 0.85699\n",
            "Best model found at epoch 001, saving model\n",
            "========================================================================================================\n",
            "[ Train | 002/100 ] loss = 1.54598, acc = 0.87023\n"
          ]
        },
        {
          "name": "stderr",
          "output_type": "stream",
          "text": [
            "100%|██████████| 24/24 [00:02<00:00,  8.07it/s]\n"
          ]
        },
        {
          "name": "stdout",
          "output_type": "stream",
          "text": [
            "[ Valid | 002/100 ] loss = 1.56994, acc = 0.84413\n",
            "========================================================================================================\n",
            "[ Train | 003/100 ] loss = 1.54406, acc = 0.87134\n"
          ]
        },
        {
          "name": "stderr",
          "output_type": "stream",
          "text": [
            "100%|██████████| 24/24 [00:03<00:00,  8.00it/s]\n"
          ]
        },
        {
          "name": "stdout",
          "output_type": "stream",
          "text": [
            "[ Valid | 003/100 ] loss = 1.55113, acc = 0.86902\n",
            "Best model found at epoch 003, saving model\n",
            "========================================================================================================\n",
            "[ Train | 004/100 ] loss = 1.54377, acc = 0.87231\n"
          ]
        },
        {
          "name": "stderr",
          "output_type": "stream",
          "text": [
            "100%|██████████| 24/24 [00:02<00:00,  8.01it/s]\n"
          ]
        },
        {
          "name": "stdout",
          "output_type": "stream",
          "text": [
            "[ Valid | 004/100 ] loss = 1.55143, acc = 0.86273\n",
            "========================================================================================================\n",
            "[ Train | 005/100 ] loss = 1.54311, acc = 0.87292\n"
          ]
        },
        {
          "name": "stderr",
          "output_type": "stream",
          "text": [
            "100%|██████████| 24/24 [00:02<00:00,  8.01it/s]\n"
          ]
        },
        {
          "name": "stdout",
          "output_type": "stream",
          "text": [
            "[ Valid | 005/100 ] loss = 1.55495, acc = 0.86018\n",
            "========================================================================================================\n",
            "[ Train | 006/100 ] loss = 1.54292, acc = 0.87461\n"
          ]
        },
        {
          "name": "stderr",
          "output_type": "stream",
          "text": [
            "100%|██████████| 24/24 [00:03<00:00,  7.97it/s]\n"
          ]
        },
        {
          "name": "stdout",
          "output_type": "stream",
          "text": [
            "[ Valid | 006/100 ] loss = 1.54838, acc = 0.86362\n",
            "========================================================================================================\n",
            "[ Train | 007/100 ] loss = 1.54061, acc = 0.87472\n"
          ]
        },
        {
          "name": "stderr",
          "output_type": "stream",
          "text": [
            "100%|██████████| 24/24 [00:03<00:00,  7.92it/s]\n"
          ]
        },
        {
          "name": "stdout",
          "output_type": "stream",
          "text": [
            "[ Valid | 007/100 ] loss = 1.54981, acc = 0.86546\n",
            "========================================================================================================\n",
            "[ Train | 008/100 ] loss = 1.54183, acc = 0.87645\n"
          ]
        },
        {
          "name": "stderr",
          "output_type": "stream",
          "text": [
            "100%|██████████| 24/24 [00:02<00:00,  8.02it/s]\n"
          ]
        },
        {
          "name": "stdout",
          "output_type": "stream",
          "text": [
            "[ Valid | 008/100 ] loss = 1.54857, acc = 0.86621\n",
            "========================================================================================================\n",
            "[ Train | 009/100 ] loss = 1.54108, acc = 0.87604\n"
          ]
        },
        {
          "name": "stderr",
          "output_type": "stream",
          "text": [
            "100%|██████████| 24/24 [00:02<00:00,  8.09it/s]\n"
          ]
        },
        {
          "name": "stdout",
          "output_type": "stream",
          "text": [
            "[ Valid | 009/100 ] loss = 1.54912, acc = 0.86608\n",
            "========================================================================================================\n",
            "[ Train | 010/100 ] loss = 1.53999, acc = 0.87874\n"
          ]
        },
        {
          "name": "stderr",
          "output_type": "stream",
          "text": [
            "100%|██████████| 24/24 [00:02<00:00,  8.13it/s]\n"
          ]
        },
        {
          "name": "stdout",
          "output_type": "stream",
          "text": [
            "[ Valid | 010/100 ] loss = 1.55265, acc = 0.86419\n",
            "========================================================================================================\n",
            "[ Train | 011/100 ] loss = 1.53948, acc = 0.87912\n"
          ]
        },
        {
          "name": "stderr",
          "output_type": "stream",
          "text": [
            "100%|██████████| 24/24 [00:03<00:00,  7.96it/s]\n"
          ]
        },
        {
          "name": "stdout",
          "output_type": "stream",
          "text": [
            "[ Valid | 011/100 ] loss = 1.55512, acc = 0.86615\n",
            "========================================================================================================\n",
            "[ Train | 012/100 ] loss = 1.53913, acc = 0.87934\n"
          ]
        },
        {
          "name": "stderr",
          "output_type": "stream",
          "text": [
            "100%|██████████| 24/24 [00:03<00:00,  7.69it/s]\n"
          ]
        },
        {
          "name": "stdout",
          "output_type": "stream",
          "text": [
            "[ Valid | 012/100 ] loss = 1.54503, acc = 0.87495\n",
            "Best model found at epoch 012, saving model\n",
            "========================================================================================================\n",
            "[ Train | 013/100 ] loss = 1.54072, acc = 0.87782\n"
          ]
        },
        {
          "name": "stderr",
          "output_type": "stream",
          "text": [
            "100%|██████████| 24/24 [00:02<00:00,  8.20it/s]\n"
          ]
        },
        {
          "name": "stdout",
          "output_type": "stream",
          "text": [
            "[ Valid | 013/100 ] loss = 1.54837, acc = 0.86969\n",
            "========================================================================================================\n",
            "[ Train | 014/100 ] loss = 1.53959, acc = 0.87911\n"
          ]
        },
        {
          "name": "stderr",
          "output_type": "stream",
          "text": [
            "100%|██████████| 24/24 [00:03<00:00,  7.15it/s]\n"
          ]
        },
        {
          "name": "stdout",
          "output_type": "stream",
          "text": [
            "[ Valid | 014/100 ] loss = 1.54621, acc = 0.87395\n",
            "========================================================================================================\n",
            "[ Train | 015/100 ] loss = 1.53851, acc = 0.87997\n"
          ]
        },
        {
          "name": "stderr",
          "output_type": "stream",
          "text": [
            "100%|██████████| 24/24 [00:03<00:00,  7.71it/s]\n"
          ]
        },
        {
          "name": "stdout",
          "output_type": "stream",
          "text": [
            "[ Valid | 015/100 ] loss = 1.57464, acc = 0.84208\n",
            "========================================================================================================\n",
            "[ Train | 016/100 ] loss = 1.54277, acc = 0.87609\n"
          ]
        },
        {
          "name": "stderr",
          "output_type": "stream",
          "text": [
            "100%|██████████| 24/24 [00:03<00:00,  7.89it/s]\n"
          ]
        },
        {
          "name": "stdout",
          "output_type": "stream",
          "text": [
            "[ Valid | 016/100 ] loss = 1.55099, acc = 0.86061\n",
            "========================================================================================================\n",
            "[ Train | 017/100 ] loss = 1.53683, acc = 0.88168\n"
          ]
        },
        {
          "name": "stderr",
          "output_type": "stream",
          "text": [
            "100%|██████████| 24/24 [00:02<00:00,  8.09it/s]\n"
          ]
        },
        {
          "name": "stdout",
          "output_type": "stream",
          "text": [
            "[ Valid | 017/100 ] loss = 1.54347, acc = 0.87657\n",
            "Best model found at epoch 017, saving model\n",
            "========================================================================================================\n",
            "[ Train | 018/100 ] loss = 1.53814, acc = 0.87829\n"
          ]
        },
        {
          "name": "stderr",
          "output_type": "stream",
          "text": [
            "100%|██████████| 24/24 [00:02<00:00,  8.22it/s]\n"
          ]
        },
        {
          "name": "stdout",
          "output_type": "stream",
          "text": [
            "[ Valid | 018/100 ] loss = 1.54391, acc = 0.87960\n",
            "Best model found at epoch 018, saving model\n",
            "========================================================================================================\n",
            "[ Train | 019/100 ] loss = 1.53824, acc = 0.87898\n"
          ]
        },
        {
          "name": "stderr",
          "output_type": "stream",
          "text": [
            "100%|██████████| 24/24 [00:03<00:00,  7.88it/s]\n"
          ]
        },
        {
          "name": "stdout",
          "output_type": "stream",
          "text": [
            "[ Valid | 019/100 ] loss = 1.55563, acc = 0.86370\n",
            "========================================================================================================\n",
            "[ Train | 020/100 ] loss = 1.53682, acc = 0.88203\n"
          ]
        },
        {
          "name": "stderr",
          "output_type": "stream",
          "text": [
            "100%|██████████| 24/24 [00:02<00:00,  8.01it/s]\n"
          ]
        },
        {
          "name": "stdout",
          "output_type": "stream",
          "text": [
            "[ Valid | 020/100 ] loss = 1.55076, acc = 0.86620\n",
            "========================================================================================================\n",
            "[ Train | 021/100 ] loss = 1.53642, acc = 0.88214\n"
          ]
        },
        {
          "name": "stderr",
          "output_type": "stream",
          "text": [
            "100%|██████████| 24/24 [00:03<00:00,  7.91it/s]\n"
          ]
        },
        {
          "name": "stdout",
          "output_type": "stream",
          "text": [
            "[ Valid | 021/100 ] loss = 1.54188, acc = 0.88049\n",
            "Best model found at epoch 021, saving model\n",
            "========================================================================================================\n",
            "[ Train | 022/100 ] loss = 1.53732, acc = 0.88124\n"
          ]
        },
        {
          "name": "stderr",
          "output_type": "stream",
          "text": [
            "100%|██████████| 24/24 [00:03<00:00,  7.66it/s]\n"
          ]
        },
        {
          "name": "stdout",
          "output_type": "stream",
          "text": [
            "[ Valid | 022/100 ] loss = 1.54370, acc = 0.87783\n",
            "========================================================================================================\n",
            "[ Train | 023/100 ] loss = 1.53352, acc = 0.88651\n"
          ]
        },
        {
          "name": "stderr",
          "output_type": "stream",
          "text": [
            "100%|██████████| 24/24 [00:03<00:00,  7.96it/s]\n"
          ]
        },
        {
          "name": "stdout",
          "output_type": "stream",
          "text": [
            "[ Valid | 023/100 ] loss = 1.54981, acc = 0.86887\n",
            "========================================================================================================\n",
            "[ Train | 024/100 ] loss = 1.53299, acc = 0.88860\n"
          ]
        },
        {
          "name": "stderr",
          "output_type": "stream",
          "text": [
            "100%|██████████| 24/24 [00:02<00:00,  8.03it/s]\n"
          ]
        },
        {
          "name": "stdout",
          "output_type": "stream",
          "text": [
            "[ Valid | 024/100 ] loss = 1.54442, acc = 0.87459\n",
            "========================================================================================================\n",
            "[ Train | 025/100 ] loss = 1.53687, acc = 0.88235\n"
          ]
        },
        {
          "name": "stderr",
          "output_type": "stream",
          "text": [
            "100%|██████████| 24/24 [00:02<00:00,  8.02it/s]\n"
          ]
        },
        {
          "name": "stdout",
          "output_type": "stream",
          "text": [
            "[ Valid | 025/100 ] loss = 1.54406, acc = 0.87650\n",
            "========================================================================================================\n",
            "[ Train | 026/100 ] loss = 1.53517, acc = 0.88348\n"
          ]
        },
        {
          "name": "stderr",
          "output_type": "stream",
          "text": [
            "100%|██████████| 24/24 [00:03<00:00,  7.79it/s]\n"
          ]
        },
        {
          "name": "stdout",
          "output_type": "stream",
          "text": [
            "[ Valid | 026/100 ] loss = 1.55020, acc = 0.86222\n",
            "========================================================================================================\n",
            "[ Train | 027/100 ] loss = 1.53567, acc = 0.88510\n"
          ]
        },
        {
          "name": "stderr",
          "output_type": "stream",
          "text": [
            "100%|██████████| 24/24 [00:03<00:00,  7.81it/s]\n"
          ]
        },
        {
          "name": "stdout",
          "output_type": "stream",
          "text": [
            "[ Valid | 027/100 ] loss = 1.54933, acc = 0.86600\n",
            "========================================================================================================\n",
            "[ Train | 028/100 ] loss = 1.53628, acc = 0.88360\n"
          ]
        },
        {
          "name": "stderr",
          "output_type": "stream",
          "text": [
            "100%|██████████| 24/24 [00:03<00:00,  7.76it/s]\n"
          ]
        },
        {
          "name": "stdout",
          "output_type": "stream",
          "text": [
            "[ Valid | 028/100 ] loss = 1.54347, acc = 0.87440\n",
            "========================================================================================================\n",
            "[ Train | 029/100 ] loss = 1.53388, acc = 0.88486\n"
          ]
        },
        {
          "name": "stderr",
          "output_type": "stream",
          "text": [
            "100%|██████████| 24/24 [00:02<00:00,  8.14it/s]\n"
          ]
        },
        {
          "name": "stdout",
          "output_type": "stream",
          "text": [
            "[ Valid | 029/100 ] loss = 1.54334, acc = 0.87315\n",
            "========================================================================================================\n",
            "[ Train | 030/100 ] loss = 1.53471, acc = 0.88481\n"
          ]
        },
        {
          "name": "stderr",
          "output_type": "stream",
          "text": [
            "100%|██████████| 24/24 [00:02<00:00,  8.27it/s]\n"
          ]
        },
        {
          "name": "stdout",
          "output_type": "stream",
          "text": [
            "[ Valid | 030/100 ] loss = 1.54703, acc = 0.86779\n",
            "========================================================================================================\n",
            "[ Train | 031/100 ] loss = 1.53402, acc = 0.88708\n"
          ]
        },
        {
          "name": "stderr",
          "output_type": "stream",
          "text": [
            "100%|██████████| 24/24 [00:02<00:00,  8.59it/s]\n"
          ]
        },
        {
          "name": "stdout",
          "output_type": "stream",
          "text": [
            "[ Valid | 031/100 ] loss = 1.56375, acc = 0.84784\n",
            "========================================================================================================\n",
            "[ Train | 032/100 ] loss = 1.53544, acc = 0.88414\n"
          ]
        },
        {
          "name": "stderr",
          "output_type": "stream",
          "text": [
            "100%|██████████| 24/24 [00:02<00:00,  8.23it/s]"
          ]
        },
        {
          "name": "stdout",
          "output_type": "stream",
          "text": [
            "[ Valid | 032/100 ] loss = 1.54864, acc = 0.87506\n",
            "No improvment 10 consecutive epochs, early stopping\n",
            "Finished Training\n"
          ]
        },
        {
          "name": "stderr",
          "output_type": "stream",
          "text": [
            "\n"
          ]
        }
      ],
      "source": [
        "train_loss_epoch = []\n",
        "val_loss_epoch = []\n",
        "\n",
        "best_acc = 0\n",
        "epoch_counter = 0\n",
        "\n",
        "for epoch in range(n_epoch):  # loop over the dataset multiple times\n",
        "\n",
        "\n",
        "    running_loss = 0.0\n",
        "    epoch_counter += 1\n",
        "\n",
        "    ################## Training ##################\n",
        "    # These are used to record information in training.\n",
        "    train_loss = []\n",
        "    train_accs = []\n",
        "\n",
        "    for i, data in enumerate(trainloader):\n",
        "        # get the inputs; data is a list of [inputs, labels]\n",
        "        inputs, labels = data\n",
        "        if use_gpu:\n",
        "            inputs, labels = inputs.cuda(),labels.cuda()\n",
        "        # zero the parameter gradients\n",
        "        optimizer.zero_grad()\n",
        "        # forward + backward + optimize\n",
        "        outputs = net(inputs)\n",
        "        loss = criterion(outputs, labels)\n",
        "        loss.backward()\n",
        "        optimizer.step()\n",
        "\n",
        "        # Compute the accuracy for current batch.\n",
        "        acc = (outputs.argmax(dim=-1) == labels.to(device)).float().mean()\n",
        "\n",
        "        # Record the loss and accuracy.\n",
        "        train_loss.append(loss.item())\n",
        "        train_accs.append(acc)\n",
        "\n",
        "    train_loss = sum(train_loss) / len(train_loss)\n",
        "    train_acc = sum(train_accs) / len(train_accs)\n",
        "\n",
        "    train_loss_epoch.append(train_loss)\n",
        "\n",
        "\n",
        "    # Print the information.\n",
        "    print('========================================================================================================')\n",
        "    print(f\"[ Train | {epoch + 1:03d}/{n_epoch:03d} ] loss = {train_loss:.5f}, acc = {train_acc:.5f}\")\n",
        "\n",
        "    ################## Validition ##################\n",
        "    valid_loss = []\n",
        "    valid_accs = []\n",
        "\n",
        "    # Iterate the validation set by batches.\n",
        "    for data in tqdm(validloader):\n",
        "\n",
        "        # A batch consists of image data and corresponding labels.\n",
        "        imgs, labels = data\n",
        "        #imgs = imgs.half()\n",
        "\n",
        "        # We don't need gradient in validation.\n",
        "        # Using torch.no_grad() accelerates the forward process.\n",
        "        with torch.no_grad():\n",
        "            logits = net(imgs.to(device))\n",
        "\n",
        "        # We can still compute the loss (but not the gradient).\n",
        "        loss = criterion(logits, labels.to(device))\n",
        "\n",
        "        # Compute the accuracy for current batch.\n",
        "        acc = (logits.argmax(dim=-1) == labels.to(device)).float().mean()\n",
        "\n",
        "        # Record the loss and accuracy.\n",
        "        valid_loss.append(loss.item())\n",
        "        valid_accs.append(acc.item())\n",
        "        #break\n",
        "\n",
        "    valid_loss = sum(valid_loss) / len(valid_loss)\n",
        "    valid_acc = sum(valid_accs) / len(valid_accs)\n",
        "\n",
        "    val_loss_epoch.append(valid_loss)\n",
        "\n",
        "\n",
        "    # Print the information.\n",
        "    print(f\"[ Valid | {epoch + 1:03d}/{n_epoch:03d} ] loss = {valid_loss:.5f}, acc = {valid_acc:.5f}\")\n",
        "\n",
        "\n",
        "     # save models\n",
        "    if valid_acc > best_acc:\n",
        "        print(f\"Best model found at epoch {epoch + 1:03d}, saving model\")\n",
        "        torch.save(net.state_dict(), f\"{_exp_name}_best.ckpt\") # only save best to prevent output memory exceed error\n",
        "        best_acc = valid_acc\n",
        "        stale = 0\n",
        "    else:\n",
        "        stale += 1\n",
        "        if stale > patience:\n",
        "            print(f\"No improvment {patience} consecutive epochs, early stopping\")\n",
        "            break\n",
        "\n",
        "print('Finished Training')"
      ]
    },
    {
      "cell_type": "markdown",
      "metadata": {
        "id": "i1FysodHZ_Vy"
      },
      "source": [
        "# Model Testing"
      ]
    },
    {
      "cell_type": "markdown",
      "metadata": {
        "id": "tE5Wel6g1r67"
      },
      "source": [
        "Your test accuracy  shoud be greater than 85%"
      ]
    },
    {
      "cell_type": "code",
      "execution_count": 70,
      "metadata": {
        "colab": {
          "base_uri": "https://localhost:8080/"
        },
        "id": "0qU93KBtvE-N",
        "outputId": "a6f060d2-eaea-4f77-f704-574c447ec5a3"
      },
      "outputs": [
        {
          "name": "stdout",
          "output_type": "stream",
          "text": [
            "Accuracy of the network on the 10000 test images: 86 %\n"
          ]
        }
      ],
      "source": [
        "correct = 0\n",
        "total = 0\n",
        "# since we're not training, we don't need to calculate the gradients for our outputs\n",
        "with torch.no_grad():\n",
        "    for data in testloader:\n",
        "        images, labels = data\n",
        "        if use_gpu:\n",
        "            images, labels = images.cuda(),labels.cuda()\n",
        "        # calculate outputs by running images through the network\n",
        "        outputs = net(images)\n",
        "        # the class with the highest energy is what we choose as prediction\n",
        "        _, predicted = torch.max(outputs.data, 1)\n",
        "        total += labels.size(0)\n",
        "        correct += (predicted == labels).sum().item()\n",
        "\n",
        "print(f'Accuracy of the network on the 10000 test images: {100 * correct // total} %')"
      ]
    },
    {
      "cell_type": "markdown",
      "metadata": {
        "id": "8S5nKlhLaIq-"
      },
      "source": [
        "# Plot the train/val Loss curve"
      ]
    },
    {
      "cell_type": "markdown",
      "metadata": {
        "id": "y7scBA59aXjl"
      },
      "source": [
        "# Plot the train/val loss curve"
      ]
    },
    {
      "cell_type": "code",
      "execution_count": 71,
      "metadata": {
        "id": "1cX3Gest2APC"
      },
      "outputs": [
        {
          "data": {
            "image/png": "[encoded data removed]",
            "text/plain": [
              "<Figure size 640x480 with 1 Axes>"
            ]
          },
          "metadata": {},
          "output_type": "display_data"
        }
      ],
      "source": [
        "from matplotlib import pyplot as plt\n",
        "### TODO : Please plot the rain/val loss curve ###\n",
        "\n",
        "\n",
        "plt.plot(train_loss_epoch, label = 'train_loss')\n",
        "plt.plot(val_loss_epoch, label = 'valid_loss')\n",
        "plt.xlabel('Epoch')\n",
        "plt.ylabel('Loss')\n",
        "plt.legend()\n",
        "plt.show()\n",
        "###########################################################"
      ]
    },
    {
      "cell_type": "markdown",
      "metadata": {
        "id": "YtzycHHEaotl"
      },
      "source": [
        "## Downloading \".onnx file\" , and using  Netron to visualize the model\n"
      ]
    },
    {
      "cell_type": "markdown",
      "metadata": {
        "id": "DTnCedWtdX7R"
      },
      "source": [
        "Save the model in .onnx format\n"
      ]
    },
    {
      "cell_type": "code",
      "execution_count": 67,
      "metadata": {
        "id": "qWkJWw1leJal"
      },
      "outputs": [],
      "source": [
        "# Some standard imports\n",
        "import io\n",
        "import torch.utils.model_zoo as model_zoo\n",
        "import torch.onnx\n",
        "\n",
        "trained_net = DNN().cuda()\n",
        "\n",
        "input_shape = torch.randn(1,1,28,28).cuda()\n",
        "trained_net_weight = torch.load(\"N26122246_minist_best.ckpt\")\n",
        "trained_net.load_state_dict(trained_net_weight,strict=False)\n",
        "trained_net.eval()\n",
        "\n",
        "### TODO : export your model in .onnx format ###\n",
        "torch.onnx.export( trained_net,\n",
        "                  input_shape,\n",
        "                  \"N26122246_fashion_mnist.onnx\",\n",
        "                  opset_version=10,\n",
        "                  do_constant_folding=True,\n",
        "                  input_names = ['input'],\n",
        "                  output_names = ['output'],\n",
        "                  dynamic_axes={'input' : {0 : 'batch_size'},    # variable length axes\n",
        "                                'output' : {0 : 'batch_size'}})\n",
        "\n"
      ]
    },
    {
      "cell_type": "markdown",
      "metadata": {},
      "source": [
        "https://netron.app/"
      ]
    }
  ],
  "metadata": {
    "accelerator": "GPU",
    "colab": {
      "gpuType": "T4",
      "provenance": []
    },
    "kernelspec": {
      "display_name": "Python 3",
      "name": "python3"
    },
    "language_info": {
      "codemirror_mode": {
        "name": "ipython",
        "version": 3
      },
      "file_extension": ".py",
      "mimetype": "text/x-python",
      "name": "python",
      "nbconvert_exporter": "python",
      "pygments_lexer": "ipython3",
      "version": "3.11.6"
    }
  },
  "nbformat": 4,
  "nbformat_minor": 0
}
