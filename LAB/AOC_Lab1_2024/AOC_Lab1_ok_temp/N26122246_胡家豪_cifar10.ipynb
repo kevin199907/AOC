{
  "cells": [
    {
      "cell_type": "code",
      "execution_count": 89,
      "metadata": {
        "id": "4pUIX5bUsmOv"
      },
      "outputs": [],
      "source": [
        "import torch\n",
        "import torch.nn as nn\n",
        "import torch.nn.functional as F\n",
        "import torchvision\n",
        "import torchvision.transforms as transforms\n",
        "from torchsummary import summary\n",
        "import torch.optim as optim\n",
        "from torchvision import datasets\n",
        "from tqdm import tqdm\n",
        "import numpy as np\n",
        "from torch.utils.data.sampler import SubsetRandomSampler\n",
        "\n",
        "device = torch.device('cuda:0' if torch.cuda.is_available() else 'cpu')\n",
        "use_gpu = torch.cuda.is_available()"
      ]
    },
    {
      "cell_type": "markdown",
      "metadata": {
        "id": "1LrOZnfTZbX9"
      },
      "source": [
        "# Model Design\n"
      ]
    },
    {
      "cell_type": "markdown",
      "metadata": {
        "id": "72yQM3hcb9FR"
      },
      "source": [
        "Some tips you can use in the model design:\n",
        "\n",
        "*   Convolution\n",
        "*   Linear\n",
        "*   Pooling\n",
        "*   Batch normalization\n",
        "*   RELU\n",
        "*   Dropout\n",
        "\n",
        "\n"
      ]
    },
    {
      "cell_type": "code",
      "execution_count": 167,
      "metadata": {
        "id": "w-3SbQPRbrgj"
      },
      "outputs": [],
      "source": [
        "import torch\n",
        "import torch.nn as nn\n",
        "\n",
        "class DNN(nn.Module):\n",
        "    def __init__(self):\n",
        "        super(DNN, self).__init__()\n",
        "        ### TODO : You can design the model architechture ###\n",
        "\n",
        "        self.conv1 = nn.Conv2d(in_channels= 3 , out_channels=32, kernel_size=3, stride=1, padding=1, bias= False)\n",
        "        self.bn1 = nn.BatchNorm2d(32)\n",
        "        self.conv2 = nn.Conv2d(in_channels= 32 , out_channels=32, kernel_size=3, stride=1, padding=1, bias= False)\n",
        "        self.maxpool1 = nn.MaxPool2d(kernel_size=2,stride=2)\n",
        "        self.conv3 = nn.Conv2d(in_channels= 32 , out_channels=64, kernel_size=3, stride=1, padding=1, bias= False)\n",
        "        self.bn2 = nn.BatchNorm2d(64) \n",
        "        self.conv4 = nn.Conv2d(in_channels=64 , out_channels=64, kernel_size=3, stride=1, padding=1, bias= False)\n",
        "        self.conv5 = nn.Conv2d(in_channels=64 , out_channels=128, kernel_size=3, stride=1, padding=1, bias= False)\n",
        "        self.bn3 = nn.BatchNorm2d(128)\n",
        "        self.conv6 = nn.Conv2d(in_channels=128 , out_channels=128, kernel_size=3, stride=1, padding=1, bias= False)\n",
        "        self.dropout1 = nn.Dropout(0.3)\n",
        "        self.flatten = nn.Flatten()\n",
        "        self.linear1 = nn.Linear(8192,4096)\n",
        "        self.bn4 = nn.BatchNorm1d(4096)\n",
        "        self.linear2 = nn.Linear(4096,1024)\n",
        "        self.bn5 = nn.BatchNorm1d(1024)\n",
        "        self.linear3 = nn.Linear(1024,256)\n",
        "        self.bn6 = nn.BatchNorm1d(256)\n",
        "        self.linear4 = nn.Linear(256,32)\n",
        "        self.bn7 = nn.BatchNorm1d(32)\n",
        "        self.linear5 = nn.Linear(32,10)\n",
        "\n",
        "         ######################################################\n",
        "    def forward(self,x):\n",
        "        x = self.conv1(x)\n",
        "        x = F.relu(x)\n",
        "        x = self.bn1(x)\n",
        "        x = self.conv2(x)\n",
        "        x = F.relu(x)\n",
        "        x = self.bn1(x)\n",
        "        x = self.maxpool1(x)\n",
        "        x = self.dropout1(x)\n",
        "        x = self.conv3(x)\n",
        "        x = F.relu(x)\n",
        "        x = self.bn2(x)\n",
        "        x = self.conv4(x)\n",
        "        x = F.relu(x)\n",
        "        x = self.bn2(x)\n",
        "        x = self.maxpool1(x)\n",
        "        x = self.dropout1(x)\n",
        "        x = self.conv5(x)\n",
        "        x = F.relu(x)\n",
        "        x = self.bn3(x)\n",
        "        x = self.conv6(x)\n",
        "        x = F.relu(x)\n",
        "        x = self.bn3(x)\n",
        "        x = self.dropout1(x)\n",
        "        x = self.flatten(x)\n",
        "        \n",
        "        x = self.linear1(x)\n",
        "        x = F.relu(x)\n",
        "        x = self.bn4(x)\n",
        "        x = self.dropout1(x)\n",
        "\n",
        "        x = self.linear2(x)\n",
        "        x = F.relu(x)\n",
        "        x = self.bn5(x)\n",
        "        x = self.dropout1(x)\n",
        "\n",
        "        x = self.linear3(x)\n",
        "        x = F.relu(x)\n",
        "        x = self.bn6(x)\n",
        "        x = self.dropout1(x)\n",
        "\n",
        "        x = self.linear4(x)\n",
        "        x = F.relu(x)\n",
        "        x = self.bn7(x)\n",
        "        x = self.dropout1(x)\n",
        "        x = self.linear5(x)\n",
        "        \n",
        "        \n",
        "\n",
        "        return x\n",
        "\n",
        "\n"
      ]
    },
    {
      "cell_type": "code",
      "execution_count": 168,
      "metadata": {
        "id": "AE5V7xlThSvZ"
      },
      "outputs": [],
      "source": [
        "# Create an instance of the DNN model\n",
        "net = DNN().cuda()  # Move the model to GPU if available"
      ]
    },
    {
      "cell_type": "markdown",
      "metadata": {
        "id": "Axxipd9UZu8f"
      },
      "source": [
        "# Caculating the number of the parameter and the MACs of the model"
      ]
    },
    {
      "cell_type": "code",
      "execution_count": 169,
      "metadata": {
        "colab": {
          "base_uri": "https://localhost:8080/"
        },
        "id": "I9Ij-VC8tIk8",
        "outputId": "b2e36ff5-cf91-4ea8-ebdf-5709f809d34c"
      },
      "outputs": [
        {
          "name": "stdout",
          "output_type": "stream",
          "text": [
            "----------------------------------------------------------------\n",
            "        Layer (type)               Output Shape         Param #\n",
            "================================================================\n",
            "            Conv2d-1           [-1, 32, 32, 32]             864\n",
            "       BatchNorm2d-2           [-1, 32, 32, 32]              64\n",
            "            Conv2d-3           [-1, 32, 32, 32]           9,216\n",
            "       BatchNorm2d-4           [-1, 32, 32, 32]              64\n",
            "         MaxPool2d-5           [-1, 32, 16, 16]               0\n",
            "           Dropout-6           [-1, 32, 16, 16]               0\n",
            "            Conv2d-7           [-1, 64, 16, 16]          18,432\n",
            "       BatchNorm2d-8           [-1, 64, 16, 16]             128\n",
            "            Conv2d-9           [-1, 64, 16, 16]          36,864\n",
            "      BatchNorm2d-10           [-1, 64, 16, 16]             128\n",
            "        MaxPool2d-11             [-1, 64, 8, 8]               0\n",
            "          Dropout-12             [-1, 64, 8, 8]               0\n",
            "           Conv2d-13            [-1, 128, 8, 8]          73,728\n",
            "      BatchNorm2d-14            [-1, 128, 8, 8]             256\n",
            "           Conv2d-15            [-1, 128, 8, 8]         147,456\n",
            "      BatchNorm2d-16            [-1, 128, 8, 8]             256\n",
            "          Dropout-17            [-1, 128, 8, 8]               0\n",
            "          Flatten-18                 [-1, 8192]               0\n",
            "           Linear-19                 [-1, 4096]      33,558,528\n",
            "      BatchNorm1d-20                 [-1, 4096]           8,192\n",
            "          Dropout-21                 [-1, 4096]               0\n",
            "           Linear-22                 [-1, 1024]       4,195,328\n",
            "      BatchNorm1d-23                 [-1, 1024]           2,048\n",
            "          Dropout-24                 [-1, 1024]               0\n",
            "           Linear-25                  [-1, 256]         262,400\n",
            "      BatchNorm1d-26                  [-1, 256]             512\n",
            "          Dropout-27                  [-1, 256]               0\n",
            "           Linear-28                   [-1, 32]           8,224\n",
            "      BatchNorm1d-29                   [-1, 32]              64\n",
            "          Dropout-30                   [-1, 32]               0\n",
            "           Linear-31                   [-1, 10]             330\n",
            "================================================================\n",
            "Total params: 38,323,082\n",
            "Trainable params: 38,323,082\n",
            "Non-trainable params: 0\n",
            "----------------------------------------------------------------\n",
            "Input size (MB): 0.01\n",
            "Forward/backward pass size (MB): 2.19\n",
            "Params size (MB): 146.19\n",
            "Estimated Total Size (MB): 148.39\n",
            "----------------------------------------------------------------\n",
            "[INFO] Register count_convNd() for <class 'torch.nn.modules.conv.Conv2d'>.\n",
            "[INFO] Register count_normalization() for <class 'torch.nn.modules.batchnorm.BatchNorm2d'>.\n",
            "[INFO] Register zero_ops() for <class 'torch.nn.modules.pooling.MaxPool2d'>.\n",
            "[INFO] Register zero_ops() for <class 'torch.nn.modules.dropout.Dropout'>.\n",
            "[INFO] Register count_linear() for <class 'torch.nn.modules.linear.Linear'>.\n",
            "[INFO] Register count_normalization() for <class 'torch.nn.modules.batchnorm.BatchNorm1d'>.\n",
            "MACs = 0.077133248G\n",
            "Params = 38.322634M\n"
          ]
        }
      ],
      "source": [
        "def count_parameters(model):\n",
        "    return sum(p.numel() for p in model.parameters() if p.requires_grad)\n",
        "grad_para = count_parameters(net)\n",
        "# print(f'Total params: {grad_para / 1e6}M')\n",
        "summary(net,(3,32,32))\n",
        "\n",
        "#Compute MACs\n",
        "from thop import profile\n",
        "input1 = torch.randn(1,3,32,32).cuda()\n",
        "MACs, params = profile(net, inputs=(input1, ))\n",
        "print('MACs = ' + str(MACs/1000**3) + 'G')\n",
        "print('Params = ' + str(params/1000**2) + 'M')"
      ]
    },
    {
      "cell_type": "markdown",
      "metadata": {
        "id": "9P1zmlUkbUJd"
      },
      "source": [
        "# Configuration"
      ]
    },
    {
      "cell_type": "code",
      "execution_count": 170,
      "metadata": {
        "id": "OAqeDnegt-wW"
      },
      "outputs": [],
      "source": [
        "### You can modify the configuration for model training ###\n",
        "\n",
        "# For the classification task, we use cross-entropy as the measurement of performance.\n",
        "criterion = nn.CrossEntropyLoss()\n",
        "\n",
        "# Initialize optimizer, you may fine-tune some hyperparameters such as learning rate on your own.\n",
        "optimizer = optim.Adam(net.parameters(), lr=0.001)\n",
        "\n",
        "# The number of batch size.\n",
        "batch_size = 128\n",
        "\n",
        "# If no improvement in 'patience' epochs, early stop.\n",
        "patience  = 10\n",
        "\n",
        "# The number of training epochs\n",
        "n_epoch = 200\n",
        "\n",
        "_exp_name = \"N26122246_cifar10\""
      ]
    },
    {
      "cell_type": "markdown",
      "metadata": {
        "id": "YAQbIclcm0JX"
      },
      "source": [
        "# Dataloader"
      ]
    },
    {
      "cell_type": "code",
      "execution_count": 171,
      "metadata": {
        "colab": {
          "base_uri": "https://localhost:8080/"
        },
        "id": "oIVOCYSLm0RO",
        "outputId": "cbba130a-31dd-414e-9284-f7bdb2a2cf9c"
      },
      "outputs": [
        {
          "name": "stdout",
          "output_type": "stream",
          "text": [
            "Files already downloaded and verified\n",
            "Files already downloaded and verified\n"
          ]
        }
      ],
      "source": [
        "transform = transforms.Compose(\n",
        "    [transforms.ToTensor(),\n",
        "     transforms.Normalize((0.5, 0.5, 0.5), (0.5, 0.5, 0.5))])\n",
        "\n",
        "# Select training_set and testing_set\n",
        "train_data = datasets.CIFAR10(\"data\",train= True, download=True,   transform = transform)\n",
        "\n",
        "test_data = datasets.CIFAR10(\"data\",  train= False, download=True, transform = transform)\n",
        "\n",
        "# # Number of subprocesses to use for data loading\n",
        "# num_workers = 0\n",
        "\n",
        "# Percentage of training set to use as validation\n",
        "n_valid = 0.2\n",
        "\n",
        "# Get indices for training_set and validation_set\n",
        "n_train = len(train_data)\n",
        "indices = list(range(n_train))\n",
        "np.random.shuffle(indices)\n",
        "\n",
        "split = int(np.floor(n_valid * n_train))\n",
        "train_idx, valid_idx = indices[split:], indices[:split]\n",
        "\n",
        "# Define samplers for obtaining training and validation\n",
        "train_sampler = SubsetRandomSampler(train_idx)\n",
        "valid_sampler = SubsetRandomSampler(valid_idx)\n"
      ]
    },
    {
      "cell_type": "code",
      "execution_count": 172,
      "metadata": {
        "colab": {
          "base_uri": "https://localhost:8080/"
        },
        "id": "McDXU5qdtujs",
        "outputId": "67fb3060-1f22-47c9-b595-1bbdcb832a82"
      },
      "outputs": [
        {
          "name": "stdout",
          "output_type": "stream",
          "text": [
            "Files already downloaded and verified\n",
            "Files already downloaded and verified\n"
          ]
        }
      ],
      "source": [
        "# Training data\n",
        "trainset = torchvision.datasets.CIFAR10(root='./data', train=True, download=True, transform=transform)\n",
        "trainloader = torch.utils.data.DataLoader(trainset, batch_size=batch_size,  sampler = train_sampler , num_workers=2)\n",
        "\n",
        "# Validation data\n",
        "validloader = torch.utils.data.DataLoader(trainset, batch_size = batch_size, sampler = valid_sampler, num_workers = 2)\n",
        "\n",
        "# Test data\n",
        "testset = torchvision.datasets.CIFAR10(root='./data', train=False, download=True, transform=transform)\n",
        "testloader = torch.utils.data.DataLoader(testset, batch_size=batch_size,  num_workers=2)\n",
        "\n",
        "classes = ('plane', 'car', 'bird', 'cat', 'deer', 'dog', 'frog', 'horse', 'ship', 'truck')"
      ]
    },
    {
      "cell_type": "markdown",
      "metadata": {
        "id": "6brCFwGvbW2M"
      },
      "source": [
        "# Model Training"
      ]
    },
    {
      "cell_type": "code",
      "execution_count": 173,
      "metadata": {
        "colab": {
          "base_uri": "https://localhost:8080/"
        },
        "id": "82O8vrH8ul3Z",
        "outputId": "c839f1e6-9952-42e1-9db6-1aa69ea5d5ec"
      },
      "outputs": [
        {
          "name": "stdout",
          "output_type": "stream",
          "text": [
            "========================================================================================================\n",
            "[ Train | 001/200 ] loss = 1.50662, acc = 0.46423\n"
          ]
        },
        {
          "name": "stderr",
          "output_type": "stream",
          "text": [
            "100%|██████████| 79/79 [00:05<00:00, 14.07it/s]\n"
          ]
        },
        {
          "name": "stdout",
          "output_type": "stream",
          "text": [
            "[ Valid | 001/200 ] loss = 1.20663, acc = 0.58821\n",
            "Best model found at epoch 0, saving model\n",
            "========================================================================================================\n",
            "[ Train | 002/200 ] loss = 1.07575, acc = 0.63508\n"
          ]
        },
        {
          "name": "stderr",
          "output_type": "stream",
          "text": [
            "100%|██████████| 79/79 [00:05<00:00, 14.63it/s]\n"
          ]
        },
        {
          "name": "stdout",
          "output_type": "stream",
          "text": [
            "[ Valid | 002/200 ] loss = 0.99794, acc = 0.66525\n",
            "Best model found at epoch 1, saving model\n",
            "========================================================================================================\n",
            "[ Train | 003/200 ] loss = 0.88038, acc = 0.70687\n"
          ]
        },
        {
          "name": "stderr",
          "output_type": "stream",
          "text": [
            "100%|██████████| 79/79 [00:05<00:00, 13.96it/s]\n"
          ]
        },
        {
          "name": "stdout",
          "output_type": "stream",
          "text": [
            "[ Valid | 003/200 ] loss = 0.86294, acc = 0.71331\n",
            "Best model found at epoch 2, saving model\n",
            "========================================================================================================\n",
            "[ Train | 004/200 ] loss = 0.75930, acc = 0.74875\n"
          ]
        },
        {
          "name": "stderr",
          "output_type": "stream",
          "text": [
            "100%|██████████| 79/79 [00:05<00:00, 14.17it/s]\n"
          ]
        },
        {
          "name": "stdout",
          "output_type": "stream",
          "text": [
            "[ Valid | 004/200 ] loss = 0.81248, acc = 0.73803\n",
            "Best model found at epoch 3, saving model\n",
            "========================================================================================================\n",
            "[ Train | 005/200 ] loss = 0.66277, acc = 0.78150\n"
          ]
        },
        {
          "name": "stderr",
          "output_type": "stream",
          "text": [
            "100%|██████████| 79/79 [00:05<00:00, 14.18it/s]\n"
          ]
        },
        {
          "name": "stdout",
          "output_type": "stream",
          "text": [
            "[ Valid | 005/200 ] loss = 0.77747, acc = 0.74506\n",
            "Best model found at epoch 4, saving model\n",
            "========================================================================================================\n",
            "[ Train | 006/200 ] loss = 0.59134, acc = 0.80756\n"
          ]
        },
        {
          "name": "stderr",
          "output_type": "stream",
          "text": [
            "100%|██████████| 79/79 [00:05<00:00, 14.22it/s]\n"
          ]
        },
        {
          "name": "stdout",
          "output_type": "stream",
          "text": [
            "[ Valid | 006/200 ] loss = 0.75643, acc = 0.76078\n",
            "Best model found at epoch 5, saving model\n",
            "========================================================================================================\n",
            "[ Train | 007/200 ] loss = 0.56265, acc = 0.81757\n"
          ]
        },
        {
          "name": "stderr",
          "output_type": "stream",
          "text": [
            "100%|██████████| 79/79 [00:05<00:00, 14.20it/s]\n"
          ]
        },
        {
          "name": "stdout",
          "output_type": "stream",
          "text": [
            "[ Valid | 007/200 ] loss = 0.73694, acc = 0.76295\n",
            "Best model found at epoch 6, saving model\n",
            "========================================================================================================\n",
            "[ Train | 008/200 ] loss = 0.52715, acc = 0.83144\n"
          ]
        },
        {
          "name": "stderr",
          "output_type": "stream",
          "text": [
            "100%|██████████| 79/79 [00:05<00:00, 14.28it/s]\n"
          ]
        },
        {
          "name": "stdout",
          "output_type": "stream",
          "text": [
            "[ Valid | 008/200 ] loss = 0.76670, acc = 0.75811\n",
            "========================================================================================================\n",
            "[ Train | 009/200 ] loss = 0.44659, acc = 0.85700\n"
          ]
        },
        {
          "name": "stderr",
          "output_type": "stream",
          "text": [
            "100%|██████████| 79/79 [00:05<00:00, 14.21it/s]\n"
          ]
        },
        {
          "name": "stdout",
          "output_type": "stream",
          "text": [
            "[ Valid | 009/200 ] loss = 0.74698, acc = 0.76810\n",
            "Best model found at epoch 8, saving model\n",
            "========================================================================================================\n",
            "[ Train | 010/200 ] loss = 0.44366, acc = 0.85531\n"
          ]
        },
        {
          "name": "stderr",
          "output_type": "stream",
          "text": [
            "100%|██████████| 79/79 [00:05<00:00, 14.24it/s]\n"
          ]
        },
        {
          "name": "stdout",
          "output_type": "stream",
          "text": [
            "[ Valid | 010/200 ] loss = 0.83237, acc = 0.73991\n",
            "========================================================================================================\n",
            "[ Train | 011/200 ] loss = 0.41799, acc = 0.86569\n"
          ]
        },
        {
          "name": "stderr",
          "output_type": "stream",
          "text": [
            "100%|██████████| 79/79 [00:05<00:00, 14.37it/s]\n"
          ]
        },
        {
          "name": "stdout",
          "output_type": "stream",
          "text": [
            "[ Valid | 011/200 ] loss = 0.85935, acc = 0.74733\n",
            "========================================================================================================\n",
            "[ Train | 012/200 ] loss = 0.34509, acc = 0.89015\n"
          ]
        },
        {
          "name": "stderr",
          "output_type": "stream",
          "text": [
            "100%|██████████| 79/79 [00:05<00:00, 14.36it/s]\n"
          ]
        },
        {
          "name": "stdout",
          "output_type": "stream",
          "text": [
            "[ Valid | 012/200 ] loss = 0.80444, acc = 0.76582\n",
            "========================================================================================================\n",
            "[ Train | 013/200 ] loss = 0.29570, acc = 0.90500\n"
          ]
        },
        {
          "name": "stderr",
          "output_type": "stream",
          "text": [
            "100%|██████████| 79/79 [00:05<00:00, 14.28it/s]\n"
          ]
        },
        {
          "name": "stdout",
          "output_type": "stream",
          "text": [
            "[ Valid | 013/200 ] loss = 0.82152, acc = 0.76820\n",
            "Best model found at epoch 12, saving model\n",
            "========================================================================================================\n",
            "[ Train | 014/200 ] loss = 0.26301, acc = 0.91666\n"
          ]
        },
        {
          "name": "stderr",
          "output_type": "stream",
          "text": [
            "100%|██████████| 79/79 [00:05<00:00, 14.19it/s]\n"
          ]
        },
        {
          "name": "stdout",
          "output_type": "stream",
          "text": [
            "[ Valid | 014/200 ] loss = 0.85061, acc = 0.76305\n",
            "========================================================================================================\n",
            "[ Train | 015/200 ] loss = 0.29345, acc = 0.90618\n"
          ]
        },
        {
          "name": "stderr",
          "output_type": "stream",
          "text": [
            "100%|██████████| 79/79 [00:05<00:00, 14.40it/s]\n"
          ]
        },
        {
          "name": "stdout",
          "output_type": "stream",
          "text": [
            "[ Valid | 015/200 ] loss = 0.83801, acc = 0.76830\n",
            "Best model found at epoch 14, saving model\n",
            "========================================================================================================\n",
            "[ Train | 016/200 ] loss = 0.23266, acc = 0.92492\n"
          ]
        },
        {
          "name": "stderr",
          "output_type": "stream",
          "text": [
            "100%|██████████| 79/79 [00:05<00:00, 14.22it/s]\n"
          ]
        },
        {
          "name": "stdout",
          "output_type": "stream",
          "text": [
            "[ Valid | 016/200 ] loss = 0.86131, acc = 0.76760\n",
            "========================================================================================================\n",
            "[ Train | 017/200 ] loss = 0.21598, acc = 0.93014\n"
          ]
        },
        {
          "name": "stderr",
          "output_type": "stream",
          "text": [
            "100%|██████████| 79/79 [00:05<00:00, 14.32it/s]\n"
          ]
        },
        {
          "name": "stdout",
          "output_type": "stream",
          "text": [
            "[ Valid | 017/200 ] loss = 0.89729, acc = 0.76998\n",
            "Best model found at epoch 16, saving model\n",
            "========================================================================================================\n",
            "[ Train | 018/200 ] loss = 0.25907, acc = 0.91628\n"
          ]
        },
        {
          "name": "stderr",
          "output_type": "stream",
          "text": [
            "100%|██████████| 79/79 [00:05<00:00, 14.19it/s]\n"
          ]
        },
        {
          "name": "stdout",
          "output_type": "stream",
          "text": [
            "[ Valid | 018/200 ] loss = 0.98293, acc = 0.74733\n",
            "========================================================================================================\n",
            "[ Train | 019/200 ] loss = 0.23536, acc = 0.92482\n"
          ]
        },
        {
          "name": "stderr",
          "output_type": "stream",
          "text": [
            "100%|██████████| 79/79 [00:05<00:00, 14.32it/s]\n"
          ]
        },
        {
          "name": "stdout",
          "output_type": "stream",
          "text": [
            "[ Valid | 019/200 ] loss = 0.93570, acc = 0.75376\n",
            "========================================================================================================\n",
            "[ Train | 020/200 ] loss = 0.17952, acc = 0.94242\n"
          ]
        },
        {
          "name": "stderr",
          "output_type": "stream",
          "text": [
            "100%|██████████| 79/79 [00:05<00:00, 14.37it/s]\n"
          ]
        },
        {
          "name": "stdout",
          "output_type": "stream",
          "text": [
            "[ Valid | 020/200 ] loss = 0.90750, acc = 0.77482\n",
            "Best model found at epoch 19, saving model\n",
            "========================================================================================================\n",
            "[ Train | 021/200 ] loss = 0.11924, acc = 0.96131\n"
          ]
        },
        {
          "name": "stderr",
          "output_type": "stream",
          "text": [
            "100%|██████████| 79/79 [00:05<00:00, 14.38it/s]\n"
          ]
        },
        {
          "name": "stdout",
          "output_type": "stream",
          "text": [
            "[ Valid | 021/200 ] loss = 0.96922, acc = 0.77878\n",
            "Best model found at epoch 20, saving model\n",
            "========================================================================================================\n",
            "[ Train | 022/200 ] loss = 0.11387, acc = 0.96306\n"
          ]
        },
        {
          "name": "stderr",
          "output_type": "stream",
          "text": [
            "100%|██████████| 79/79 [00:05<00:00, 14.34it/s]\n"
          ]
        },
        {
          "name": "stdout",
          "output_type": "stream",
          "text": [
            "[ Valid | 022/200 ] loss = 0.98291, acc = 0.77502\n",
            "========================================================================================================\n",
            "[ Train | 023/200 ] loss = 0.10266, acc = 0.96605\n"
          ]
        },
        {
          "name": "stderr",
          "output_type": "stream",
          "text": [
            "100%|██████████| 79/79 [00:05<00:00, 14.15it/s]\n"
          ]
        },
        {
          "name": "stdout",
          "output_type": "stream",
          "text": [
            "[ Valid | 023/200 ] loss = 1.04984, acc = 0.76938\n",
            "========================================================================================================\n",
            "[ Train | 024/200 ] loss = 0.16678, acc = 0.94579\n"
          ]
        },
        {
          "name": "stderr",
          "output_type": "stream",
          "text": [
            "100%|██████████| 79/79 [00:05<00:00, 13.95it/s]\n"
          ]
        },
        {
          "name": "stdout",
          "output_type": "stream",
          "text": [
            "[ Valid | 024/200 ] loss = 0.94525, acc = 0.77087\n",
            "========================================================================================================\n",
            "[ Train | 025/200 ] loss = 0.13334, acc = 0.95659\n"
          ]
        },
        {
          "name": "stderr",
          "output_type": "stream",
          "text": [
            "100%|██████████| 79/79 [00:05<00:00, 14.29it/s]\n"
          ]
        },
        {
          "name": "stdout",
          "output_type": "stream",
          "text": [
            "[ Valid | 025/200 ] loss = 1.01258, acc = 0.76919\n",
            "========================================================================================================\n",
            "[ Train | 026/200 ] loss = 0.11159, acc = 0.96463\n"
          ]
        },
        {
          "name": "stderr",
          "output_type": "stream",
          "text": [
            "100%|██████████| 79/79 [00:05<00:00, 14.16it/s]\n"
          ]
        },
        {
          "name": "stdout",
          "output_type": "stream",
          "text": [
            "[ Valid | 026/200 ] loss = 1.00905, acc = 0.77670\n",
            "========================================================================================================\n",
            "[ Train | 027/200 ] loss = 0.09043, acc = 0.97075\n"
          ]
        },
        {
          "name": "stderr",
          "output_type": "stream",
          "text": [
            "100%|██████████| 79/79 [00:05<00:00, 14.10it/s]\n"
          ]
        },
        {
          "name": "stdout",
          "output_type": "stream",
          "text": [
            "[ Valid | 027/200 ] loss = 1.02939, acc = 0.78085\n",
            "Best model found at epoch 26, saving model\n",
            "========================================================================================================\n",
            "[ Train | 028/200 ] loss = 0.10664, acc = 0.96660\n"
          ]
        },
        {
          "name": "stderr",
          "output_type": "stream",
          "text": [
            "100%|██████████| 79/79 [00:05<00:00, 14.34it/s]\n"
          ]
        },
        {
          "name": "stdout",
          "output_type": "stream",
          "text": [
            "[ Valid | 028/200 ] loss = 1.09220, acc = 0.76691\n",
            "========================================================================================================\n",
            "[ Train | 029/200 ] loss = 0.11293, acc = 0.96453\n"
          ]
        },
        {
          "name": "stderr",
          "output_type": "stream",
          "text": [
            "100%|██████████| 79/79 [00:05<00:00, 13.65it/s]\n"
          ]
        },
        {
          "name": "stdout",
          "output_type": "stream",
          "text": [
            "[ Valid | 029/200 ] loss = 1.05399, acc = 0.76365\n",
            "========================================================================================================\n",
            "[ Train | 030/200 ] loss = 0.17261, acc = 0.94659\n"
          ]
        },
        {
          "name": "stderr",
          "output_type": "stream",
          "text": [
            "100%|██████████| 79/79 [00:05<00:00, 14.19it/s]\n"
          ]
        },
        {
          "name": "stdout",
          "output_type": "stream",
          "text": [
            "[ Valid | 030/200 ] loss = 0.94615, acc = 0.76820\n",
            "========================================================================================================\n",
            "[ Train | 031/200 ] loss = 0.12332, acc = 0.96119\n"
          ]
        },
        {
          "name": "stderr",
          "output_type": "stream",
          "text": [
            "100%|██████████| 79/79 [00:05<00:00, 14.26it/s]\n"
          ]
        },
        {
          "name": "stdout",
          "output_type": "stream",
          "text": [
            "[ Valid | 031/200 ] loss = 1.00858, acc = 0.76493\n",
            "========================================================================================================\n",
            "[ Train | 032/200 ] loss = 0.09840, acc = 0.96750\n"
          ]
        },
        {
          "name": "stderr",
          "output_type": "stream",
          "text": [
            "100%|██████████| 79/79 [00:05<00:00, 14.51it/s]\n"
          ]
        },
        {
          "name": "stdout",
          "output_type": "stream",
          "text": [
            "[ Valid | 032/200 ] loss = 1.04531, acc = 0.78036\n",
            "========================================================================================================\n",
            "[ Train | 033/200 ] loss = 0.08853, acc = 0.97262\n"
          ]
        },
        {
          "name": "stderr",
          "output_type": "stream",
          "text": [
            "100%|██████████| 79/79 [00:05<00:00, 14.50it/s]\n"
          ]
        },
        {
          "name": "stdout",
          "output_type": "stream",
          "text": [
            "[ Valid | 033/200 ] loss = 1.01614, acc = 0.78046\n",
            "========================================================================================================\n",
            "[ Train | 034/200 ] loss = 0.07936, acc = 0.97626\n"
          ]
        },
        {
          "name": "stderr",
          "output_type": "stream",
          "text": [
            "100%|██████████| 79/79 [00:05<00:00, 14.34it/s]\n"
          ]
        },
        {
          "name": "stdout",
          "output_type": "stream",
          "text": [
            "[ Valid | 034/200 ] loss = 1.17120, acc = 0.75425\n",
            "========================================================================================================\n",
            "[ Train | 035/200 ] loss = 0.09021, acc = 0.97110\n"
          ]
        },
        {
          "name": "stderr",
          "output_type": "stream",
          "text": [
            "100%|██████████| 79/79 [00:05<00:00, 14.45it/s]\n"
          ]
        },
        {
          "name": "stdout",
          "output_type": "stream",
          "text": [
            "[ Valid | 035/200 ] loss = 1.08138, acc = 0.77195\n",
            "========================================================================================================\n",
            "[ Train | 036/200 ] loss = 0.15859, acc = 0.95098\n"
          ]
        },
        {
          "name": "stderr",
          "output_type": "stream",
          "text": [
            "100%|██████████| 79/79 [00:05<00:00, 14.58it/s]\n"
          ]
        },
        {
          "name": "stdout",
          "output_type": "stream",
          "text": [
            "[ Valid | 036/200 ] loss = 0.99808, acc = 0.76493\n",
            "========================================================================================================\n",
            "[ Train | 037/200 ] loss = 0.12817, acc = 0.95929\n"
          ]
        },
        {
          "name": "stderr",
          "output_type": "stream",
          "text": [
            "100%|██████████| 79/79 [00:05<00:00, 14.47it/s]\n"
          ]
        },
        {
          "name": "stdout",
          "output_type": "stream",
          "text": [
            "[ Valid | 037/200 ] loss = 1.10071, acc = 0.76058\n",
            "========================================================================================================\n",
            "[ Train | 038/200 ] loss = 0.08478, acc = 0.97287\n"
          ]
        },
        {
          "name": "stderr",
          "output_type": "stream",
          "text": [
            "100%|██████████| 79/79 [00:05<00:00, 14.46it/s]"
          ]
        },
        {
          "name": "stdout",
          "output_type": "stream",
          "text": [
            "[ Valid | 038/200 ] loss = 1.04352, acc = 0.77423\n",
            "No improvment 10 consecutive epochs, early stopping\n",
            "Finished Training\n"
          ]
        },
        {
          "name": "stderr",
          "output_type": "stream",
          "text": [
            "\n"
          ]
        }
      ],
      "source": [
        "train_loss_epoch = []\n",
        "train_acc_epoch = []\n",
        "val_loss_epoch = []\n",
        "val_acc_epoch = []\n",
        "best_acc = 0\n",
        "epoch_counter = 0\n",
        "\n",
        "for epoch in range(n_epoch):  # loop over the dataset multiple times\n",
        "\n",
        "\n",
        "    running_loss = 0.0\n",
        "    epoch_counter += 1\n",
        "\n",
        "    ################## Training ##################\n",
        "    # These are used to record information in training.\n",
        "    train_loss = []\n",
        "    train_accs = []\n",
        "\n",
        "    for i, data in enumerate(trainloader, 0):\n",
        "        # get the inputs; data is a list of [inputs, labels]\n",
        "        inputs, labels = data\n",
        "        if use_gpu:\n",
        "            inputs, labels = inputs.cuda(),labels.cuda()\n",
        "        # zero the parameter gradients\n",
        "        optimizer.zero_grad()\n",
        "        # forward + backward + optimize\n",
        "        outputs = net(inputs)\n",
        "        loss = criterion(outputs, labels)\n",
        "        loss.backward()\n",
        "        optimizer.step()\n",
        "\n",
        "        # Compute the accuracy for current batch.\n",
        "        acc = (outputs.argmax(dim=-1) == labels.to(device)).float().mean()\n",
        "\n",
        "        # Record the loss and accuracy.\n",
        "        train_loss.append(loss.item())\n",
        "        train_accs.append(acc)\n",
        "\n",
        "    train_loss = sum(train_loss) / len(train_loss)\n",
        "    train_acc = sum(train_accs) / len(train_accs)\n",
        "\n",
        "    train_loss_epoch.append(train_loss)\n",
        "    train_acc_epoch.append(train_acc)\n",
        "\n",
        "    # Print the information.\n",
        "    print('========================================================================================================')\n",
        "    print(f\"[ Train | {epoch + 1:03d}/{n_epoch:03d} ] loss = {train_loss:.5f}, acc = {train_acc:.5f}\")\n",
        "\n",
        "    ################## Validition ##################\n",
        "    valid_loss = []\n",
        "    valid_accs = []\n",
        "\n",
        "    # Iterate the validation set by batches.\n",
        "    for data in tqdm(validloader):\n",
        "\n",
        "        # A batch consists of image data and corresponding labels.\n",
        "        imgs, labels = data\n",
        "        #imgs = imgs.half()\n",
        "\n",
        "        # We don't need gradient in validation.\n",
        "        # Using torch.no_grad() accelerates the forward process.\n",
        "        with torch.no_grad():\n",
        "            logits = net(imgs.to(device))\n",
        "\n",
        "        # We can still compute the loss (but not the gradient).\n",
        "        loss = criterion(logits, labels.to(device))\n",
        "\n",
        "        # Compute the accuracy for current batch.\n",
        "        acc = (logits.argmax(dim=-1) == labels.to(device)).float().mean()\n",
        "\n",
        "        # Record the loss and accuracy.\n",
        "        valid_loss.append(loss.item())\n",
        "        valid_accs.append(acc)\n",
        "        #break\n",
        "\n",
        "    valid_loss = sum(valid_loss) / len(valid_loss)\n",
        "    valid_acc = sum(valid_accs) / len(valid_accs)\n",
        "\n",
        "    val_loss_epoch.append(valid_loss)\n",
        "\n",
        "\n",
        "    # Print the information.\n",
        "    print(f\"[ Valid | {epoch + 1:03d}/{n_epoch:03d} ] loss = {valid_loss:.5f}, acc = {valid_acc:.5f}\")\n",
        "\n",
        "\n",
        "     # save models\n",
        "    if valid_acc > best_acc:\n",
        "        print(f\"Best model found at epoch {epoch}, saving model\")\n",
        "        torch.save(net.state_dict(), f\"{_exp_name}_best.ckpt\") # only save best to prevent output memory exceed error\n",
        "        best_acc = valid_acc\n",
        "        stale = 0\n",
        "    else:\n",
        "        stale += 1\n",
        "        if stale > patience:\n",
        "            print(f\"No improvment {patience} consecutive epochs, early stopping\")\n",
        "            break\n",
        "\n",
        "print('Finished Training')"
      ]
    },
    {
      "cell_type": "markdown",
      "metadata": {
        "id": "i1FysodHZ_Vy"
      },
      "source": [
        "# Model Testing"
      ]
    },
    {
      "cell_type": "markdown",
      "metadata": {
        "id": "tE5Wel6g1r67"
      },
      "source": [
        "Your test accuracy  shoud be greater than 75%"
      ]
    },
    {
      "cell_type": "code",
      "execution_count": 174,
      "metadata": {
        "colab": {
          "base_uri": "https://localhost:8080/"
        },
        "id": "0qU93KBtvE-N",
        "outputId": "aa491452-f206-4585-c861-6b1b3c5d50c6"
      },
      "outputs": [
        {
          "name": "stdout",
          "output_type": "stream",
          "text": [
            "Accuracy of the network on the 10000 test images: 77 %\n"
          ]
        }
      ],
      "source": [
        "correct = 0\n",
        "total = 0\n",
        "# since we're not training, we don't need to calculate the gradients for our outputs\n",
        "with torch.no_grad():\n",
        "    for data in testloader:\n",
        "        images, labels = data\n",
        "        if use_gpu:\n",
        "            images, labels = images.cuda(),labels.cuda()\n",
        "        # calculate outputs by running images through the network\n",
        "        outputs = net(images)\n",
        "        # the class with the highest energy is what we choose as prediction\n",
        "        _, predicted = torch.max(outputs.data, 1)\n",
        "        total += labels.size(0)\n",
        "        correct += (predicted == labels).sum().item()\n",
        "\n",
        "print(f'Accuracy of the network on the 10000 test images: {100 * correct // total} %')"
      ]
    },
    {
      "cell_type": "markdown",
      "metadata": {
        "id": "y7scBA59aXjl"
      },
      "source": [
        "# Plot the train/val loss curve"
      ]
    },
    {
      "cell_type": "code",
      "execution_count": 175,
      "metadata": {
        "id": "1cX3Gest2APC"
      },
      "outputs": [
        {
          "data": {
            "image/png": "[encoded data removed]",
            "text/plain": [
              "<Figure size 640x480 with 1 Axes>"
            ]
          },
          "metadata": {},
          "output_type": "display_data"
        }
      ],
      "source": [
        "from matplotlib import pyplot as plt\n",
        "### TODO : Please plot the rain/val loss curve ###\n",
        "\n",
        "\n",
        "plt.plot(train_loss_epoch, label = 'train_loss')\n",
        "plt.plot(val_loss_epoch, label = 'valid_loss')\n",
        "plt.xlabel('Epoch')\n",
        "plt.ylabel('Loss')\n",
        "plt.legend()\n",
        "plt.show()\n",
        "\n",
        "###########################################################"
      ]
    },
    {
      "cell_type": "markdown",
      "metadata": {
        "id": "YtzycHHEaotl"
      },
      "source": [
        "# Netron"
      ]
    },
    {
      "cell_type": "markdown",
      "metadata": {
        "id": "DTnCedWtdX7R"
      },
      "source": [
        "Save the model in .onnx format\n"
      ]
    },
    {
      "cell_type": "markdown",
      "metadata": {
        "id": "QGLxlr_WksFA"
      },
      "source": [
        "# **Saving your model in .onnx format ,download it , and using Netron to visualize the model**"
      ]
    },
    {
      "cell_type": "code",
      "execution_count": 176,
      "metadata": {
        "id": "qWkJWw1leJal"
      },
      "outputs": [],
      "source": [
        "# Some standard imports\n",
        "import io\n",
        "import torch.utils.model_zoo as model_zoo\n",
        "import torch.onnx\n",
        "\n",
        "trained_net = DNN().cuda()\n",
        "\n",
        "input_shape = torch.randn(1,3,32,32).cuda()\n",
        "trained_net_weight = torch.load(\"N26122246_cifar10_best.ckpt\")\n",
        "trained_net.load_state_dict(trained_net_weight,strict=False)\n",
        "trained_net.eval()\n",
        "\n",
        "### TODO : export your model in .onnx format ###\n",
        "torch.onnx.export( trained_net,\n",
        "                  input_shape,\n",
        "                  \"N26122246_cifar10.onnx\",\n",
        "                  opset_version=10,\n",
        "                  do_constant_folding=True,\n",
        "                  input_names = ['input'],\n",
        "                  output_names = ['output'],\n",
        "                  dynamic_axes={'input' : {0 : 'batch_size'},    # variable length axes\n",
        "                                'output' : {0 : 'batch_size'}})\n",
        "\n",
        "\n"
      ]
    },
    {
      "cell_type": "markdown",
      "metadata": {
        "id": "ovxh4b2MgR1d"
      },
      "source": [
        "\n",
        "\n",
        "\n",
        "*   netron :\n",
        "  https://netron.app/\n",
        "  ![image.png](data:image/png;base64,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)"
      ]
    }
  ],
  "metadata": {
    "accelerator": "GPU",
    "colab": {
      "gpuType": "T4",
      "provenance": []
    },
    "kernelspec": {
      "display_name": "Python 3",
      "name": "python3"
    },
    "language_info": {
      "codemirror_mode": {
        "name": "ipython",
        "version": 3
      },
      "file_extension": ".py",
      "mimetype": "text/x-python",
      "name": "python",
      "nbconvert_exporter": "python",
      "pygments_lexer": "ipython3",
      "version": "3.11.6"
    }
  },
  "nbformat": 4,
  "nbformat_minor": 0
}
