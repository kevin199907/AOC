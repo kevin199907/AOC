{
  "cells": [
    {
      "cell_type": "markdown",
      "metadata": {
        "id": "sHXk_L8g3fDh"
      },
      "source": [
        "# Preprocessing"
      ]
    },
    {
      "cell_type": "code",
      "execution_count": 1,
      "metadata": {
        "id": "tVH9mlCdXrkw"
      },
      "outputs": [
        {
          "name": "stderr",
          "output_type": "stream",
          "text": [
            "c:\\Users\\胡家豪\\AppData\\Local\\Programs\\Python\\Python311\\Lib\\site-packages\\tqdm\\auto.py:21: TqdmWarning: IProgress not found. Please update jupyter and ipywidgets. See https://ipywidgets.readthedocs.io/en/stable/user_install.html\n",
            "  from .autonotebook import tqdm as notebook_tqdm\n"
          ]
        }
      ],
      "source": [
        "import copy\n",
        "import math\n",
        "import random\n",
        "from collections import OrderedDict, defaultdict\n",
        "\n",
        "from matplotlib import pyplot as plt\n",
        "from matplotlib.colors import ListedColormap\n",
        "import numpy as np\n",
        "from tqdm.auto import tqdm\n",
        "\n",
        "import torch\n",
        "from torch import nn\n",
        "from torch.optim import *\n",
        "from torch.optim.lr_scheduler import *\n",
        "import torchvision.models as models\n",
        "import torchvision\n",
        "from torch.utils.data import DataLoader\n",
        "\n",
        "from torchvision.datasets import *\n",
        "from torchvision.transforms import *\n",
        "\n",
        "\n",
        "no_cuda = False\n",
        "use_gpu = not no_cuda and torch.cuda.is_available()\n",
        "device = torch.device(\"cuda\" if use_gpu else \"cpu\")"
      ]
    },
    {
      "cell_type": "code",
      "execution_count": 2,
      "metadata": {},
      "outputs": [],
      "source": [
        "class h_sigmoid(nn.Module):\n",
        "    def __init__(self, inplace=True):\n",
        "        super(h_sigmoid, self).__init__()\n",
        "        self.relu = nn.ReLU6(inplace=inplace)\n",
        "\n",
        "    def forward(self, x):\n",
        "        return self.relu(x + 3) / 6\n",
        "\n",
        "\n",
        "class h_swish(nn.Module):\n",
        "    def __init__(self, inplace=True):\n",
        "        super(h_swish, self).__init__()\n",
        "        self.sigmoid = h_sigmoid(inplace=inplace)\n",
        "\n",
        "    def forward(self, x):\n",
        "        return x * self.sigmoid(x)"
      ]
    },
    {
      "cell_type": "code",
      "execution_count": 3,
      "metadata": {
        "colab": {
          "base_uri": "https://localhost:8080/"
        },
        "id": "bk1U6PcMXtDB",
        "outputId": "58b165e2-e66b-41c5-987d-4fcc1b6a26fa"
      },
      "outputs": [],
      "source": [
        "transform = transforms.Compose([transforms.ToTensor(), transforms.Normalize((0.5,), (0.5,))])\n",
        "\n",
        "batch_size = 32\n",
        "\n",
        "#Dataset\n",
        "train_dataset = torchvision.datasets.FashionMNIST(root='./data', train=True, transform=transform, download=True)\n",
        "test_dataset = torchvision.datasets.FashionMNIST(root='./data', train=False, transform=transform, download=True)\n",
        "\n",
        "#Dataloader\n",
        "train_loader = torch.utils.data.DataLoader(dataset=train_dataset, batch_size=batch_size, shuffle=True)\n",
        "test_loader = torch.utils.data.DataLoader(dataset=test_dataset, batch_size=batch_size, shuffle=False)"
      ]
    },
    {
      "cell_type": "markdown",
      "metadata": {
        "id": "JzMtMm9n3hsZ"
      },
      "source": [
        "Create NN model"
      ]
    },
    {
      "cell_type": "code",
      "execution_count": 4,
      "metadata": {
        "colab": {
          "base_uri": "https://localhost:8080/"
        },
        "id": "i-pKE7xJbOc7",
        "outputId": "fce122fd-5aa8-4d0c-fe2c-94bb60cc64ea"
      },
      "outputs": [
        {
          "name": "stdout",
          "output_type": "stream",
          "text": [
            "ToyModel(\n",
            "  (Conv): Sequential(\n",
            "    (0): Conv2d(1, 5, kernel_size=(1, 1), stride=(1, 1))\n",
            "    (1): h_swish(\n",
            "      (sigmoid): h_sigmoid(\n",
            "        (relu): ReLU6(inplace=True)\n",
            "      )\n",
            "    )\n",
            "    (2): Conv2d(5, 1, kernel_size=(1, 1), stride=(1, 1))\n",
            "    (3): h_swish(\n",
            "      (sigmoid): h_sigmoid(\n",
            "        (relu): ReLU6(inplace=True)\n",
            "      )\n",
            "    )\n",
            "  )\n",
            "  (backbone): Sequential(\n",
            "    (0): Linear(in_features=784, out_features=120, bias=False)\n",
            "    (1): ReLU()\n",
            "    (2): Linear(in_features=120, out_features=84, bias=False)\n",
            "    (3): ReLU()\n",
            "    (4): Linear(in_features=84, out_features=10, bias=False)\n",
            "  )\n",
            ")\n"
          ]
        }
      ],
      "source": [
        "class ToyModel(nn.Module):\n",
        "  def __init__(self):\n",
        "    super().__init__()\n",
        "    self.Conv = nn.Sequential(\n",
        "      nn.Conv2d(in_channels=1, out_channels=5, kernel_size=1, stride=1,padding= 0, bias=True),\n",
        "      h_swish(inplace=True),\n",
        "      nn.Conv2d(in_channels=5, out_channels=1, kernel_size=1, stride=1,padding= 0, bias=True),\n",
        "      h_swish(inplace=True)\n",
        "    )  \n",
        "    self.backbone = nn.Sequential(\n",
        "      nn.Linear(28*28, 120, bias=False),\n",
        "      nn.ReLU(),\n",
        "      nn.Linear(120, 84, bias=False),\n",
        "      nn.ReLU(),\n",
        "      nn.Linear(84, 10, bias=False)\n",
        "    )\n",
        "\n",
        "  def forward(self, x):\n",
        "    x=self.Conv(x)\n",
        "    x = x.view(-1, 28 * 28) #transform 28*28 figure to 784 vector\n",
        "    x = self.backbone(x)\n",
        "    return x\n",
        "\n",
        "FP32_model = ToyModel()\n",
        "print(FP32_model)"
      ]
    },
    {
      "cell_type": "code",
      "execution_count": 5,
      "metadata": {
        "id": "MOyeqSPDbvr5"
      },
      "outputs": [],
      "source": [
        "#train model\n",
        "def train_loop(dataloader, model, loss_fn, optimizer):\n",
        "  size = len(dataloader.dataset)\n",
        "  #Set the model to train mode\n",
        "  model.train()\n",
        "  for batch, (x, y) in enumerate(dataloader):\n",
        "    if use_gpu:\n",
        "      x, y = x.cuda(), y.cuda()\n",
        "    optimizer.zero_grad()\n",
        "    #forward\n",
        "    pred = model(x)\n",
        "\n",
        "    #loss\n",
        "    loss = loss_fn(pred, y)\n",
        "\n",
        "    #backward\n",
        "    loss.backward()\n",
        "\n",
        "    #optimize\n",
        "    optimizer.step()\n",
        "\n",
        "    if batch % 100 == 0:\n",
        "      loss, current = loss.item(), (batch + 1) * len(x)\n",
        "      print(f\"loss: {loss:>7f}  [{current:>5d}/{size:>5d}]\")\n",
        "\n",
        "def test_loop(dataloader, model, loss_fn):\n",
        "  #set model to evaluate mode\n",
        "  model.eval()\n",
        "  size = len(dataloader.dataset)\n",
        "  num_batches = len(dataloader)\n",
        "  test_loss, correct = 0, 0\n",
        "  with torch.no_grad():\n",
        "    for x, y in dataloader:\n",
        "      if use_gpu:\n",
        "        x, y = x.cuda(), y.cuda()\n",
        "      pred = model(x)\n",
        "      test_loss = loss_fn(pred, y).item()\n",
        "      correct += (pred.argmax(1) == y).type(torch.float).sum().item() #calculate accuracy\n",
        "  test_loss /= num_batches\n",
        "  correct /= size\n",
        "  print(f\"Test Error: \\n Accuracy: {(100*correct):>0.1f}%, Avg loss: {test_loss:>8f} \\n\")"
      ]
    },
    {
      "cell_type": "code",
      "execution_count": 6,
      "metadata": {
        "colab": {
          "base_uri": "https://localhost:8080/"
        },
        "id": "1LsfzIw4b1AU",
        "outputId": "03aeb700-d0fe-4e88-a24e-d000b63c4184"
      },
      "outputs": [
        {
          "data": {
            "text/plain": [
              "ToyModel(\n",
              "  (Conv): Sequential(\n",
              "    (0): Conv2d(1, 5, kernel_size=(1, 1), stride=(1, 1))\n",
              "    (1): h_swish(\n",
              "      (sigmoid): h_sigmoid(\n",
              "        (relu): ReLU6(inplace=True)\n",
              "      )\n",
              "    )\n",
              "    (2): Conv2d(5, 1, kernel_size=(1, 1), stride=(1, 1))\n",
              "    (3): h_swish(\n",
              "      (sigmoid): h_sigmoid(\n",
              "        (relu): ReLU6(inplace=True)\n",
              "      )\n",
              "    )\n",
              "  )\n",
              "  (backbone): Sequential(\n",
              "    (0): Linear(in_features=784, out_features=120, bias=False)\n",
              "    (1): ReLU()\n",
              "    (2): Linear(in_features=120, out_features=84, bias=False)\n",
              "    (3): ReLU()\n",
              "    (4): Linear(in_features=84, out_features=10, bias=False)\n",
              "  )\n",
              ")"
            ]
          },
          "execution_count": 6,
          "metadata": {},
          "output_type": "execute_result"
        }
      ],
      "source": [
        "learning_rate = 1e-3\n",
        "epochs = 3\n",
        "loss_fn = nn.CrossEntropyLoss() #define loss function\n",
        "optimizer = torch.optim.SGD(FP32_model.parameters(), lr=learning_rate, momentum=0.9)  #define optimizer\n",
        "\n",
        "FP32_model.to(device) #let model on GPU"
      ]
    },
    {
      "cell_type": "code",
      "execution_count": 7,
      "metadata": {
        "id": "LH6kt0eqb9tl"
      },
      "outputs": [
        {
          "name": "stdout",
          "output_type": "stream",
          "text": [
            "Epoch 1\n",
            "-------------------------------\n",
            "loss: 2.301396  [   32/60000]\n",
            "loss: 2.300920  [ 3232/60000]\n",
            "loss: 2.299577  [ 6432/60000]\n",
            "loss: 2.303290  [ 9632/60000]\n",
            "loss: 2.303569  [12832/60000]\n",
            "loss: 2.302467  [16032/60000]\n",
            "loss: 2.305001  [19232/60000]\n",
            "loss: 2.304802  [22432/60000]\n",
            "loss: 2.298074  [25632/60000]\n",
            "loss: 2.298676  [28832/60000]\n",
            "loss: 2.293783  [32032/60000]\n",
            "loss: 2.294315  [35232/60000]\n",
            "loss: 2.287030  [38432/60000]\n",
            "loss: 2.282912  [41632/60000]\n",
            "loss: 2.269661  [44832/60000]\n",
            "loss: 2.279294  [48032/60000]\n",
            "loss: 2.266826  [51232/60000]\n",
            "loss: 2.240796  [54432/60000]\n",
            "loss: 2.171411  [57632/60000]\n",
            "Test Error: \n",
            " Accuracy: 27.7%, Avg loss: 0.006706 \n",
            "\n",
            "Epoch 2\n",
            "-------------------------------\n",
            "loss: 2.130034  [   32/60000]\n",
            "loss: 1.968865  [ 3232/60000]\n",
            "loss: 1.662483  [ 6432/60000]\n",
            "loss: 1.600562  [ 9632/60000]\n",
            "loss: 1.223564  [12832/60000]\n",
            "loss: 1.030667  [16032/60000]\n",
            "loss: 1.034443  [19232/60000]\n",
            "loss: 1.081744  [22432/60000]\n",
            "loss: 0.808017  [25632/60000]\n",
            "loss: 0.584018  [28832/60000]\n",
            "loss: 0.742622  [32032/60000]\n",
            "loss: 0.864561  [35232/60000]\n",
            "loss: 0.435673  [38432/60000]\n",
            "loss: 0.479690  [41632/60000]\n",
            "loss: 0.603440  [44832/60000]\n",
            "loss: 0.608610  [48032/60000]\n",
            "loss: 0.404819  [51232/60000]\n",
            "loss: 0.569354  [54432/60000]\n",
            "loss: 0.489418  [57632/60000]\n",
            "Test Error: \n",
            " Accuracy: 80.2%, Avg loss: 0.000857 \n",
            "\n",
            "Epoch 3\n",
            "-------------------------------\n",
            "loss: 0.777157  [   32/60000]\n",
            "loss: 0.345554  [ 3232/60000]\n",
            "loss: 0.332722  [ 6432/60000]\n",
            "loss: 0.534401  [ 9632/60000]\n",
            "loss: 0.390499  [12832/60000]\n",
            "loss: 0.340784  [16032/60000]\n",
            "loss: 0.352837  [19232/60000]\n",
            "loss: 0.413177  [22432/60000]\n",
            "loss: 0.375574  [25632/60000]\n",
            "loss: 0.640623  [28832/60000]\n",
            "loss: 0.641669  [32032/60000]\n",
            "loss: 0.473435  [35232/60000]\n",
            "loss: 0.567109  [38432/60000]\n",
            "loss: 0.390875  [41632/60000]\n",
            "loss: 0.648148  [44832/60000]\n",
            "loss: 0.126346  [48032/60000]\n",
            "loss: 0.328820  [51232/60000]\n",
            "loss: 0.334339  [54432/60000]\n",
            "loss: 0.468713  [57632/60000]\n",
            "Test Error: \n",
            " Accuracy: 83.9%, Avg loss: 0.000745 \n",
            "\n"
          ]
        }
      ],
      "source": [
        "#Training\n",
        "for i in range(epochs):\n",
        "  print(f\"Epoch {i+1}\\n-------------------------------\")\n",
        "  train_loop(train_loader, FP32_model, loss_fn, optimizer)\n",
        "  test_loop(test_loader, FP32_model, loss_fn)"
      ]
    },
    {
      "cell_type": "markdown",
      "metadata": {
        "id": "oTAK3-fH3qGh"
      },
      "source": [
        "# Quantization definition"
      ]
    },
    {
      "cell_type": "markdown",
      "metadata": {
        "id": "0lWzxrde4G5i"
      },
      "source": [
        "####Question 1.####\n",
        "\n",
        "Use\n",
        ">$S=(r_{\\mathrm{max}} - r_{\\mathrm{min}}) / (q_{\\mathrm{max}} - q_{\\mathrm{min}})$\n",
        "\n",
        ">$Z = q_{\\mathrm{min}} - r_{\\mathrm{min}} / S$\n",
        "\n",
        "to calculate scale factor and zero point of a tensor\n"
      ]
    },
    {
      "cell_type": "code",
      "execution_count": 8,
      "metadata": {
        "id": "kJIr-5SpcgQr"
      },
      "outputs": [],
      "source": [
        "def get_scale_and_zero_point(fp32_tensor, bitwidth=8):\n",
        "  q_min, q_max = -(2**(bitwidth-1)-1), 2**(bitwidth-1) - 1\n",
        "  fp_min = fp32_tensor.min().item()\n",
        "  fp_max = fp32_tensor.max().item()\n",
        "\n",
        "  #####################################################\n",
        "\n",
        "  scale = (fp_max-fp_min) / (q_max-q_min)\n",
        "  zero_point = q_min-fp_min /scale\n",
        "\n",
        "  #####################################################\n",
        "\n",
        "\n",
        "  zero_point = round(zero_point)          #round\n",
        "  zero_point = max(q_min, min(zero_point, q_max)) #clip\n",
        "\n",
        "  return scale, int(zero_point)"
      ]
    },
    {
      "cell_type": "markdown",
      "metadata": {
        "id": "D4YA7ano5nS1"
      },
      "source": [
        "####Question 2.####\n",
        "\n",
        "Use $q=r/S + Z$ to quantize a tensor"
      ]
    },
    {
      "cell_type": "code",
      "execution_count": 9,
      "metadata": {
        "id": "sBMKB5Le54wr"
      },
      "outputs": [],
      "source": [
        "def linear_quantize(fp32_tensor, bitwidth=8):\n",
        "  q_min, q_max = -(2**(bitwidth-1)-1), 2**(bitwidth-1) - 1\n",
        "\n",
        "  scale, zero_point = get_scale_and_zero_point(fp32_tensor)\n",
        "\n",
        "  #####################################################\n",
        "\n",
        "  q_tensor = torch.round( fp32_tensor/scale ) +zero_point\n",
        "\n",
        "  #####################################################\n",
        "\n",
        "  #clamp\n",
        "  q_tensor = torch.clamp(q_tensor, q_min, q_max)\n",
        "  return q_tensor, scale, zero_point  "
      ]
    },
    {
      "cell_type": "markdown",
      "metadata": {
        "id": "0taJXSmz6KDS"
      },
      "source": [
        "####Question 3.####\n",
        "\n",
        "Use\n",
        "> $q_{\\mathrm{output}} = M * \\mathrm{Linear}[q_{\\mathrm{input}}, q_{\\mathrm{weight}}] + Z_{\\mathrm{output}}$\n",
        "\n",
        "> $M = S_{\\mathrm{input}} * S_{\\mathrm{weight}} / S_{\\mathrm{output}}$\n",
        "\n",
        "to compute quantized linear operation"
      ]
    },
    {
      "cell_type": "code",
      "execution_count": 10,
      "metadata": {
        "id": "sbXY0vaCcn7l"
      },
      "outputs": [],
      "source": [
        "def quantized_linear(input, weights, input_scale, weight_scale, output_scale, input_zero_point, weight_zero_point, output_zero_point, device, bitwidth=8, activation_bitwidth=8):\n",
        "  input, weights = input.to(device), weights.to(device)\n",
        "\n",
        "  #####################################################\n",
        "\n",
        "  M = input_scale * weight_scale / output_scale\n",
        "  output = torch.nn.functional.linear((input - input_zero_point ), (weights - weight_zero_point))\n",
        "  output *= M\n",
        "  output += output_zero_point\n",
        "\n",
        "  #####################################################\n",
        "\n",
        "  #clamp and round\n",
        "  output = output.round().clamp(-2**(activation_bitwidth-1)-1, 2**(activation_bitwidth-1)-1)\n",
        "\n",
        "  return output\n",
        "\n",
        "def quantized_conv(input, bias,weights,stride, padding,groups,input_scale, weight_scale, output_scale, input_zero_point, weight_zero_point, output_zero_point, device, bitwidth=8, activation_bitwidth=16):\n",
        "  input, weights = input.to(device), weights.to(device)\n",
        "\n",
        "  #####################################################\n",
        "\n",
        "  M = input_scale * weight_scale \n",
        "  conv_bias = bias /M\n",
        "  conv_bias = conv_bias.round()\n",
        "  output_only_conv = torch.nn.functional.conv2d((input - input_zero_point ), (weights - weight_zero_point),bias = conv_bias ,stride=stride,padding=padding,groups=groups)\n",
        "  output = M * output_only_conv\n",
        "  #output += output_zero_point\n",
        "\n",
        "  #####################################################\n",
        "\n",
        "  #clamp and round\n",
        "  output = output.round().clamp(-2**(activation_bitwidth-1)-1, 2**(activation_bitwidth-1)-1)\n",
        "\n",
        "  return output\n",
        "\n",
        "def do_requant(input, scale,zero_point,bitwidth=8):\n",
        "    output = input / scale\n",
        "    output = output.round()\n",
        "    output += zero_point\n",
        "    output = output.clamp(-2**(bitwidth-1)-1, 2**(bitwidth-1)-1)\n",
        "    return output"
      ]
    },
    {
      "cell_type": "markdown",
      "metadata": {
        "id": "vK10k10R7II7"
      },
      "source": [
        "# Design quantized linear layer and preprocess"
      ]
    },
    {
      "cell_type": "code",
      "execution_count": 11,
      "metadata": {
        "id": "IwrXNVKadKfG"
      },
      "outputs": [],
      "source": [
        "\n",
        "class QuantizedConv(nn.Module):\n",
        "  def __init__(self,bias ,weights,stride,padding,groups ,input_scale, weight_scale, output_scale, input_zero_point, weight_zero_point, output_zero_point, bitwidth=8, activation_bitwidth=8):\n",
        "    super().__init__()\n",
        "    self.stride, self.padding, self.groups = stride, padding,groups\n",
        "    self.weights = weights\n",
        "    self.input_scale, self.input_zero_point = input_scale, input_zero_point\n",
        "    self.weight_scale, self.weight_zero_point = weight_scale, weight_zero_point\n",
        "    self.output_scale, self.output_zero_point = output_scale, output_zero_point\n",
        "    self.bias = bias\n",
        "    self.bitwidth = bitwidth\n",
        "    self.activation_bitwidth = activation_bitwidth\n",
        "    self.q_bias = torch.round(bias / (input_scale*weight_scale))\n",
        "    self.q_weight = weights - weight_zero_point\n",
        "    self.DeQ_scale = input_scale*weight_scale*8192\n",
        "  def forward(self, x):\n",
        "    return quantized_conv(x, self.bias, self.weights, self.stride, self.padding, self.groups, self.input_scale, self.weight_scale, self.output_scale, self.input_zero_point, self.weight_zero_point, self.output_zero_point, device)\n",
        "  def __repr__(self):\n",
        "    return f\"QuantizedConv(in_channels={self.weights.size(1)}, out_channels={self.weights.size(0)})\"\n",
        "\n",
        "class QuantizedLinear(nn.Module):\n",
        "  def __init__(self, weights, input_scale, weight_scale, output_scale, input_zero_point, weight_zero_point, output_zero_point, bitwidth=8, activation_bitwidth=8):\n",
        "    super().__init__()\n",
        "    self.weights = weights\n",
        "    self.input_scale, self.input_zero_point = input_scale, input_zero_point\n",
        "    self.weight_scale, self.weight_zero_point = weight_scale, weight_zero_point\n",
        "    self.output_scale, self.output_zero_point = output_scale, output_zero_point\n",
        "\n",
        "    self.bitwidth = bitwidth\n",
        "    self.activation_bitwidth = activation_bitwidth\n",
        "\n",
        "  def forward(self, x):\n",
        "    return quantized_linear(x, self.weights, self.input_scale, self.weight_scale, self.output_scale, self.input_zero_point, self.weight_zero_point, self.output_zero_point, device)\n",
        "  def __repr__(self):\n",
        "    return f\"QuantizedLinear(in_channels={self.weights.size(1)}, out_channels={self.weights.size(0)})\"\n",
        "\n",
        "#Transform input data to correct integer range\n",
        "class Preprocess(nn.Module):\n",
        "  def __init__(self, input_scale, input_zero_point, activation_bitwidth=8):\n",
        "    super().__init__()\n",
        "    self.input_scale, self.input_zero_point = input_scale, input_zero_point\n",
        "    self.activation_bitwidth = activation_bitwidth\n",
        "  def forward(self, x):\n",
        "    x = x / self.input_scale + self.input_zero_point\n",
        "    x = x.round() \n",
        "    return x\n",
        "  \n",
        "class Quantizer(nn.Module):\n",
        "  def __init__(self,scale,zero_point,bitwidth=8):\n",
        "    super().__init__()\n",
        "    self.scale = scale\n",
        "    self.zero = zero_point\n",
        "    self.store_scale = scale *64\n",
        "\n",
        "  def forward(self,x):\n",
        "    return do_requant(x,self.scale,self.zero)\n",
        "    "
      ]
    },
    {
      "cell_type": "markdown",
      "metadata": {
        "id": "EUpiPDiu7RCH"
      },
      "source": [
        "# Calibration"
      ]
    },
    {
      "cell_type": "code",
      "execution_count": 12,
      "metadata": {
        "id": "cBdXFnr5dZqT"
      },
      "outputs": [],
      "source": [
        "# add hook to record the min max value of the activation\n",
        "input_activation = {}\n",
        "output_activation = {}\n",
        "\n",
        "#Define a hook to record the feature map of each layer\n",
        "def add_range_recoder_hook(model):\n",
        "    import functools\n",
        "    def _record_range(self, x, y, module_name):\n",
        "        x = x[0]\n",
        "        input_activation[module_name] = x.detach()\n",
        "        output_activation[module_name] = y.detach()\n",
        "\n",
        "    all_hooks = []\n",
        "    for name, m in model.named_modules():\n",
        "        if isinstance(m, (nn.Linear, nn.ReLU,nn.Conv2d,h_swish)):\n",
        "            all_hooks.append(m.register_forward_hook(\n",
        "                functools.partial(_record_range, module_name=name)))\n",
        "\n",
        "\n",
        "    return all_hooks\n",
        "\n",
        "hooks = add_range_recoder_hook(FP32_model)\n",
        "sample_data = iter(train_loader).__next__()[0].to(device) #Use a batch of training data to calibrate\n",
        "FP32_model(sample_data) #Forward to use hook\n",
        "# print(FP32_model.Conv[0].weight)\n",
        "# print(output_activation[\"Conv.0\"])\n",
        "# print(output_activation.keys())\n",
        "# remove hooks\n",
        "for h in hooks:\n",
        "    h.remove()\n"
      ]
    },
    {
      "cell_type": "markdown",
      "metadata": {
        "id": "YVf8vpiVTsDa"
      },
      "source": [
        "# Quantize model"
      ]
    },
    {
      "cell_type": "code",
      "execution_count": 13,
      "metadata": {
        "id": "SVh-SRj8eOrs"
      },
      "outputs": [],
      "source": [
        "#copy original model\n",
        "quantized_model = copy.deepcopy(FP32_model)\n",
        "\n",
        "#Record each layer in original model\n",
        "quantized_backbone = []\n",
        "quantized_Conv = []\n",
        "i = 0\n",
        "\n",
        "#Record input scale and zero point\n",
        "input_scale, input_zero_point = get_scale_and_zero_point(input_activation[\"Conv.0\"])\n",
        "preprocess = Preprocess(input_scale, input_zero_point)\n",
        "quantized_Conv.append(preprocess)\n",
        "\n",
        "input_scale, input_zero_point = get_scale_and_zero_point(input_activation['Conv.0'])\n",
        "output_scale, output_zero_point = get_scale_and_zero_point(output_activation['Conv.0'])\n",
        "quantized_weights, weight_scale, weight_zero_point = linear_quantize(FP32_model.Conv[0].weight.data)\n",
        "Conv_bias = FP32_model.Conv[0].bias.data\n",
        "quantizedConv1 = QuantizedConv(Conv_bias,quantized_weights, 1,0,1,input_scale, weight_scale, output_scale, input_zero_point, weight_zero_point, output_zero_point)\n",
        "h_swish1 = h_swish()\n",
        "#quantized_model.Conv[0] = quantizedConv1 \n",
        "\n",
        "req_scale , output_zero_point = get_scale_and_zero_point(output_activation['Conv.1'])\n",
        "req1 = Quantizer(req_scale,output_zero_point)\n",
        "\n",
        "quantized_Conv.append(quantizedConv1)\n",
        "quantized_Conv.append(h_swish1)\n",
        "quantized_Conv.append(req1)\n",
        "\n",
        "\n",
        "\n",
        "input_scale, input_zero_point = get_scale_and_zero_point(input_activation['Conv.2'])\n",
        "output_scale, output_zero_point = get_scale_and_zero_point(output_activation['Conv.2'])\n",
        "quantized_weights, weight_scale, weight_zero_point = linear_quantize(FP32_model.Conv[2].weight.data)\n",
        "Conv_bias = FP32_model.Conv[2].bias.data\n",
        "quantizedConv2 = QuantizedConv(Conv_bias,quantized_weights, 1,0,1,input_scale, weight_scale, output_scale, input_zero_point, weight_zero_point, output_zero_point)\n",
        "#quantized_model.Conv[2] = quantizedConv2 \n",
        "\n",
        "h_swish2 = h_swish()\n",
        "#quantized_model.Conv[0] = quantizedConv1 \n",
        "\n",
        "req_scale , output_zero_point = get_scale_and_zero_point(output_activation['Conv.3'])\n",
        "req2 = Quantizer(req_scale,output_zero_point)\n",
        "\n",
        "quantized_Conv.append(quantizedConv2)\n",
        "quantized_Conv.append(h_swish2)\n",
        "quantized_Conv.append(req2)\n",
        "\n",
        "\n",
        "#Record Linear + ReLU of the model (except the last Linear)\n",
        "while i < len(quantized_model.backbone) - 1:\n",
        "  if isinstance(quantized_model.backbone[i], nn.Linear) and isinstance(quantized_model.backbone[i+1], nn.ReLU):\n",
        "    linear = quantized_model.backbone[i]\n",
        "    linear_name = f\"backbone.{i}\"\n",
        "    relu = quantized_model.backbone[i + 1]\n",
        "    relu_name = f\"backbone.{i + 1}\"\n",
        "\n",
        "    #Use the calibration data to calculate scale and zero point of each layer\n",
        "    input_scale, input_zero_point = get_scale_and_zero_point(input_activation[linear_name])\n",
        "    output_scale, output_zero_point = get_scale_and_zero_point(output_activation[relu_name])\n",
        "    quantized_weights, weight_scale, weight_zero_point = linear_quantize(linear.weight.data)\n",
        "\n",
        "    quantizedLinear = QuantizedLinear(quantized_weights, input_scale, weight_scale, output_scale, input_zero_point, weight_zero_point, output_zero_point)\n",
        "\n",
        "    quantized_backbone.append(quantizedLinear)\n",
        "    i += 2\n",
        "\n",
        "#Record the last Linear layer\n",
        "linear = quantized_model.backbone[4]\n",
        "linear_name = f\"backbone.4\"\n",
        "input_scale, input_zero_point = get_scale_and_zero_point(input_activation[linear_name])\n",
        "output_scale, output_zero_point = get_scale_and_zero_point(output_activation[linear_name])\n",
        "quantized_weights, weight_scale, weight_zero_point = linear_quantize(linear.weight.data)\n",
        "quantizedLinear = QuantizedLinear(quantized_weights, input_scale, weight_scale, output_scale, input_zero_point, weight_zero_point, output_zero_point)\n",
        "quantized_backbone.append(quantizedLinear)\n",
        "\n",
        "quantized_model.Conv = nn.Sequential(*quantized_Conv)\n",
        "quantized_model.backbone = nn.Sequential(*quantized_backbone)"
      ]
    },
    {
      "cell_type": "code",
      "execution_count": 14,
      "metadata": {
        "colab": {
          "base_uri": "https://localhost:8080/"
        },
        "id": "vRB96PKbfNX4",
        "outputId": "58ce882a-3521-4b40-ff98-44dcea373546"
      },
      "outputs": [
        {
          "name": "stdout",
          "output_type": "stream",
          "text": [
            "ToyModel(\n",
            "  (Conv): Sequential(\n",
            "    (0): Preprocess()\n",
            "    (1): QuantizedConv(in_channels=1, out_channels=5)\n",
            "    (2): h_swish(\n",
            "      (sigmoid): h_sigmoid(\n",
            "        (relu): ReLU6(inplace=True)\n",
            "      )\n",
            "    )\n",
            "    (3): Quantizer()\n",
            "    (4): QuantizedConv(in_channels=5, out_channels=1)\n",
            "    (5): h_swish(\n",
            "      (sigmoid): h_sigmoid(\n",
            "        (relu): ReLU6(inplace=True)\n",
            "      )\n",
            "    )\n",
            "    (6): Quantizer()\n",
            "  )\n",
            "  (backbone): Sequential(\n",
            "    (0): QuantizedLinear(in_channels=784, out_channels=120)\n",
            "    (1): QuantizedLinear(in_channels=120, out_channels=84)\n",
            "    (2): QuantizedLinear(in_channels=84, out_channels=10)\n",
            "  )\n",
            ")\n"
          ]
        }
      ],
      "source": [
        "print(quantized_model)"
      ]
    },
    {
      "cell_type": "code",
      "execution_count": 15,
      "metadata": {},
      "outputs": [],
      "source": [
        "# add hook to record the min max value of the activation\n",
        "q_input_activation = {}\n",
        "q_output_activation = {}\n",
        "\n",
        "#Define a hook to record the feature map of each layer\n",
        "def add_range_recoder_hook(model):\n",
        "    import functools\n",
        "    def _record_range(self, x, y, module_name):\n",
        "        x = x[0]\n",
        "        q_input_activation[module_name] = x.detach()\n",
        "        q_output_activation[module_name] = y.detach()\n",
        "\n",
        "    all_hooks = []\n",
        "    for name, m in model.named_modules():\n",
        "        if isinstance(m, (QuantizedConv,  QuantizedLinear,h_swish,Quantizer,Preprocess)):\n",
        "            all_hooks.append(m.register_forward_hook(\n",
        "                functools.partial(_record_range, module_name=name)))\n",
        "\n",
        "\n",
        "    return all_hooks\n",
        "\n",
        "\n",
        "q_test_loader = torch.utils.data.DataLoader(dataset=test_dataset, batch_size=1, shuffle=False)\n",
        "hooks = add_range_recoder_hook(quantized_model)\n",
        "sample_data = iter(q_test_loader).__next__()[0].to(device) #Use a batch of training data to calibrate\n",
        "quantized_model(sample_data) #Forward to use hook\n",
        "\n",
        "\n",
        "# remove hooks\n",
        "for h in hooks:\n",
        "    h.remove()"
      ]
    },
    {
      "cell_type": "code",
      "execution_count": 16,
      "metadata": {},
      "outputs": [
        {
          "name": "stdout",
          "output_type": "stream",
          "text": [
            "torch.Size([1, 1, 28, 28])\n",
            "tensor([0., 0., 0., 0., 0., 0., 0., 0., 0., 0., 0., 0., 0., 0., 0., 0., 0., 0., 0., 0., 0., 0., 0., 0.,\n",
            "        0., 0., 0., 0.], device='cuda:0')\n",
            "tensor([0., 0., 0., 0., 0., 0., 0., 0., 0., 0., 0., 0., 0., 0., 0., 0., 0., 0., 0., 0., 0., 0., 0., 0.,\n",
            "        0., 0., 0., 0.], device='cuda:0')\n",
            "tensor([0., 0., 0., 0., 0., 0., 0., 0., 0., 0., 0., 0., 0., 0., 0., 0., 0., 0., 0., 0., 0., 0., 0., 0.,\n",
            "        0., 0., 0., 0.], device='cuda:0')\n",
            "tensor([0., 0., 0., 0., 0., 0., 0., 0., 0., 0., 0., 0., 0., 0., 0., 0., 0., 0., 0., 0., 0., 0., 0., 0.,\n",
            "        0., 0., 0., 0.], device='cuda:0')\n",
            "tensor([0., 0., 0., 0., 0., 0., 0., 0., 0., 0., 0., 0., 0., 0., 0., 0., 0., 0., 0., 0., 0., 0., 0., 0.,\n",
            "        0., 0., 0., 0.], device='cuda:0')\n",
            "tensor([0., 0., 0., 0., 0., 0., 0., 0., 0., 0., 0., 0., 0., 0., 0., 0., 0., 0., 0., 0., 0., 0., 0., 0.,\n",
            "        0., 0., 0., 0.], device='cuda:0')\n",
            "tensor([0., 0., 0., 0., 0., 0., 0., 0., 0., 0., 0., 0., 0., 0., 0., 0., 0., 0., 0., 0., 0., 0., 0., 0.,\n",
            "        0., 0., 0., 0.], device='cuda:0')\n",
            "tensor([0., 0., 0., 0., 0., 0., 0., 0., 0., 0., 0., 0., 0., 0., 0., 0., 0., 0., 0., 0., 0., 0., 0., 0.,\n",
            "        0., 0., 0., 0.], device='cuda:0')\n",
            "tensor([0., 0., 0., 0., 0., 0., 0., 0., 0., 0., 0., 0., 0., 0., 0., 0., 0., 0., 0., 0., 0., 0., 0., 0.,\n",
            "        0., 0., 0., 0.], device='cuda:0')\n",
            "tensor([0., 0., 0., 0., 0., 0., 0., 0., 0., 0., 0., 0., 0., 0., 0., 0., 0., 0., 0., 0., 0., 0., 0., 0.,\n",
            "        0., 0., 0., 0.], device='cuda:0')\n",
            "tensor([0., 0., 0., 0., 0., 0., 0., 0., 0., 0., 0., 0., 0., 0., 0., 0., 0., 0., 0., 0., 0., 0., 0., 0.,\n",
            "        0., 0., 0., 0.], device='cuda:0')\n",
            "tensor([0., 0., 0., 0., 0., 0., 0., 0., 0., 0., 0., 0., 0., 0., 0., 0., 0., 0., 0., 0., 0., 0., 0., 0.,\n",
            "        0., 0., 0., 0.], device='cuda:0')\n",
            "tensor([0., 0., 0., 0., 0., 0., 0., 0., 0., 0., 0., 0., 0., 0., 0., 0., 0., 0., 0., 0., 0., 0., 0., 0.,\n",
            "        0., 0., 0., 0.], device='cuda:0')\n",
            "tensor([0., 0., 0., 0., 0., 0., 0., 0., 0., 0., 0., 0., 0., 0., 0., 0., 0., 0., 0., 0., 0., 0., 0., 0.,\n",
            "        0., 0., 0., 0.], device='cuda:0')\n",
            "tensor([0., 0., 0., 0., 0., 0., 0., 0., 0., 0., 0., 0., 0., 0., 0., 0., 0., 0., 0., 0., 0., 0., 0., 0.,\n",
            "        0., 0., 0., 0.], device='cuda:0')\n",
            "tensor([0., 0., 0., 0., 0., 0., 0., 0., 0., 0., 0., 0., 0., 0., 0., 0., 0., 0., 0., 0., 0., 0., 0., 0.,\n",
            "        0., 0., 0., 0.], device='cuda:0')\n",
            "tensor([0., 0., 0., 0., 0., 0., 0., 0., 0., 0., 0., 0., 0., 0., 0., 0., 0., 0., 0., 0., 0., 0., 0., 0.,\n",
            "        0., 0., 0., 0.], device='cuda:0')\n",
            "tensor([0., 0., 0., 0., 0., 0., 0., 0., 0., 0., 0., 0., 0., 0., 0., 0., 0., 0., 0., 0., 0., 0., 0., 0.,\n",
            "        0., 0., 0., 0.], device='cuda:0')\n",
            "tensor([0., 0., 0., 0., 0., 0., 0., 0., 0., 0., 0., 0., 0., 0., 0., 0., 0., 0., 0., 0., 0., 0., 0., 0.,\n",
            "        0., 0., 0., 0.], device='cuda:0')\n",
            "tensor([0., 0., 0., 0., 0., 0., 0., 0., 0., 0., 0., 0., 0., 0., 0., 0., 0., 0., 0., 0., 0., 0., 0., 0.,\n",
            "        0., 0., 0., 0.], device='cuda:0')\n",
            "tensor([0., 0., 0., 0., 0., 0., 0., 0., 0., 0., 0., 0., 0., 0., 0., 0., 0., 0., 0., 0., 0., 0., 0., 0.,\n",
            "        0., 0., 0., 0.], device='cuda:0')\n",
            "tensor([0., 0., 0., 0., 0., 0., 0., 0., 0., 0., 0., 0., 0., 0., 0., 0., 0., 0., 0., 0., 0., 0., 0., 0.,\n",
            "        0., 0., 0., 0.], device='cuda:0')\n",
            "tensor([0., 0., 0., 0., 0., 0., 0., 0., 0., 0., 0., 0., 0., 0., 0., 0., 0., 0., 0., 0., 0., 0., 0., 0.,\n",
            "        0., 0., 0., 0.], device='cuda:0')\n",
            "tensor([0., 0., 0., 0., 0., 0., 0., 0., 0., 0., 0., 0., 0., 0., 0., 0., 0., 0., 0., 0., 0., 0., 0., 0.,\n",
            "        0., 0., 0., 0.], device='cuda:0')\n",
            "tensor([0., 0., 0., 0., 0., 0., 0., 0., 0., 0., 0., 0., 0., 0., 0., 0., 0., 0., 0., 0., 0., 0., 0., 0.,\n",
            "        0., 0., 0., 0.], device='cuda:0')\n",
            "tensor([0., 0., 0., 0., 0., 0., 0., 0., 0., 0., 0., 0., 0., 0., 0., 0., 0., 0., 0., 0., 0., 0., 0., 0.,\n",
            "        0., 0., 0., 0.], device='cuda:0')\n",
            "tensor([0., 0., 0., 0., 0., 0., 0., 0., 0., 0., 0., 0., 0., 0., 0., 0., 0., 0., 0., 0., 0., 0., 0., 0.,\n",
            "        0., 0., 0., 0.], device='cuda:0')\n",
            "tensor([0., 0., 0., 0., 0., 0., 0., 0., 0., 0., 0., 0., 0., 0., 0., 0., 0., 0., 0., 0., 0., 0., 0., 0.,\n",
            "        0., 0., 0., 0.], device='cuda:0')\n"
          ]
        }
      ],
      "source": [
        "\n",
        "\n",
        "# print(q_input_activation[\"Conv.0\"].shape)\n",
        "print(q_input_activation[\"Conv.1\"].shape)\n",
        "# print(q_input_activation[\"Conv.2\"].shape)\n",
        "\n",
        "for i in range(28):\n",
        "    print(q_output_activation[\"Conv.1\"][0][0][0])\n",
        "#print(q_input_activation[\"Conv.1\"][0][0][1])"
      ]
    },
    {
      "cell_type": "code",
      "execution_count": 17,
      "metadata": {},
      "outputs": [
        {
          "ename": "SyntaxError",
          "evalue": "invalid syntax (1173502981.py, line 99)",
          "output_type": "error",
          "traceback": [
            "\u001b[1;36m  Cell \u001b[1;32mIn[17], line 99\u001b[1;36m\u001b[0m\n\u001b[1;33m    print(\"deq_scale (shift 13):\",DecToBin_machine(quantized_model.Conv[1].,8))\u001b[0m\n\u001b[1;37m                                                                           ^\u001b[0m\n\u001b[1;31mSyntaxError\u001b[0m\u001b[1;31m:\u001b[0m invalid syntax\n"
          ]
        }
      ],
      "source": [
        "def signed_dec2hex_matrix(input):\n",
        "    '''Convert a matrix which data is signed decimal to 8 bits hex with 2's complement'''\n",
        "    temp = []\n",
        "    bin8 = lambda x : ''.join(reversed( [str((x >> i) & 1) for i in range(8)] ) )\n",
        "    for i in input:\n",
        "        test =bin8(i)\n",
        "        test = int(test,base=2)\n",
        "        hex_test = hex(test)[2:].zfill(2)\n",
        "        temp.append(hex_test)\n",
        "\n",
        "    return temp\n",
        "\n",
        "def signed_dec2hex(input):\n",
        "    '''Convert a number which data is signed decimal to 8 bits hex with 2's complement'''\n",
        "    bin8 = lambda x : ''.join(reversed( [str((x >> i) & 1) for i in range(8)] ) )\n",
        "    test =bin8(input)\n",
        "    test = int(test,base=2)\n",
        "    hex_test = hex(test)[2:].zfill(2)\n",
        "\n",
        "    return hex_test\n",
        "\n",
        "\n",
        "def golden_gen(golden_layer_decimal):\n",
        "    '''Convert a layer output which is signed decimal in GPU to 8 bits hex with 2's complement in CPU and\n",
        "     make it 4 element in a line, example of use : golden_gen(q_output_activation[\"Conv.3\"]) '''\n",
        "    golden = []\n",
        "    i=0\n",
        "    golden_in_numpy = golden_layer_decimal.cpu().numpy()\n",
        "    test = golden_in_numpy.flatten()\n",
        "    test =test.astype('int32')\n",
        "    golden.append([])\n",
        "    for j, data in enumerate(test):\n",
        "        if(j%4==0 ):\n",
        "            golden.append([])\n",
        "            i = i+1\n",
        "            golden[i].append(signed_dec2hex(data))\n",
        "        if(j%4!=0):\n",
        "            golden[i].append(signed_dec2hex(data))\n",
        "    golden.pop(0)\n",
        "    for indice,data in enumerate(golden):\n",
        "        print(*data,sep='')\n",
        "\n",
        "def input_or_weight_gen(layer_decimal):\n",
        "    '''Convert a layer output which is signed decimal in GPU to 8 bits hex with 2's complement in CPU and\n",
        "     make each byte display in different place, example of use : input_or_weight_gen(quantized_model.Conv[1].weights)'''\n",
        "    byte0 = []\n",
        "    byte1 = []\n",
        "    byte2 = []\n",
        "    byte3 = []\n",
        "\n",
        "    data_in_numpy = layer_decimal.cpu().numpy()\n",
        "    data_test = data_in_numpy.flatten()\n",
        "    data_test = data_test.astype('int32')\n",
        "    data_test = signed_dec2hex_matrix(data_test)\n",
        "    for indice,data in enumerate(data_test):\n",
        "        if(indice%4 == 0):\n",
        "            byte0.append(data)\n",
        "        elif(indice%4 == 1):\n",
        "            byte1.append(data)\n",
        "        elif(indice%4 == 2):\n",
        "            byte2.append(data)\n",
        "        else:\n",
        "            byte3.append(data)\n",
        "    print(\"byte0:\",*byte0)\n",
        "    print(\"=======\")\n",
        "    print(\"byte1:\",*byte1)\n",
        "    print(\"=======\")\n",
        "    print(\"byte2:\",*byte2)\n",
        "    print(\"=======\")\n",
        "    print(\"byte3:\",*byte3)\n",
        "    print(\"=======\")\n",
        "    return byte0,byte1,byte2,byte3\n",
        "\n",
        "def DecToBin_machine(num,accuracy):\n",
        "    integer = int(num)\n",
        "    flo = num - integer\n",
        "    integercom = '{:1b}'.format(integer)\n",
        "    tem = flo\n",
        "    flo_list = []\n",
        "    for i in range(accuracy):\n",
        "        tem *= 2\n",
        "        flo_list += str(int(tem))\n",
        "        tem -= int(tem)\n",
        "    flocom = flo_list\n",
        "    binary_value =  ''.join(flocom)\n",
        "    return binary_value\n",
        "\n",
        "#golden_gen(q_output_activation[\"Conv.3\"])\n",
        "print(signed_dec2hex(quantized_model.Conv[1].input_zero_point))\n",
        "input_or_weight_gen(q_input_activation[\"Conv.1\"])\n",
        "print(\"===\")\n",
        "input_or_weight_gen(quantized_model.Conv[4].weights)\n",
        "\n",
        "print(quantized_model.Conv[4].input_zero_point)\n",
        "\n",
        "DeS = quantized_model.Conv[3].store_scale\n",
        "print(DeS)\n",
        "#print(DeS *8192) # 2**13\n",
        "print(\"deq_scale (shift 13):\",DecToBin_machine(quantized_model.Conv[1].,8))\n",
        "print(\"req_scale (shift 6):\",)\n",
        "print(\"output zero\",)\n",
        "#binary_value = integercom + '.' + ''.join(flocom)\n",
        "result = DecToBin_machine(DeS,8)\n",
        "print(result)\n",
        "# 0.1100111101011100"
      ]
    },
    {
      "cell_type": "markdown",
      "metadata": {
        "id": "BMccqTL6URaZ"
      },
      "source": [
        "# Evaluate"
      ]
    },
    {
      "cell_type": "code",
      "execution_count": 18,
      "metadata": {
        "colab": {
          "base_uri": "https://localhost:8080/"
        },
        "id": "gRMXzNeCgDuq",
        "outputId": "0fa65b9f-3a60-41e0-a935-a601a8db0484"
      },
      "outputs": [
        {
          "name": "stdout",
          "output_type": "stream",
          "text": [
            "Test Error: \n",
            " Accuracy: 83.9%, Avg loss: 0.000745 \n",
            "\n"
          ]
        }
      ],
      "source": [
        "test_loop(test_loader, FP32_model, loss_fn)"
      ]
    },
    {
      "cell_type": "code",
      "execution_count": 19,
      "metadata": {
        "colab": {
          "base_uri": "https://localhost:8080/"
        },
        "id": "knTzO1mbheBe",
        "outputId": "411fc256-b7ea-4757-9f75-6acaae605324"
      },
      "outputs": [
        {
          "name": "stdout",
          "output_type": "stream",
          "text": [
            "Test Error: \n",
            " Accuracy: 83.4%, Avg loss: 0.001798 \n",
            "\n"
          ]
        }
      ],
      "source": [
        "test_loop(test_loader, quantized_model, loss_fn)"
      ]
    },
    {
      "cell_type": "code",
      "execution_count": 22,
      "metadata": {},
      "outputs": [
        {
          "name": "stdout",
          "output_type": "stream",
          "text": [
            "(125440,)\n"
          ]
        },
        {
          "data": {
            "text/plain": [
              "(array([4.04412003e+00, 1.98682810e+00, 7.53713004e-01, 7.04638213e-01,\n",
              "        4.62418827e-01, 3.56093954e-01, 3.47915118e-01, 4.13345809e-01,\n",
              "        4.63678200e-01, 4.85067913e-01, 6.48015499e-01, 4.88842760e-01,\n",
              "        5.94539191e-01, 8.25433335e-01, 1.07268711e+00, 6.23478990e-01,\n",
              "        4.45432013e-01, 8.94828668e+00, 8.49592359e+00, 4.07683777e-01,\n",
              "        4.39770000e-01, 4.77518217e-01, 5.46094936e-01, 7.03380344e-01,\n",
              "        5.25962249e-01, 4.91988756e-01, 3.68047746e-01, 3.29041073e-01,\n",
              "        3.94471716e-01, 4.37253370e-01, 4.64306422e-01, 6.48015785e-01,\n",
              "        5.12121213e-01, 4.27187168e-01, 3.70564312e-01, 3.84405537e-01,\n",
              "        3.86292962e-01, 3.66789355e-01, 9.13199078e+00, 4.15988447e+00,\n",
              "        4.46186983e+00, 4.93247329e-01, 4.68710240e-01, 8.36065822e+00,\n",
              "        3.17716711e-01, 2.95696393e-02, 2.01325440e-02, 1.88742378e-02,\n",
              "        1.76159553e-02, 3.33444869e-02, 2.51657096e-02, 1.44702490e-02,\n",
              "        1.13245427e-02, 2.39073679e-02, 3.14570631e-02, 2.89404980e-02,\n",
              "        1.95034250e-02, 2.20199442e-02, 2.64239330e-02, 2.20199442e-02,\n",
              "        2.26490854e-02, 5.41062757e-02, 3.46027694e-02, 4.02650407e-02,\n",
              "        2.57947917e-02, 2.70530742e-02, 3.83776169e-02, 3.27154225e-02,\n",
              "        1.44702490e-02, 4.08942782e-02, 3.90066665e-02, 4.78148483e-02,\n",
              "        2.45364515e-02, 3.46028508e-02, 4.78146234e-02, 3.46028508e-02,\n",
              "        1.57285685e-02, 5.91391395e-02, 4.08942782e-02, 1.82450537e-02,\n",
              "        5.72519894e-02, 6.48017023e-02, 1.88741935e-02, 6.98348443e-02,\n",
              "        1.63576343e-02, 3.90068500e-02, 4.52982774e-02, 5.03311825e-02,\n",
              "        1.69868540e-02, 7.42384942e-02, 2.01325677e-02, 3.64902790e-02,\n",
              "        3.71192471e-02, 0.00000000e+00, 2.57947311e-02, 2.32782814e-02,\n",
              "        3.96359927e-02, 1.32119354e-02, 2.39074242e-02, 2.13907526e-02,\n",
              "        1.76159968e-02, 0.00000000e+00, 2.07616128e-02, 2.89405661e-02,\n",
              "        1.38410752e-02, 1.57285685e-02, 1.69867741e-02, 1.69868540e-02,\n",
              "        0.00000000e+00, 1.00662839e-02, 1.63575574e-02, 1.57285685e-02,\n",
              "        1.69868540e-02, 1.95034250e-02, 0.00000000e+00, 1.06953260e-02,\n",
              "        1.32119976e-02, 1.76159968e-02, 1.25828548e-02, 0.00000000e+00,\n",
              "        1.44701469e-02, 1.25828548e-02, 1.38411403e-02, 1.00662839e-02,\n",
              "        0.00000000e+00, 1.38410101e-02, 8.17885564e-03, 1.38411403e-02,\n",
              "        0.00000000e+00, 8.17885564e-03, 2.01323783e-02, 8.80799838e-03,\n",
              "        1.38411403e-02, 0.00000000e+00, 1.63577113e-02, 1.57284206e-02,\n",
              "        9.43714112e-03, 0.00000000e+00, 1.82451395e-02, 5.03314193e-03,\n",
              "        1.13244628e-02, 0.00000000e+00, 8.17885564e-03, 1.19537121e-02,\n",
              "        0.00000000e+00, 1.19535996e-02, 1.63577113e-02, 1.00662839e-02,\n",
              "        0.00000000e+00, 1.06953260e-02, 6.29142741e-03, 0.00000000e+00,\n",
              "        1.57285685e-02, 1.32119976e-02, 8.17877869e-03, 0.00000000e+00,\n",
              "        8.80799838e-03, 1.06954266e-02, 0.00000000e+00, 8.80791551e-03,\n",
              "        5.66228467e-03, 0.00000000e+00, 1.32119976e-02, 9.43714112e-03,\n",
              "        0.00000000e+00, 1.25828548e-02, 1.50994258e-02, 1.88742822e-02,\n",
              "        0.00000000e+00, 2.26489256e-02, 4.84439911e-02, 0.00000000e+00,\n",
              "        4.65565628e-02, 7.54971289e-02, 0.00000000e+00, 1.32749118e-01,\n",
              "        7.93286082e+00]),\n",
              " array([-0.37498987, -0.36231872, -0.34964758, -0.33697647, -0.32430533,\n",
              "        -0.31163418, -0.29896304, -0.2862919 , -0.27362075, -0.26094964,\n",
              "        -0.2482785 , -0.23560736, -0.22293621, -0.21026509, -0.19759394,\n",
              "        -0.18492281, -0.17225167, -0.15958053, -0.1469094 , -0.13423826,\n",
              "        -0.12156712, -0.10889599, -0.09622484, -0.08355371, -0.07088257,\n",
              "        -0.05821143, -0.0455403 , -0.03286916, -0.02019802, -0.00752689,\n",
              "         0.00514425,  0.01781539,  0.03048653,  0.04315766,  0.0558288 ,\n",
              "         0.06849994,  0.08117107,  0.09384221,  0.10651335,  0.11918449,\n",
              "         0.13185562,  0.14452676,  0.15719789,  0.16986904,  0.18254018,\n",
              "         0.19521131,  0.20788245,  0.22055358,  0.23322472,  0.24589586,\n",
              "         0.25856701,  0.27123812,  0.28390926,  0.2965804 ,  0.30925155,\n",
              "         0.32192269,  0.33459383,  0.34726495,  0.35993609,  0.37260723,\n",
              "         0.38527837,  0.39794952,  0.41062063,  0.42329177,  0.43596292,\n",
              "         0.44863406,  0.4613052 ,  0.47397634,  0.48664746,  0.4993186 ,\n",
              "         0.51198971,  0.52466089,  0.537332  ,  0.55000317,  0.56267428,\n",
              "         0.57534546,  0.58801657,  0.60068768,  0.61335886,  0.62602997,\n",
              "         0.63870114,  0.65137225,  0.66404337,  0.67671454,  0.68938565,\n",
              "         0.70205683,  0.71472794,  0.72739905,  0.74007022,  0.75274134,\n",
              "         0.76541251,  0.77808362,  0.79075474,  0.80342591,  0.81609702,\n",
              "         0.82876819,  0.84143931,  0.85411042,  0.86678159,  0.87945271,\n",
              "         0.89212388,  0.90479499,  0.9174661 ,  0.93013728,  0.94280839,\n",
              "         0.95547956,  0.96815068,  0.98082185,  0.99349296,  1.00616407,\n",
              "         1.01883519,  1.03150642,  1.04417753,  1.05684865,  1.06951976,\n",
              "         1.08219087,  1.0948621 ,  1.10753322,  1.12020433,  1.13287544,\n",
              "         1.14554656,  1.15821779,  1.1708889 ,  1.18356001,  1.19623113,\n",
              "         1.20890224,  1.22157347,  1.23424459,  1.2469157 ,  1.25958681,\n",
              "         1.27225792,  1.28492916,  1.29760027,  1.31027138,  1.3229425 ,\n",
              "         1.33561361,  1.34828484,  1.36095595,  1.37362707,  1.38629818,\n",
              "         1.39896929,  1.41164052,  1.42431164,  1.43698275,  1.44965386,\n",
              "         1.46232498,  1.47499621,  1.48766732,  1.50033844,  1.51300955,\n",
              "         1.52568078,  1.53835189,  1.55102301,  1.56369412,  1.57636523,\n",
              "         1.58903646,  1.60170758,  1.61437869,  1.6270498 ,  1.63972092,\n",
              "         1.65239215,  1.66506326,  1.67773438,  1.69040549,  1.7030766 ,\n",
              "         1.71574783,  1.72841895,  1.74109006,  1.75376117,  1.76643229,\n",
              "         1.77910352,  1.79177463,  1.80444574,  1.81711686,  1.82978797,\n",
              "         1.8424592 ,  1.85513031,  1.86780143]),\n",
              " <BarContainer object of 177 artists>)"
            ]
          },
          "execution_count": 22,
          "metadata": {},
          "output_type": "execute_result"
        },
        {
          "data": {
            "image/png": "[encoded data removed]",
            "text/plain": [
              "<Figure size 640x480 with 1 Axes>"
            ]
          },
          "metadata": {},
          "output_type": "display_data"
        }
      ],
      "source": [
        "#y = torch.flatten(FP32_model.Conv[0].weight)\n",
        "y = torch.flatten(output_activation['Conv.1'])\n",
        "y = y.cpu()\n",
        "y = torch.flatten(y)\n",
        "y = y.detach()\n",
        "y = y.numpy()\n",
        "print(y.shape)\n",
        "\n",
        "plt.hist(y, bins='auto',density=True)"
      ]
    },
    {
      "cell_type": "code",
      "execution_count": 21,
      "metadata": {},
      "outputs": [
        {
          "name": "stdout",
          "output_type": "stream",
          "text": [
            "tensor([[[[-85., -85., -85.,  ..., -85., -85., -85.],\n",
            "          [-85., -85., -85.,  ..., -85., -85., -85.],\n",
            "          [-85., -85., -85.,  ..., -85., -85., -85.],\n",
            "          ...,\n",
            "          [-85., -85., -85.,  ..., -85., -85., -85.],\n",
            "          [-85., -85., -85.,  ..., -85., -85., -85.],\n",
            "          [-85., -85., -85.,  ..., -85., -85., -85.]],\n",
            "\n",
            "         [[-85., -85., -85.,  ..., -85., -85., -85.],\n",
            "          [-85., -85., -85.,  ..., -85., -85., -85.],\n",
            "          [-85., -85., -85.,  ..., -85., -85., -85.],\n",
            "          ...,\n",
            "          [-85., -85., -85.,  ..., -85., -85., -85.],\n",
            "          [-85., -85., -85.,  ..., -85., -85., -85.],\n",
            "          [-85., -85., -85.,  ..., -85., -85., -85.]],\n",
            "\n",
            "         [[104., 104., 104.,  ..., 104., 104., 104.],\n",
            "          [104., 104., 104.,  ..., 104., 104., 104.],\n",
            "          [104., 104., 104.,  ..., 104., 104., 104.],\n",
            "          ...,\n",
            "          [104., 104., 104.,  ..., 104., 104., 104.],\n",
            "          [104., 104., 104.,  ..., 104., 104., 104.],\n",
            "          [104., 104., 104.,  ..., 104., 104., 104.]],\n",
            "\n",
            "         [[-85., -85., -85.,  ..., -85., -85., -85.],\n",
            "          [-85., -85., -85.,  ..., -85., -85., -85.],\n",
            "          [-85., -85., -85.,  ..., -85., -85., -85.],\n",
            "          ...,\n",
            "          [-85., -85., -85.,  ..., -85., -85., -85.],\n",
            "          [-85., -85., -85.,  ..., -85., -85., -85.],\n",
            "          [-85., -85., -85.,  ..., -85., -85., -85.]],\n",
            "\n",
            "         [[-85., -85., -85.,  ..., -85., -85., -85.],\n",
            "          [-85., -85., -85.,  ..., -85., -85., -85.],\n",
            "          [-85., -85., -85.,  ..., -85., -85., -85.],\n",
            "          ...,\n",
            "          [-85., -85., -85.,  ..., -85., -85., -85.],\n",
            "          [-85., -85., -85.,  ..., -85., -85., -85.],\n",
            "          [-85., -85., -85.,  ..., -85., -85., -85.]]]], device='cuda:0')\n",
            "(3920,)\n"
          ]
        },
        {
          "data": {
            "text/plain": [
              "(array([0.00427671, 0.        , 0.0457383 , 0.        , 0.        ,\n",
              "        0.        , 0.0005102 , 0.        , 0.        , 0.        ,\n",
              "        0.        , 0.        , 0.        , 0.00829832, 0.        ]),\n",
              " array([-127., -110.,  -93.,  -76.,  -59.,  -42.,  -25.,   -8.,    9.,\n",
              "          26.,   43.,   60.,   77.,   94.,  111.,  128.]),\n",
              " <BarContainer object of 15 artists>)"
            ]
          },
          "execution_count": 21,
          "metadata": {},
          "output_type": "execute_result"
        },
        {
          "data": {
            "image/png": "[encoded data removed]",
            "text/plain": [
              "<Figure size 640x480 with 1 Axes>"
            ]
          },
          "metadata": {},
          "output_type": "display_data"
        }
      ],
      "source": [
        "#x = torch.flatten(quantized_weights12)\n",
        "#x = torch.flatten(quantized_model.Conv[1].weights)\n",
        "print(q_output_activation['Conv.3'])\n",
        "x = torch.flatten(q_output_activation['Conv.3'])\n",
        "x = x.cpu()\n",
        "x = torch.flatten(x)\n",
        "x = x.detach()\n",
        "x = x.numpy()\n",
        "print(x.shape)\n",
        "\n",
        "plt.hist(x, bins='auto',range=(-127,128),density=True)"
      ]
    }
  ],
  "metadata": {
    "colab": {
      "provenance": []
    },
    "kernelspec": {
      "display_name": "Python 3",
      "name": "python3"
    },
    "language_info": {
      "codemirror_mode": {
        "name": "ipython",
        "version": 3
      },
      "file_extension": ".py",
      "mimetype": "text/x-python",
      "name": "python",
      "nbconvert_exporter": "python",
      "pygments_lexer": "ipython3",
      "version": "3.11.6"
    }
  },
  "nbformat": 4,
  "nbformat_minor": 0
}
