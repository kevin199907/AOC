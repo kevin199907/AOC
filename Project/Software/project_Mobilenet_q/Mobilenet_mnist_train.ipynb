{
  "cells": [
    {
      "cell_type": "code",
      "execution_count": 2,
      "metadata": {
        "id": "4pUIX5bUsmOv"
      },
      "outputs": [],
      "source": [
        "import torch\n",
        "import torch.nn as nn\n",
        "import torch.nn.functional as F\n",
        "import torchvision\n",
        "import torchvision.transforms as transforms\n",
        "from torchsummary import summary\n",
        "import torch.optim as optim\n",
        "from torchvision import datasets\n",
        "from tqdm import tqdm\n",
        "import numpy as np\n",
        "from torch.utils.data.sampler import SubsetRandomSampler\n",
        "import math\n",
        "device = torch.device('cuda:0' if torch.cuda.is_available() else 'cpu')\n",
        "use_gpu = torch.cuda.is_available()"
      ]
    },
    {
      "attachments": {},
      "cell_type": "markdown",
      "metadata": {
        "id": "1LrOZnfTZbX9"
      },
      "source": [
        "# Model Design\n"
      ]
    },
    {
      "attachments": {},
      "cell_type": "markdown",
      "metadata": {
        "id": "72yQM3hcb9FR"
      },
      "source": [
        "Some tips you can use in the model design:\n",
        "\n",
        "*   Convolution\n",
        "*   Linear\n",
        "*   Pooling\n",
        "*   Batch normalization\n",
        "*   ReLU\n",
        "*   Dropout\n",
        "\n",
        "\n"
      ]
    },
    {
      "cell_type": "code",
      "execution_count": 3,
      "metadata": {
        "id": "jYh4byzmMWIc"
      },
      "outputs": [],
      "source": [
        "def _make_divisible(v, divisor, min_value=None):\n",
        "    \"\"\"\n",
        "    This function is taken from the original tf repo.\n",
        "    It ensures that all layers have a channel number that is divisible by 8\n",
        "    It can be seen here:\n",
        "    https://github.com/tensorflow/models/blob/master/research/slim/nets/mobilenet/mobilenet.py\n",
        "    :param v:\n",
        "    :param divisor:\n",
        "    :param min_value:\n",
        "    :return:\n",
        "    \"\"\"\n",
        "    if min_value is None:\n",
        "        min_value = divisor\n",
        "    new_v = max(min_value, int(v + divisor / 2) // divisor * divisor)\n",
        "    # Make sure that round down does not go down by more than 10%.\n",
        "    if new_v < 0.9 * v:\n",
        "        new_v += divisor\n",
        "    return new_v\n",
        "\n",
        "class h_sigmoid(nn.Module):\n",
        "    def __init__(self, inplace=True):\n",
        "        super(h_sigmoid, self).__init__()\n",
        "        self.relu = nn.ReLU6(inplace=inplace)\n",
        "\n",
        "    def forward(self, x):\n",
        "        return self.relu(x + 3) / 6\n",
        "\n",
        "\n",
        "class h_swish(nn.Module):\n",
        "    def __init__(self, inplace=True):\n",
        "        super(h_swish, self).__init__()\n",
        "        self.sigmoid = h_sigmoid(inplace=inplace)\n",
        "\n",
        "    def forward(self, x):\n",
        "        return x * self.sigmoid(x)\n",
        "\n",
        "\n",
        "class SELayer(nn.Module):\n",
        "    def __init__(self, channel, reduction=4):\n",
        "        super(SELayer, self).__init__()\n",
        "        self.avg_pool = nn.AdaptiveAvgPool2d(1)\n",
        "        self.fc = nn.Sequential(\n",
        "                nn.Linear(channel, _make_divisible(channel // reduction, 8)),\n",
        "                nn.ReLU(inplace=True),\n",
        "                nn.Linear(_make_divisible(channel // reduction, 8), channel),\n",
        "                h_sigmoid()\n",
        "        )\n",
        "\n",
        "    def forward(self, x):\n",
        "        b, c, _, _ = x.size()\n",
        "        y = self.avg_pool(x).view(b, c)\n",
        "        y = self.fc(y).view(b, c, 1, 1)\n",
        "        return x * y\n",
        " \n",
        "\n",
        "class MobileNetV3_block(nn.Module):\n",
        "    def __init__(self, infp, outfp, middle_feature ,kernel_size,stride,padding):\n",
        "        super(MobileNetV3_block, self).__init__()\n",
        "        ############ My Design #########\n",
        "        self.pw1 = nn.Conv2d(in_channels=infp, out_channels=middle_feature, kernel_size=1, stride=1,padding= 0, bias=False)\n",
        "        self.bn1 = nn.BatchNorm2d(middle_feature)\n",
        "        self.hs1 = h_swish()\n",
        "\n",
        "        self.dw1 = nn.Conv2d(middle_feature,middle_feature,kernel_size,stride=stride,padding=padding,groups=middle_feature, bias=False)\n",
        "        self.bn2 = nn.BatchNorm2d(middle_feature)\n",
        "        self.hs2 = h_swish()\n",
        "        self.se1 = SELayer(middle_feature)\n",
        "        self.hs3 = h_swish()\n",
        "        self.pw2 = nn.Conv2d(in_channels=middle_feature, out_channels=outfp, kernel_size=1, stride=1,padding= 0, bias=False)\n",
        "        self.bn3 = nn.BatchNorm2d( outfp)\n",
        "        self.hs4 = h_swish()\n",
        "    \n",
        "    def forward(self,x):\n",
        "        out = self.pw1(x)\n",
        "        out = self.bn1(out)\n",
        "        out = self.hs1(out)\n",
        "        out = self.dw1(out)\n",
        "        out = self.bn2(out)\n",
        "        out = self.hs2(out)\n",
        "        out = self.se1(out)\n",
        "        out = self.hs3(out)\n",
        "        out = self.pw2(out)\n",
        "        out = self.bn3(out)\n",
        "        out = self.hs4(out)\n",
        "        return out\n",
        "\n",
        "class Our_MobileNetV3(nn.Module):\n",
        "    def __init__(self):\n",
        "        super(Our_MobileNetV3, self).__init__()\n",
        "        self.conv1 = nn.Conv2d(in_channels=1,out_channels=8,kernel_size=3,stride=1,padding=1,bias = False)\n",
        "        self.block1 = MobileNetV3_block(infp = 8, outfp=16 , middle_feature=8 ,kernel_size=3,stride=2,padding=1)\n",
        "        self.block2 = MobileNetV3_block(infp = 16, outfp=32 , middle_feature=48 ,kernel_size=3,stride=2,padding=1)\n",
        "        self.block3 = MobileNetV3_block(infp = 32, outfp=32 , middle_feature=64 ,kernel_size=3,stride=2,padding=1)\n",
        "        self.block4 = MobileNetV3_block(infp = 32, outfp=48 , middle_feature=64 ,kernel_size=3,stride=2,padding=1)\n",
        "        self.block5 = MobileNetV3_block(infp = 48, outfp=64 , middle_feature=96 ,kernel_size=3,stride=2,padding=1)\n",
        "        self.block6 = MobileNetV3_block(infp = 64, outfp=64 , middle_feature=96 ,kernel_size=3,stride=2,padding=1)\n",
        "        self.block7 = MobileNetV3_block(infp = 64, outfp=32 , middle_feature=48 ,kernel_size=3,stride=2,padding=1)\n",
        "        self.avgpool = nn.AdaptiveAvgPool2d(1)\n",
        "        self.linear1 = nn.Linear(32,20,bias=False)\n",
        "        self.swish = h_swish()\n",
        "        self.linear2 = nn.Linear(20,10,bias=False)\n",
        "\n",
        "    \n",
        "    def forward(self,x):\n",
        "        out = self.conv1(x)\n",
        "        out = self.block1(out)\n",
        "        out = self.block2(out)\n",
        "        out = self.block3(out)\n",
        "        out = self.block4(out)\n",
        "        out = self.block5(out)\n",
        "        out = self.block6(out)\n",
        "        out = self.block7(out)\n",
        "        out = self.avgpool(out)\n",
        "        out = out.view(out.size(0),-1)\n",
        "        out = self.linear1(out)\n",
        "        out = self.swish(out)\n",
        "        out = self.linear2(out)\n",
        "        return out\n",
        "\n",
        "\n"
      ]
    },
    {
      "cell_type": "code",
      "execution_count": 4,
      "metadata": {
        "id": "AE5V7xlThSvZ"
      },
      "outputs": [],
      "source": [
        "# Create an instance of the DNN model\n",
        "net =  Our_MobileNetV3().cuda()  # Move the model to GPU if available"
      ]
    },
    {
      "attachments": {},
      "cell_type": "markdown",
      "metadata": {
        "id": "Axxipd9UZu8f"
      },
      "source": [
        "# Caculating the number of the parameter and the MACs of the model"
      ]
    },
    {
      "cell_type": "code",
      "execution_count": 5,
      "metadata": {
        "colab": {
          "base_uri": "https://localhost:8080/"
        },
        "id": "I9Ij-VC8tIk8",
        "outputId": "794879db-1ff9-4ae8-d98a-1f86f9e92a6c"
      },
      "outputs": [
        {
          "name": "stdout",
          "output_type": "stream",
          "text": [
            "----------------------------------------------------------------\n",
            "        Layer (type)               Output Shape         Param #\n",
            "================================================================\n",
            "            Conv2d-1            [-1, 8, 28, 28]              72\n",
            "            Conv2d-2            [-1, 8, 28, 28]              64\n",
            "       BatchNorm2d-3            [-1, 8, 28, 28]              16\n",
            "             ReLU6-4            [-1, 8, 28, 28]               0\n",
            "         h_sigmoid-5            [-1, 8, 28, 28]               0\n",
            "           h_swish-6            [-1, 8, 28, 28]               0\n",
            "            Conv2d-7            [-1, 8, 14, 14]              72\n",
            "       BatchNorm2d-8            [-1, 8, 14, 14]              16\n",
            "             ReLU6-9            [-1, 8, 14, 14]               0\n",
            "        h_sigmoid-10            [-1, 8, 14, 14]               0\n",
            "          h_swish-11            [-1, 8, 14, 14]               0\n",
            "AdaptiveAvgPool2d-12              [-1, 8, 1, 1]               0\n",
            "           Linear-13                    [-1, 8]              72\n",
            "             ReLU-14                    [-1, 8]               0\n",
            "           Linear-15                    [-1, 8]              72\n",
            "            ReLU6-16                    [-1, 8]               0\n",
            "        h_sigmoid-17                    [-1, 8]               0\n",
            "          SELayer-18            [-1, 8, 14, 14]               0\n",
            "            ReLU6-19            [-1, 8, 14, 14]               0\n",
            "        h_sigmoid-20            [-1, 8, 14, 14]               0\n",
            "          h_swish-21            [-1, 8, 14, 14]               0\n",
            "           Conv2d-22           [-1, 16, 14, 14]             128\n",
            "      BatchNorm2d-23           [-1, 16, 14, 14]              32\n",
            "            ReLU6-24           [-1, 16, 14, 14]               0\n",
            "        h_sigmoid-25           [-1, 16, 14, 14]               0\n",
            "          h_swish-26           [-1, 16, 14, 14]               0\n",
            "MobileNetV3_block-27           [-1, 16, 14, 14]               0\n",
            "           Conv2d-28           [-1, 48, 14, 14]             768\n",
            "      BatchNorm2d-29           [-1, 48, 14, 14]              96\n",
            "            ReLU6-30           [-1, 48, 14, 14]               0\n",
            "        h_sigmoid-31           [-1, 48, 14, 14]               0\n",
            "          h_swish-32           [-1, 48, 14, 14]               0\n",
            "           Conv2d-33             [-1, 48, 7, 7]             432\n",
            "      BatchNorm2d-34             [-1, 48, 7, 7]              96\n",
            "            ReLU6-35             [-1, 48, 7, 7]               0\n",
            "        h_sigmoid-36             [-1, 48, 7, 7]               0\n",
            "          h_swish-37             [-1, 48, 7, 7]               0\n",
            "AdaptiveAvgPool2d-38             [-1, 48, 1, 1]               0\n",
            "           Linear-39                   [-1, 16]             784\n",
            "             ReLU-40                   [-1, 16]               0\n",
            "           Linear-41                   [-1, 48]             816\n",
            "            ReLU6-42                   [-1, 48]               0\n",
            "        h_sigmoid-43                   [-1, 48]               0\n",
            "          SELayer-44             [-1, 48, 7, 7]               0\n",
            "            ReLU6-45             [-1, 48, 7, 7]               0\n",
            "        h_sigmoid-46             [-1, 48, 7, 7]               0\n",
            "          h_swish-47             [-1, 48, 7, 7]               0\n",
            "           Conv2d-48             [-1, 32, 7, 7]           1,536\n",
            "      BatchNorm2d-49             [-1, 32, 7, 7]              64\n",
            "            ReLU6-50             [-1, 32, 7, 7]               0\n",
            "        h_sigmoid-51             [-1, 32, 7, 7]               0\n",
            "          h_swish-52             [-1, 32, 7, 7]               0\n",
            "MobileNetV3_block-53             [-1, 32, 7, 7]               0\n",
            "           Conv2d-54             [-1, 64, 7, 7]           2,048\n",
            "      BatchNorm2d-55             [-1, 64, 7, 7]             128\n",
            "            ReLU6-56             [-1, 64, 7, 7]               0\n",
            "        h_sigmoid-57             [-1, 64, 7, 7]               0\n",
            "          h_swish-58             [-1, 64, 7, 7]               0\n",
            "           Conv2d-59             [-1, 64, 4, 4]             576\n",
            "      BatchNorm2d-60             [-1, 64, 4, 4]             128\n",
            "            ReLU6-61             [-1, 64, 4, 4]               0\n",
            "        h_sigmoid-62             [-1, 64, 4, 4]               0\n",
            "          h_swish-63             [-1, 64, 4, 4]               0\n",
            "AdaptiveAvgPool2d-64             [-1, 64, 1, 1]               0\n",
            "           Linear-65                   [-1, 16]           1,040\n",
            "             ReLU-66                   [-1, 16]               0\n",
            "           Linear-67                   [-1, 64]           1,088\n",
            "            ReLU6-68                   [-1, 64]               0\n",
            "        h_sigmoid-69                   [-1, 64]               0\n",
            "          SELayer-70             [-1, 64, 4, 4]               0\n",
            "            ReLU6-71             [-1, 64, 4, 4]               0\n",
            "        h_sigmoid-72             [-1, 64, 4, 4]               0\n",
            "          h_swish-73             [-1, 64, 4, 4]               0\n",
            "           Conv2d-74             [-1, 32, 4, 4]           2,048\n",
            "      BatchNorm2d-75             [-1, 32, 4, 4]              64\n",
            "            ReLU6-76             [-1, 32, 4, 4]               0\n",
            "        h_sigmoid-77             [-1, 32, 4, 4]               0\n",
            "          h_swish-78             [-1, 32, 4, 4]               0\n",
            "MobileNetV3_block-79             [-1, 32, 4, 4]               0\n",
            "           Conv2d-80             [-1, 64, 4, 4]           2,048\n",
            "      BatchNorm2d-81             [-1, 64, 4, 4]             128\n",
            "            ReLU6-82             [-1, 64, 4, 4]               0\n",
            "        h_sigmoid-83             [-1, 64, 4, 4]               0\n",
            "          h_swish-84             [-1, 64, 4, 4]               0\n",
            "           Conv2d-85             [-1, 64, 2, 2]             576\n",
            "      BatchNorm2d-86             [-1, 64, 2, 2]             128\n",
            "            ReLU6-87             [-1, 64, 2, 2]               0\n",
            "        h_sigmoid-88             [-1, 64, 2, 2]               0\n",
            "          h_swish-89             [-1, 64, 2, 2]               0\n",
            "AdaptiveAvgPool2d-90             [-1, 64, 1, 1]               0\n",
            "           Linear-91                   [-1, 16]           1,040\n",
            "             ReLU-92                   [-1, 16]               0\n",
            "           Linear-93                   [-1, 64]           1,088\n",
            "            ReLU6-94                   [-1, 64]               0\n",
            "        h_sigmoid-95                   [-1, 64]               0\n",
            "          SELayer-96             [-1, 64, 2, 2]               0\n",
            "            ReLU6-97             [-1, 64, 2, 2]               0\n",
            "        h_sigmoid-98             [-1, 64, 2, 2]               0\n",
            "          h_swish-99             [-1, 64, 2, 2]               0\n",
            "          Conv2d-100             [-1, 48, 2, 2]           3,072\n",
            "     BatchNorm2d-101             [-1, 48, 2, 2]              96\n",
            "           ReLU6-102             [-1, 48, 2, 2]               0\n",
            "       h_sigmoid-103             [-1, 48, 2, 2]               0\n",
            "         h_swish-104             [-1, 48, 2, 2]               0\n",
            "MobileNetV3_block-105             [-1, 48, 2, 2]               0\n",
            "          Conv2d-106             [-1, 96, 2, 2]           4,608\n",
            "     BatchNorm2d-107             [-1, 96, 2, 2]             192\n",
            "           ReLU6-108             [-1, 96, 2, 2]               0\n",
            "       h_sigmoid-109             [-1, 96, 2, 2]               0\n",
            "         h_swish-110             [-1, 96, 2, 2]               0\n",
            "          Conv2d-111             [-1, 96, 1, 1]             864\n",
            "     BatchNorm2d-112             [-1, 96, 1, 1]             192\n",
            "           ReLU6-113             [-1, 96, 1, 1]               0\n",
            "       h_sigmoid-114             [-1, 96, 1, 1]               0\n",
            "         h_swish-115             [-1, 96, 1, 1]               0\n",
            "AdaptiveAvgPool2d-116             [-1, 96, 1, 1]               0\n",
            "          Linear-117                   [-1, 24]           2,328\n",
            "            ReLU-118                   [-1, 24]               0\n",
            "          Linear-119                   [-1, 96]           2,400\n",
            "           ReLU6-120                   [-1, 96]               0\n",
            "       h_sigmoid-121                   [-1, 96]               0\n",
            "         SELayer-122             [-1, 96, 1, 1]               0\n",
            "           ReLU6-123             [-1, 96, 1, 1]               0\n",
            "       h_sigmoid-124             [-1, 96, 1, 1]               0\n",
            "         h_swish-125             [-1, 96, 1, 1]               0\n",
            "          Conv2d-126             [-1, 64, 1, 1]           6,144\n",
            "     BatchNorm2d-127             [-1, 64, 1, 1]             128\n",
            "           ReLU6-128             [-1, 64, 1, 1]               0\n",
            "       h_sigmoid-129             [-1, 64, 1, 1]               0\n",
            "         h_swish-130             [-1, 64, 1, 1]               0\n",
            "MobileNetV3_block-131             [-1, 64, 1, 1]               0\n",
            "          Conv2d-132             [-1, 96, 1, 1]           6,144\n",
            "     BatchNorm2d-133             [-1, 96, 1, 1]             192\n",
            "           ReLU6-134             [-1, 96, 1, 1]               0\n",
            "       h_sigmoid-135             [-1, 96, 1, 1]               0\n",
            "         h_swish-136             [-1, 96, 1, 1]               0\n",
            "          Conv2d-137             [-1, 96, 1, 1]             864\n",
            "     BatchNorm2d-138             [-1, 96, 1, 1]             192\n",
            "           ReLU6-139             [-1, 96, 1, 1]               0\n",
            "       h_sigmoid-140             [-1, 96, 1, 1]               0\n",
            "         h_swish-141             [-1, 96, 1, 1]               0\n",
            "AdaptiveAvgPool2d-142             [-1, 96, 1, 1]               0\n",
            "          Linear-143                   [-1, 24]           2,328\n",
            "            ReLU-144                   [-1, 24]               0\n",
            "          Linear-145                   [-1, 96]           2,400\n",
            "           ReLU6-146                   [-1, 96]               0\n",
            "       h_sigmoid-147                   [-1, 96]               0\n",
            "         SELayer-148             [-1, 96, 1, 1]               0\n",
            "           ReLU6-149             [-1, 96, 1, 1]               0\n",
            "       h_sigmoid-150             [-1, 96, 1, 1]               0\n",
            "         h_swish-151             [-1, 96, 1, 1]               0\n",
            "          Conv2d-152             [-1, 64, 1, 1]           6,144\n",
            "     BatchNorm2d-153             [-1, 64, 1, 1]             128\n",
            "           ReLU6-154             [-1, 64, 1, 1]               0\n",
            "       h_sigmoid-155             [-1, 64, 1, 1]               0\n",
            "         h_swish-156             [-1, 64, 1, 1]               0\n",
            "MobileNetV3_block-157             [-1, 64, 1, 1]               0\n",
            "          Conv2d-158             [-1, 48, 1, 1]           3,072\n",
            "     BatchNorm2d-159             [-1, 48, 1, 1]              96\n",
            "           ReLU6-160             [-1, 48, 1, 1]               0\n",
            "       h_sigmoid-161             [-1, 48, 1, 1]               0\n",
            "         h_swish-162             [-1, 48, 1, 1]               0\n",
            "          Conv2d-163             [-1, 48, 1, 1]             432\n",
            "     BatchNorm2d-164             [-1, 48, 1, 1]              96\n",
            "           ReLU6-165             [-1, 48, 1, 1]               0\n",
            "       h_sigmoid-166             [-1, 48, 1, 1]               0\n",
            "         h_swish-167             [-1, 48, 1, 1]               0\n",
            "AdaptiveAvgPool2d-168             [-1, 48, 1, 1]               0\n",
            "          Linear-169                   [-1, 16]             784\n",
            "            ReLU-170                   [-1, 16]               0\n",
            "          Linear-171                   [-1, 48]             816\n",
            "           ReLU6-172                   [-1, 48]               0\n",
            "       h_sigmoid-173                   [-1, 48]               0\n",
            "         SELayer-174             [-1, 48, 1, 1]               0\n",
            "           ReLU6-175             [-1, 48, 1, 1]               0\n",
            "       h_sigmoid-176             [-1, 48, 1, 1]               0\n",
            "         h_swish-177             [-1, 48, 1, 1]               0\n",
            "          Conv2d-178             [-1, 32, 1, 1]           1,536\n",
            "     BatchNorm2d-179             [-1, 32, 1, 1]              64\n",
            "           ReLU6-180             [-1, 32, 1, 1]               0\n",
            "       h_sigmoid-181             [-1, 32, 1, 1]               0\n",
            "         h_swish-182             [-1, 32, 1, 1]               0\n",
            "MobileNetV3_block-183             [-1, 32, 1, 1]               0\n",
            "AdaptiveAvgPool2d-184             [-1, 32, 1, 1]               0\n",
            "          Linear-185                   [-1, 20]             640\n",
            "           ReLU6-186                   [-1, 20]               0\n",
            "       h_sigmoid-187                   [-1, 20]               0\n",
            "         h_swish-188                   [-1, 20]               0\n",
            "          Linear-189                   [-1, 10]             200\n",
            "================================================================\n",
            "Total params: 63,416\n",
            "Trainable params: 63,416\n",
            "Non-trainable params: 0\n",
            "----------------------------------------------------------------\n",
            "Input size (MB): 0.00\n",
            "Forward/backward pass size (MB): 1.47\n",
            "Params size (MB): 0.24\n",
            "Estimated Total Size (MB): 1.71\n",
            "----------------------------------------------------------------\n",
            "[INFO] Register count_convNd() for <class 'torch.nn.modules.conv.Conv2d'>.\n",
            "[INFO] Register count_normalization() for <class 'torch.nn.modules.batchnorm.BatchNorm2d'>.\n",
            "[INFO] Register zero_ops() for <class 'torch.nn.modules.activation.ReLU6'>.\n",
            "[INFO] Register count_adap_avgpool() for <class 'torch.nn.modules.pooling.AdaptiveAvgPool2d'>.\n",
            "[INFO] Register count_linear() for <class 'torch.nn.modules.linear.Linear'>.\n",
            "[INFO] Register zero_ops() for <class 'torch.nn.modules.activation.ReLU'>.\n",
            "[INFO] Register zero_ops() for <class 'torch.nn.modules.container.Sequential'>.\n",
            "MACs = 0.000774896G\n",
            "Params = 0.063416M\n"
          ]
        }
      ],
      "source": [
        "def count_parameters(model):\n",
        "    return sum(p.numel() for p in model.parameters() if p.requires_grad)\n",
        "grad_para = count_parameters(net)\n",
        "# print(f'Total params: {grad_para / 1e6}M')\n",
        "summary(net,(1,28,28))\n",
        "\n",
        "#Compute MACs\n",
        "from thop import profile\n",
        "input1 = torch.randn(1,1,28,28).cuda()\n",
        "MACs, params = profile(net, inputs=(input1, ))\n",
        "print('MACs = ' + str(MACs/1000**3) + 'G')\n",
        "print('Params = ' + str(params/1000**2) + 'M')\n",
        "\n"
      ]
    },
    {
      "attachments": {},
      "cell_type": "markdown",
      "metadata": {
        "id": "9P1zmlUkbUJd"
      },
      "source": [
        "# Configuration"
      ]
    },
    {
      "cell_type": "code",
      "execution_count": 6,
      "metadata": {
        "id": "OAqeDnegt-wW"
      },
      "outputs": [],
      "source": [
        "### TODO : You can modify the configuration for model training ###\n",
        "\n",
        "# For the classification task, we use cross-entropy as the measurement of performance.\n",
        "criterion = nn.CrossEntropyLoss()\n",
        "\n",
        "# Initialize optimizer, you may fine-tune some hyperparameters such as learning rate on your own.\n",
        "optimizer = optim.Adam(net.parameters(), lr=0.001)\n",
        "\n",
        "# The number of batch size.\n",
        "batch_size = 512\n",
        "\n",
        "# If no improvement in 'patience' epochs, early stop.\n",
        "patience  = 10\n",
        "\n",
        "# The number of training epochs\n",
        "n_epoch = 100\n",
        "\n",
        "_exp_name = \"N26122246_minist\""
      ]
    },
    {
      "attachments": {},
      "cell_type": "markdown",
      "metadata": {
        "id": "YAQbIclcm0JX"
      },
      "source": [
        "# Dataloader"
      ]
    },
    {
      "cell_type": "code",
      "execution_count": 7,
      "metadata": {
        "colab": {
          "base_uri": "https://localhost:8080/"
        },
        "id": "oIVOCYSLm0RO",
        "outputId": "f1420064-c079-463d-bd9d-d8ee7541cb67"
      },
      "outputs": [],
      "source": [
        "\n",
        "\n",
        "# Select training_set and testing_set (dataset : FashionMNIST )\n",
        "train_data = datasets.FashionMNIST(\"data\",train= True, download=True,   transform = transforms.ToTensor())\n",
        "\n",
        "test_data = datasets.FashionMNIST(\"data\",  train= False, download=True, transform = transforms.ToTensor())\n",
        "\n",
        "# # Number of subprocesses to use for data loading\n",
        "# num_workers = 0\n",
        "\n",
        "# Percentage of training set to use as validation\n",
        "n_valid = 0.2\n",
        "\n",
        "# Get indices for training_set and validation_set\n",
        "n_train = len(train_data)\n",
        "indices = list(range(n_train))\n",
        "np.random.shuffle(indices)\n",
        "\n",
        "split = int(np.floor(n_valid * n_train))\n",
        "train_idx, valid_idx = indices[split:], indices[:split]\n",
        "\n",
        "# Define samplers for obtaining training and validation\n",
        "train_sampler = SubsetRandomSampler(train_idx)\n",
        "valid_sampler = SubsetRandomSampler(valid_idx)\n"
      ]
    },
    {
      "cell_type": "code",
      "execution_count": 8,
      "metadata": {
        "id": "McDXU5qdtujs"
      },
      "outputs": [],
      "source": [
        "# Training data\n",
        "trainset = torchvision.datasets.FashionMNIST(root='./data', train=True, download=True, transform=transforms.ToTensor())\n",
        "trainloader = torch.utils.data.DataLoader(trainset, batch_size=batch_size,  sampler = train_sampler , num_workers=2)\n",
        "\n",
        "# Validation data\n",
        "validloader = torch.utils.data.DataLoader(trainset, batch_size = batch_size, sampler = valid_sampler, num_workers = 2)\n",
        "\n",
        "# Test data\n",
        "testset = torchvision.datasets.FashionMNIST(root='./data', train=False, download=True, transform=transforms.ToTensor())\n",
        "testloader = torch.utils.data.DataLoader(testset, batch_size=batch_size,  num_workers=2)\n",
        "\n"
      ]
    },
    {
      "attachments": {},
      "cell_type": "markdown",
      "metadata": {
        "id": "6brCFwGvbW2M"
      },
      "source": [
        "# Model Training"
      ]
    },
    {
      "cell_type": "code",
      "execution_count": 9,
      "metadata": {},
      "outputs": [
        {
          "name": "stdout",
          "output_type": "stream",
          "text": [
            "========================================================================================================\n",
            "[ Train | 001/100 ] loss = 2.10878, acc = 0.19070\n"
          ]
        },
        {
          "name": "stderr",
          "output_type": "stream",
          "text": [
            "100%|██████████| 24/24 [00:02<00:00,  9.07it/s]\n"
          ]
        },
        {
          "name": "stdout",
          "output_type": "stream",
          "text": [
            "[ Valid | 001/100 ] loss = 1.71376, acc = 0.29598\n",
            "Best model found at epoch 001, saving model\n",
            "========================================================================================================\n",
            "[ Train | 002/100 ] loss = 1.27750, acc = 0.48399\n"
          ]
        },
        {
          "name": "stderr",
          "output_type": "stream",
          "text": [
            "100%|██████████| 24/24 [00:02<00:00,  8.86it/s]\n"
          ]
        },
        {
          "name": "stdout",
          "output_type": "stream",
          "text": [
            "[ Valid | 002/100 ] loss = 0.87470, acc = 0.68331\n",
            "Best model found at epoch 002, saving model\n",
            "========================================================================================================\n",
            "[ Train | 003/100 ] loss = 0.67992, acc = 0.73751\n"
          ]
        },
        {
          "name": "stderr",
          "output_type": "stream",
          "text": [
            "100%|██████████| 24/24 [00:02<00:00,  9.32it/s]\n"
          ]
        },
        {
          "name": "stdout",
          "output_type": "stream",
          "text": [
            "[ Valid | 003/100 ] loss = 0.58222, acc = 0.77405\n",
            "Best model found at epoch 003, saving model\n",
            "========================================================================================================\n",
            "[ Train | 004/100 ] loss = 0.50410, acc = 0.81165\n"
          ]
        },
        {
          "name": "stderr",
          "output_type": "stream",
          "text": [
            "100%|██████████| 24/24 [00:02<00:00,  9.17it/s]\n"
          ]
        },
        {
          "name": "stdout",
          "output_type": "stream",
          "text": [
            "[ Valid | 004/100 ] loss = 0.48573, acc = 0.82366\n",
            "Best model found at epoch 004, saving model\n",
            "========================================================================================================\n",
            "[ Train | 005/100 ] loss = 0.41583, acc = 0.84965\n"
          ]
        },
        {
          "name": "stderr",
          "output_type": "stream",
          "text": [
            "100%|██████████| 24/24 [00:02<00:00,  9.30it/s]\n"
          ]
        },
        {
          "name": "stdout",
          "output_type": "stream",
          "text": [
            "[ Valid | 005/100 ] loss = 0.41476, acc = 0.84891\n",
            "Best model found at epoch 005, saving model\n",
            "========================================================================================================\n",
            "[ Train | 006/100 ] loss = 0.36338, acc = 0.86629\n"
          ]
        },
        {
          "name": "stderr",
          "output_type": "stream",
          "text": [
            "100%|██████████| 24/24 [00:02<00:00,  9.21it/s]\n"
          ]
        },
        {
          "name": "stdout",
          "output_type": "stream",
          "text": [
            "[ Valid | 006/100 ] loss = 0.38730, acc = 0.86057\n",
            "Best model found at epoch 006, saving model\n",
            "========================================================================================================\n",
            "[ Train | 007/100 ] loss = 0.33196, acc = 0.87734\n"
          ]
        },
        {
          "name": "stderr",
          "output_type": "stream",
          "text": [
            "100%|██████████| 24/24 [00:02<00:00,  9.07it/s]\n"
          ]
        },
        {
          "name": "stdout",
          "output_type": "stream",
          "text": [
            "[ Valid | 007/100 ] loss = 0.37610, acc = 0.86251\n",
            "Best model found at epoch 007, saving model\n",
            "========================================================================================================\n",
            "[ Train | 008/100 ] loss = 0.31032, acc = 0.88494\n"
          ]
        },
        {
          "name": "stderr",
          "output_type": "stream",
          "text": [
            "100%|██████████| 24/24 [00:02<00:00,  9.31it/s]\n"
          ]
        },
        {
          "name": "stdout",
          "output_type": "stream",
          "text": [
            "[ Valid | 008/100 ] loss = 0.36540, acc = 0.86629\n",
            "Best model found at epoch 008, saving model\n",
            "========================================================================================================\n",
            "[ Train | 009/100 ] loss = 0.28967, acc = 0.89362\n"
          ]
        },
        {
          "name": "stderr",
          "output_type": "stream",
          "text": [
            "100%|██████████| 24/24 [00:02<00:00,  9.32it/s]\n"
          ]
        },
        {
          "name": "stdout",
          "output_type": "stream",
          "text": [
            "[ Valid | 009/100 ] loss = 0.35627, acc = 0.87107\n",
            "Best model found at epoch 009, saving model\n",
            "========================================================================================================\n",
            "[ Train | 010/100 ] loss = 0.27469, acc = 0.89844\n"
          ]
        },
        {
          "name": "stderr",
          "output_type": "stream",
          "text": [
            "100%|██████████| 24/24 [00:02<00:00,  9.41it/s]\n"
          ]
        },
        {
          "name": "stdout",
          "output_type": "stream",
          "text": [
            "[ Valid | 010/100 ] loss = 0.35510, acc = 0.87278\n",
            "Best model found at epoch 010, saving model\n",
            "========================================================================================================\n",
            "[ Train | 011/100 ] loss = 0.26042, acc = 0.90321\n"
          ]
        },
        {
          "name": "stderr",
          "output_type": "stream",
          "text": [
            "100%|██████████| 24/24 [00:02<00:00,  9.28it/s]\n"
          ]
        },
        {
          "name": "stdout",
          "output_type": "stream",
          "text": [
            "[ Valid | 011/100 ] loss = 0.34634, acc = 0.87534\n",
            "Best model found at epoch 011, saving model\n",
            "========================================================================================================\n",
            "[ Train | 012/100 ] loss = 0.24986, acc = 0.90791\n"
          ]
        },
        {
          "name": "stderr",
          "output_type": "stream",
          "text": [
            "100%|██████████| 24/24 [00:02<00:00,  9.22it/s]\n"
          ]
        },
        {
          "name": "stdout",
          "output_type": "stream",
          "text": [
            "[ Valid | 012/100 ] loss = 0.34359, acc = 0.87795\n",
            "Best model found at epoch 012, saving model\n",
            "========================================================================================================\n",
            "[ Train | 013/100 ] loss = 0.24112, acc = 0.91105\n"
          ]
        },
        {
          "name": "stderr",
          "output_type": "stream",
          "text": [
            "100%|██████████| 24/24 [00:02<00:00,  8.96it/s]\n"
          ]
        },
        {
          "name": "stdout",
          "output_type": "stream",
          "text": [
            "[ Valid | 013/100 ] loss = 0.35211, acc = 0.87556\n",
            "========================================================================================================\n",
            "[ Train | 014/100 ] loss = 0.23144, acc = 0.91453\n"
          ]
        },
        {
          "name": "stderr",
          "output_type": "stream",
          "text": [
            "100%|██████████| 24/24 [00:02<00:00,  9.20it/s]\n"
          ]
        },
        {
          "name": "stdout",
          "output_type": "stream",
          "text": [
            "[ Valid | 014/100 ] loss = 0.33982, acc = 0.88307\n",
            "Best model found at epoch 014, saving model\n",
            "========================================================================================================\n",
            "[ Train | 015/100 ] loss = 0.22345, acc = 0.91728\n"
          ]
        },
        {
          "name": "stderr",
          "output_type": "stream",
          "text": [
            "100%|██████████| 24/24 [00:02<00:00,  9.23it/s]\n"
          ]
        },
        {
          "name": "stdout",
          "output_type": "stream",
          "text": [
            "[ Valid | 015/100 ] loss = 0.33897, acc = 0.88425\n",
            "Best model found at epoch 015, saving model\n",
            "========================================================================================================\n",
            "[ Train | 016/100 ] loss = 0.21059, acc = 0.92139\n"
          ]
        },
        {
          "name": "stderr",
          "output_type": "stream",
          "text": [
            "100%|██████████| 24/24 [00:02<00:00,  9.20it/s]\n"
          ]
        },
        {
          "name": "stdout",
          "output_type": "stream",
          "text": [
            "[ Valid | 016/100 ] loss = 0.35020, acc = 0.88180\n",
            "========================================================================================================\n",
            "[ Train | 017/100 ] loss = 0.20462, acc = 0.92415\n"
          ]
        },
        {
          "name": "stderr",
          "output_type": "stream",
          "text": [
            "100%|██████████| 24/24 [00:02<00:00,  8.75it/s]\n"
          ]
        },
        {
          "name": "stdout",
          "output_type": "stream",
          "text": [
            "[ Valid | 017/100 ] loss = 0.34235, acc = 0.88464\n",
            "Best model found at epoch 017, saving model\n",
            "========================================================================================================\n",
            "[ Train | 018/100 ] loss = 0.20144, acc = 0.92519\n"
          ]
        },
        {
          "name": "stderr",
          "output_type": "stream",
          "text": [
            "100%|██████████| 24/24 [00:02<00:00,  8.92it/s]\n"
          ]
        },
        {
          "name": "stdout",
          "output_type": "stream",
          "text": [
            "[ Valid | 018/100 ] loss = 0.35197, acc = 0.88224\n",
            "========================================================================================================\n",
            "[ Train | 019/100 ] loss = 0.19393, acc = 0.92915\n"
          ]
        },
        {
          "name": "stderr",
          "output_type": "stream",
          "text": [
            "100%|██████████| 24/24 [00:02<00:00,  8.85it/s]\n"
          ]
        },
        {
          "name": "stdout",
          "output_type": "stream",
          "text": [
            "[ Valid | 019/100 ] loss = 0.34794, acc = 0.88178\n",
            "========================================================================================================\n",
            "[ Train | 020/100 ] loss = 0.18666, acc = 0.93019\n"
          ]
        },
        {
          "name": "stderr",
          "output_type": "stream",
          "text": [
            "100%|██████████| 24/24 [00:02<00:00,  8.62it/s]\n"
          ]
        },
        {
          "name": "stdout",
          "output_type": "stream",
          "text": [
            "[ Valid | 020/100 ] loss = 0.34825, acc = 0.88449\n",
            "========================================================================================================\n",
            "[ Train | 021/100 ] loss = 0.18372, acc = 0.93243\n"
          ]
        },
        {
          "name": "stderr",
          "output_type": "stream",
          "text": [
            "100%|██████████| 24/24 [00:02<00:00,  9.29it/s]\n"
          ]
        },
        {
          "name": "stdout",
          "output_type": "stream",
          "text": [
            "[ Valid | 021/100 ] loss = 0.36494, acc = 0.88246\n",
            "========================================================================================================\n",
            "[ Train | 022/100 ] loss = 0.17286, acc = 0.93673\n"
          ]
        },
        {
          "name": "stderr",
          "output_type": "stream",
          "text": [
            "100%|██████████| 24/24 [00:02<00:00,  8.66it/s]\n"
          ]
        },
        {
          "name": "stdout",
          "output_type": "stream",
          "text": [
            "[ Valid | 022/100 ] loss = 0.37220, acc = 0.88157\n",
            "========================================================================================================\n",
            "[ Train | 023/100 ] loss = 0.17147, acc = 0.93792\n"
          ]
        },
        {
          "name": "stderr",
          "output_type": "stream",
          "text": [
            "100%|██████████| 24/24 [00:02<00:00,  8.69it/s]\n"
          ]
        },
        {
          "name": "stdout",
          "output_type": "stream",
          "text": [
            "[ Valid | 023/100 ] loss = 0.36355, acc = 0.88334\n",
            "========================================================================================================\n",
            "[ Train | 024/100 ] loss = 0.16451, acc = 0.94001\n"
          ]
        },
        {
          "name": "stderr",
          "output_type": "stream",
          "text": [
            "100%|██████████| 24/24 [00:02<00:00,  9.33it/s]\n"
          ]
        },
        {
          "name": "stdout",
          "output_type": "stream",
          "text": [
            "[ Valid | 024/100 ] loss = 0.37721, acc = 0.88046\n",
            "========================================================================================================\n",
            "[ Train | 025/100 ] loss = 0.16092, acc = 0.94029\n"
          ]
        },
        {
          "name": "stderr",
          "output_type": "stream",
          "text": [
            "100%|██████████| 24/24 [00:02<00:00,  9.28it/s]\n"
          ]
        },
        {
          "name": "stdout",
          "output_type": "stream",
          "text": [
            "[ Valid | 025/100 ] loss = 0.37632, acc = 0.88408\n",
            "========================================================================================================\n",
            "[ Train | 026/100 ] loss = 0.15590, acc = 0.94182\n"
          ]
        },
        {
          "name": "stderr",
          "output_type": "stream",
          "text": [
            "100%|██████████| 24/24 [00:02<00:00,  9.24it/s]\n"
          ]
        },
        {
          "name": "stdout",
          "output_type": "stream",
          "text": [
            "[ Valid | 026/100 ] loss = 0.38300, acc = 0.88323\n",
            "========================================================================================================\n",
            "[ Train | 027/100 ] loss = 0.15311, acc = 0.94295\n"
          ]
        },
        {
          "name": "stderr",
          "output_type": "stream",
          "text": [
            "100%|██████████| 24/24 [00:02<00:00,  9.29it/s]\n"
          ]
        },
        {
          "name": "stdout",
          "output_type": "stream",
          "text": [
            "[ Valid | 027/100 ] loss = 0.37983, acc = 0.88525\n",
            "Best model found at epoch 027, saving model\n",
            "========================================================================================================\n",
            "[ Train | 028/100 ] loss = 0.14303, acc = 0.94690\n"
          ]
        },
        {
          "name": "stderr",
          "output_type": "stream",
          "text": [
            "100%|██████████| 24/24 [00:02<00:00,  9.01it/s]\n"
          ]
        },
        {
          "name": "stdout",
          "output_type": "stream",
          "text": [
            "[ Valid | 028/100 ] loss = 0.40309, acc = 0.87855\n",
            "========================================================================================================\n",
            "[ Train | 029/100 ] loss = 0.14170, acc = 0.94727\n"
          ]
        },
        {
          "name": "stderr",
          "output_type": "stream",
          "text": [
            "100%|██████████| 24/24 [00:02<00:00,  9.07it/s]\n"
          ]
        },
        {
          "name": "stdout",
          "output_type": "stream",
          "text": [
            "[ Valid | 029/100 ] loss = 0.38938, acc = 0.88370\n",
            "========================================================================================================\n",
            "[ Train | 030/100 ] loss = 0.14234, acc = 0.94656\n"
          ]
        },
        {
          "name": "stderr",
          "output_type": "stream",
          "text": [
            "100%|██████████| 24/24 [00:02<00:00,  9.38it/s]\n"
          ]
        },
        {
          "name": "stdout",
          "output_type": "stream",
          "text": [
            "[ Valid | 030/100 ] loss = 0.40057, acc = 0.88218\n",
            "========================================================================================================\n",
            "[ Train | 031/100 ] loss = 0.13607, acc = 0.94969\n"
          ]
        },
        {
          "name": "stderr",
          "output_type": "stream",
          "text": [
            "100%|██████████| 24/24 [00:02<00:00,  9.28it/s]\n"
          ]
        },
        {
          "name": "stdout",
          "output_type": "stream",
          "text": [
            "[ Valid | 031/100 ] loss = 0.42100, acc = 0.88050\n",
            "========================================================================================================\n",
            "[ Train | 032/100 ] loss = 0.13190, acc = 0.95202\n"
          ]
        },
        {
          "name": "stderr",
          "output_type": "stream",
          "text": [
            "100%|██████████| 24/24 [00:02<00:00,  9.39it/s]\n"
          ]
        },
        {
          "name": "stdout",
          "output_type": "stream",
          "text": [
            "[ Valid | 032/100 ] loss = 0.41748, acc = 0.88223\n",
            "========================================================================================================\n",
            "[ Train | 033/100 ] loss = 0.12837, acc = 0.95326\n"
          ]
        },
        {
          "name": "stderr",
          "output_type": "stream",
          "text": [
            "100%|██████████| 24/24 [00:02<00:00,  9.45it/s]\n"
          ]
        },
        {
          "name": "stdout",
          "output_type": "stream",
          "text": [
            "[ Valid | 033/100 ] loss = 0.42468, acc = 0.88028\n",
            "========================================================================================================\n",
            "[ Train | 034/100 ] loss = 0.12246, acc = 0.95487\n"
          ]
        },
        {
          "name": "stderr",
          "output_type": "stream",
          "text": [
            "100%|██████████| 24/24 [00:02<00:00,  9.35it/s]\n"
          ]
        },
        {
          "name": "stdout",
          "output_type": "stream",
          "text": [
            "[ Valid | 034/100 ] loss = 0.41906, acc = 0.88416\n",
            "========================================================================================================\n",
            "[ Train | 035/100 ] loss = 0.11989, acc = 0.95666\n"
          ]
        },
        {
          "name": "stderr",
          "output_type": "stream",
          "text": [
            "100%|██████████| 24/24 [00:02<00:00,  9.27it/s]\n"
          ]
        },
        {
          "name": "stdout",
          "output_type": "stream",
          "text": [
            "[ Valid | 035/100 ] loss = 0.41323, acc = 0.88435\n",
            "========================================================================================================\n",
            "[ Train | 036/100 ] loss = 0.11871, acc = 0.95592\n"
          ]
        },
        {
          "name": "stderr",
          "output_type": "stream",
          "text": [
            "100%|██████████| 24/24 [00:02<00:00,  9.38it/s]\n"
          ]
        },
        {
          "name": "stdout",
          "output_type": "stream",
          "text": [
            "[ Valid | 036/100 ] loss = 0.42033, acc = 0.88411\n",
            "========================================================================================================\n",
            "[ Train | 037/100 ] loss = 0.10872, acc = 0.96128\n"
          ]
        },
        {
          "name": "stderr",
          "output_type": "stream",
          "text": [
            "100%|██████████| 24/24 [00:02<00:00,  9.39it/s]\n"
          ]
        },
        {
          "name": "stdout",
          "output_type": "stream",
          "text": [
            "[ Valid | 037/100 ] loss = 0.43969, acc = 0.88454\n",
            "========================================================================================================\n",
            "[ Train | 038/100 ] loss = 0.10699, acc = 0.96042\n"
          ]
        },
        {
          "name": "stderr",
          "output_type": "stream",
          "text": [
            "100%|██████████| 24/24 [00:02<00:00,  9.30it/s]"
          ]
        },
        {
          "name": "stdout",
          "output_type": "stream",
          "text": [
            "[ Valid | 038/100 ] loss = 0.45728, acc = 0.88045\n",
            "No improvment 10 consecutive epochs, early stopping\n",
            "Finished Training\n"
          ]
        },
        {
          "name": "stderr",
          "output_type": "stream",
          "text": [
            "\n"
          ]
        }
      ],
      "source": [
        "train_loss_epoch = []\n",
        "val_loss_epoch = []\n",
        "\n",
        "best_acc = 0\n",
        "epoch_counter = 0\n",
        "\n",
        "for epoch in range(n_epoch):  # loop over the dataset multiple times\n",
        "\n",
        "\n",
        "    running_loss = 0.0\n",
        "    epoch_counter += 1\n",
        "\n",
        "    ################## Training ##################\n",
        "    # These are used to record information in training.\n",
        "    train_loss = []\n",
        "    train_accs = []\n",
        "\n",
        "    for i, data in enumerate(trainloader):\n",
        "        # get the inputs; data is a list of [inputs, labels]\n",
        "        inputs, labels = data\n",
        "        if use_gpu:\n",
        "            inputs, labels = inputs.cuda(),labels.cuda()\n",
        "        # zero the parameter gradients\n",
        "        optimizer.zero_grad()\n",
        "        # forward + backward + optimize\n",
        "        outputs = net(inputs)\n",
        "        loss = criterion(outputs, labels)\n",
        "        loss.backward()\n",
        "        optimizer.step()\n",
        "\n",
        "        # Compute the accuracy for current batch.\n",
        "        acc = (outputs.argmax(dim=-1) == labels.to(device)).float().mean()\n",
        "\n",
        "        # Record the loss and accuracy.\n",
        "        train_loss.append(loss.item())\n",
        "        train_accs.append(acc)\n",
        "\n",
        "    train_loss = sum(train_loss) / len(train_loss)\n",
        "    train_acc = sum(train_accs) / len(train_accs)\n",
        "\n",
        "    train_loss_epoch.append(train_loss)\n",
        "\n",
        "\n",
        "    # Print the information.\n",
        "    print('========================================================================================================')\n",
        "    print(f\"[ Train | {epoch + 1:03d}/{n_epoch:03d} ] loss = {train_loss:.5f}, acc = {train_acc:.5f}\")\n",
        "\n",
        "    ################## Validition ##################\n",
        "    valid_loss = []\n",
        "    valid_accs = []\n",
        "\n",
        "    # Iterate the validation set by batches.\n",
        "    for data in tqdm(validloader):\n",
        "\n",
        "        # A batch consists of image data and corresponding labels.\n",
        "        imgs, labels = data\n",
        "        #imgs = imgs.half()\n",
        "\n",
        "        # We don't need gradient in validation.\n",
        "        # Using torch.no_grad() accelerates the forward process.\n",
        "        with torch.no_grad():\n",
        "            logits = net(imgs.to(device))\n",
        "\n",
        "        # We can still compute the loss (but not the gradient).\n",
        "        loss = criterion(logits, labels.to(device))\n",
        "\n",
        "        # Compute the accuracy for current batch.\n",
        "        acc = (logits.argmax(dim=-1) == labels.to(device)).float().mean()\n",
        "\n",
        "        # Record the loss and accuracy.\n",
        "        valid_loss.append(loss.item())\n",
        "        valid_accs.append(acc.item())\n",
        "        #break\n",
        "\n",
        "    valid_loss = sum(valid_loss) / len(valid_loss)\n",
        "    valid_acc = sum(valid_accs) / len(valid_accs)\n",
        "\n",
        "    val_loss_epoch.append(valid_loss)\n",
        "\n",
        "\n",
        "    # Print the information.\n",
        "    print(f\"[ Valid | {epoch + 1:03d}/{n_epoch:03d} ] loss = {valid_loss:.5f}, acc = {valid_acc:.5f}\")\n",
        "\n",
        "\n",
        "     # save models\n",
        "    if valid_acc > best_acc:\n",
        "        print(f\"Best model found at epoch {epoch + 1:03d}, saving model\")\n",
        "        torch.save(net.state_dict(), f\"{_exp_name}_best.ckpt\") # only save best to prevent output memory exceed error\n",
        "        best_acc = valid_acc\n",
        "        stale = 0\n",
        "    else:\n",
        "        stale += 1\n",
        "        if stale > patience:\n",
        "            print(f\"No improvment {patience} consecutive epochs, early stopping\")\n",
        "            break\n",
        "\n",
        "print('Finished Training')"
      ]
    },
    {
      "attachments": {},
      "cell_type": "markdown",
      "metadata": {
        "id": "i1FysodHZ_Vy"
      },
      "source": [
        "# Model Testing"
      ]
    },
    {
      "attachments": {},
      "cell_type": "markdown",
      "metadata": {
        "id": "tE5Wel6g1r67"
      },
      "source": [
        "Your test accuracy  shoud be greater than 85%"
      ]
    },
    {
      "cell_type": "code",
      "execution_count": 10,
      "metadata": {
        "colab": {
          "base_uri": "https://localhost:8080/"
        },
        "id": "0qU93KBtvE-N",
        "outputId": "a6f060d2-eaea-4f77-f704-574c447ec5a3"
      },
      "outputs": [
        {
          "name": "stdout",
          "output_type": "stream",
          "text": [
            "Accuracy of the network on the 10000 test images: 88 %\n"
          ]
        }
      ],
      "source": [
        "correct = 0\n",
        "total = 0\n",
        "# since we're not training, we don't need to calculate the gradients for our outputs\n",
        "with torch.no_grad():\n",
        "    for data in testloader:\n",
        "        images, labels = data\n",
        "        if use_gpu:\n",
        "            images, labels = images.cuda(),labels.cuda()\n",
        "        # calculate outputs by running images through the network\n",
        "        outputs = net(images)\n",
        "        # the class with the highest energy is what we choose as prediction\n",
        "        _, predicted = torch.max(outputs.data, 1)\n",
        "        total += labels.size(0)\n",
        "        correct += (predicted == labels).sum().item()\n",
        "\n",
        "print(f'Accuracy of the network on the 10000 test images: {100 * correct // total} %')"
      ]
    },
    {
      "attachments": {},
      "cell_type": "markdown",
      "metadata": {
        "id": "8S5nKlhLaIq-"
      },
      "source": [
        "# Plot the train/val Loss curve"
      ]
    },
    {
      "attachments": {},
      "cell_type": "markdown",
      "metadata": {
        "id": "y7scBA59aXjl"
      },
      "source": [
        "# Plot the train/val loss curve"
      ]
    },
    {
      "cell_type": "code",
      "execution_count": 11,
      "metadata": {
        "id": "1cX3Gest2APC"
      },
      "outputs": [
        {
          "data": {
            "image/png": "[encoded data removed]",
            "text/plain": [
              "<Figure size 640x480 with 1 Axes>"
            ]
          },
          "metadata": {},
          "output_type": "display_data"
        }
      ],
      "source": [
        "from matplotlib import pyplot as plt\n",
        "### TODO : Please plot the rain/val loss curve ###\n",
        "\n",
        "\n",
        "plt.plot(train_loss_epoch, label = 'train_loss')\n",
        "plt.plot(val_loss_epoch, label = 'valid_loss')\n",
        "plt.xlabel('Epoch')\n",
        "plt.ylabel('Loss')\n",
        "plt.legend()\n",
        "plt.show()\n",
        "###########################################################"
      ]
    },
    {
      "attachments": {},
      "cell_type": "markdown",
      "metadata": {
        "id": "YtzycHHEaotl"
      },
      "source": [
        "## Downloading \".onnx file\" , and using  Netron to visualize the model\n"
      ]
    },
    {
      "attachments": {},
      "cell_type": "markdown",
      "metadata": {
        "id": "DTnCedWtdX7R"
      },
      "source": [
        "Save the model in .onnx format\n"
      ]
    },
    {
      "cell_type": "code",
      "execution_count": 12,
      "metadata": {
        "id": "qWkJWw1leJal"
      },
      "outputs": [],
      "source": [
        "# Some standard imports\n",
        "import io\n",
        "import torch.utils.model_zoo as model_zoo\n",
        "import torch.onnx\n",
        "\n",
        "trained_net = Our_MobileNetV3().cuda()\n",
        "\n",
        "input_shape = torch.randn(1,1,28,28).cuda()\n",
        "trained_net_weight = torch.load(\"N26122246_minist_best.ckpt\")\n",
        "trained_net.load_state_dict(trained_net_weight,strict=False)\n",
        "trained_net.eval()\n",
        "\n",
        "### TODO : export your model in .onnx format ###\n",
        "torch.onnx.export( trained_net,\n",
        "                  input_shape,\n",
        "                  \"N26122246_fashion_mnist.onnx\",\n",
        "                  opset_version=10,\n",
        "                  do_constant_folding=True,\n",
        "                  input_names = ['input'],\n",
        "                  output_names = ['output'],\n",
        "                  dynamic_axes={'input' : {0 : 'batch_size'},    # variable length axes\n",
        "                                'output' : {0 : 'batch_size'}})\n",
        "\n"
      ]
    },
    {
      "attachments": {},
      "cell_type": "markdown",
      "metadata": {},
      "source": [
        "https://netron.app/"
      ]
    }
  ],
  "metadata": {
    "accelerator": "GPU",
    "colab": {
      "gpuType": "T4",
      "provenance": []
    },
    "kernelspec": {
      "display_name": "Python 3",
      "name": "python3"
    },
    "language_info": {
      "codemirror_mode": {
        "name": "ipython",
        "version": 3
      },
      "file_extension": ".py",
      "mimetype": "text/x-python",
      "name": "python",
      "nbconvert_exporter": "python",
      "pygments_lexer": "ipython3",
      "version": "3.11.6"
    }
  },
  "nbformat": 4,
  "nbformat_minor": 0
}
