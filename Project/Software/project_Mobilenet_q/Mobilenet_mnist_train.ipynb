{
  "cells": [
    {
      "cell_type": "code",
      "execution_count": 11,
      "metadata": {
        "id": "4pUIX5bUsmOv"
      },
      "outputs": [],
      "source": [
        "import torch\n",
        "import torch.nn as nn\n",
        "import torch.nn.functional as F\n",
        "import torchvision\n",
        "import torchvision.transforms as transforms\n",
        "from torchsummary import summary\n",
        "import torch.optim as optim\n",
        "from torchvision import datasets\n",
        "from tqdm import tqdm\n",
        "import numpy as np\n",
        "from torch.utils.data.sampler import SubsetRandomSampler\n",
        "import math\n",
        "device = torch.device('cuda:0' if torch.cuda.is_available() else 'cpu')\n",
        "use_gpu = torch.cuda.is_available()"
      ]
    },
    {
      "attachments": {},
      "cell_type": "markdown",
      "metadata": {
        "id": "1LrOZnfTZbX9"
      },
      "source": [
        "# Model Design\n"
      ]
    },
    {
      "attachments": {},
      "cell_type": "markdown",
      "metadata": {
        "id": "72yQM3hcb9FR"
      },
      "source": [
        "Some tips you can use in the model design:\n",
        "\n",
        "*   Convolution\n",
        "*   Linear\n",
        "*   Pooling\n",
        "*   Batch normalization\n",
        "*   ReLU\n",
        "*   Dropout\n",
        "\n",
        "\n"
      ]
    },
    {
      "cell_type": "code",
      "execution_count": 12,
      "metadata": {
        "id": "AE5V7xlThSvZ"
      },
      "outputs": [
        {
          "name": "stdout",
          "output_type": "stream",
          "text": [
            "Our_MobileNetV3(\n",
            "  (conv1): Conv2d(1, 8, kernel_size=(3, 3), stride=(1, 1), padding=(1, 1))\n",
            "  (block1): MobileNetV3_block(\n",
            "    (pw1): Conv2d(8, 8, kernel_size=(1, 1), stride=(1, 1), bias=False)\n",
            "    (bn1): BatchNorm2d(8, eps=1e-05, momentum=0.1, affine=True, track_running_stats=True)\n",
            "    (hs1): h_swish(\n",
            "      (sigmoid): h_sigmoid(\n",
            "        (relu): ReLU6(inplace=True)\n",
            "      )\n",
            "    )\n",
            "    (dw1): Conv2d(8, 8, kernel_size=(3, 3), stride=(2, 2), padding=(1, 1), groups=8, bias=False)\n",
            "    (bn2): BatchNorm2d(8, eps=1e-05, momentum=0.1, affine=True, track_running_stats=True)\n",
            "    (hs2): h_swish(\n",
            "      (sigmoid): h_sigmoid(\n",
            "        (relu): ReLU6(inplace=True)\n",
            "      )\n",
            "    )\n",
            "    (se1): SELayer(\n",
            "      (avg_pool): AdaptiveAvgPool2d(output_size=1)\n",
            "      (fc): Sequential(\n",
            "        (0): Linear(in_features=8, out_features=8, bias=False)\n",
            "        (1): ReLU(inplace=True)\n",
            "        (2): Linear(in_features=8, out_features=8, bias=False)\n",
            "        (3): ReLU(inplace=True)\n",
            "      )\n",
            "    )\n",
            "    (pw2): Conv2d(8, 16, kernel_size=(1, 1), stride=(1, 1), bias=False)\n",
            "    (bn3): BatchNorm2d(16, eps=1e-05, momentum=0.1, affine=True, track_running_stats=True)\n",
            "    (hs4): h_swish(\n",
            "      (sigmoid): h_sigmoid(\n",
            "        (relu): ReLU6(inplace=True)\n",
            "      )\n",
            "    )\n",
            "  )\n",
            "  (block2): MobileNetV3_block(\n",
            "    (pw1): Conv2d(16, 48, kernel_size=(1, 1), stride=(1, 1), bias=False)\n",
            "    (bn1): BatchNorm2d(48, eps=1e-05, momentum=0.1, affine=True, track_running_stats=True)\n",
            "    (hs1): h_swish(\n",
            "      (sigmoid): h_sigmoid(\n",
            "        (relu): ReLU6(inplace=True)\n",
            "      )\n",
            "    )\n",
            "    (dw1): Conv2d(48, 48, kernel_size=(3, 3), stride=(2, 2), padding=(1, 1), groups=48, bias=False)\n",
            "    (bn2): BatchNorm2d(48, eps=1e-05, momentum=0.1, affine=True, track_running_stats=True)\n",
            "    (hs2): h_swish(\n",
            "      (sigmoid): h_sigmoid(\n",
            "        (relu): ReLU6(inplace=True)\n",
            "      )\n",
            "    )\n",
            "    (se1): SELayer(\n",
            "      (avg_pool): AdaptiveAvgPool2d(output_size=1)\n",
            "      (fc): Sequential(\n",
            "        (0): Linear(in_features=48, out_features=16, bias=False)\n",
            "        (1): ReLU(inplace=True)\n",
            "        (2): Linear(in_features=16, out_features=48, bias=False)\n",
            "        (3): ReLU(inplace=True)\n",
            "      )\n",
            "    )\n",
            "    (pw2): Conv2d(48, 32, kernel_size=(1, 1), stride=(1, 1), bias=False)\n",
            "    (bn3): BatchNorm2d(32, eps=1e-05, momentum=0.1, affine=True, track_running_stats=True)\n",
            "    (hs4): h_swish(\n",
            "      (sigmoid): h_sigmoid(\n",
            "        (relu): ReLU6(inplace=True)\n",
            "      )\n",
            "    )\n",
            "  )\n",
            "  (block3): MobileNetV3_block(\n",
            "    (pw1): Conv2d(32, 64, kernel_size=(1, 1), stride=(1, 1), bias=False)\n",
            "    (bn1): BatchNorm2d(64, eps=1e-05, momentum=0.1, affine=True, track_running_stats=True)\n",
            "    (hs1): h_swish(\n",
            "      (sigmoid): h_sigmoid(\n",
            "        (relu): ReLU6(inplace=True)\n",
            "      )\n",
            "    )\n",
            "    (dw1): Conv2d(64, 64, kernel_size=(3, 3), stride=(2, 2), padding=(1, 1), groups=64, bias=False)\n",
            "    (bn2): BatchNorm2d(64, eps=1e-05, momentum=0.1, affine=True, track_running_stats=True)\n",
            "    (hs2): h_swish(\n",
            "      (sigmoid): h_sigmoid(\n",
            "        (relu): ReLU6(inplace=True)\n",
            "      )\n",
            "    )\n",
            "    (se1): SELayer(\n",
            "      (avg_pool): AdaptiveAvgPool2d(output_size=1)\n",
            "      (fc): Sequential(\n",
            "        (0): Linear(in_features=64, out_features=16, bias=False)\n",
            "        (1): ReLU(inplace=True)\n",
            "        (2): Linear(in_features=16, out_features=64, bias=False)\n",
            "        (3): ReLU(inplace=True)\n",
            "      )\n",
            "    )\n",
            "    (pw2): Conv2d(64, 32, kernel_size=(1, 1), stride=(1, 1), bias=False)\n",
            "    (bn3): BatchNorm2d(32, eps=1e-05, momentum=0.1, affine=True, track_running_stats=True)\n",
            "    (hs4): h_swish(\n",
            "      (sigmoid): h_sigmoid(\n",
            "        (relu): ReLU6(inplace=True)\n",
            "      )\n",
            "    )\n",
            "  )\n",
            "  (block4): MobileNetV3_block(\n",
            "    (pw1): Conv2d(32, 64, kernel_size=(1, 1), stride=(1, 1), bias=False)\n",
            "    (bn1): BatchNorm2d(64, eps=1e-05, momentum=0.1, affine=True, track_running_stats=True)\n",
            "    (hs1): h_swish(\n",
            "      (sigmoid): h_sigmoid(\n",
            "        (relu): ReLU6(inplace=True)\n",
            "      )\n",
            "    )\n",
            "    (dw1): Conv2d(64, 64, kernel_size=(3, 3), stride=(2, 2), padding=(1, 1), groups=64, bias=False)\n",
            "    (bn2): BatchNorm2d(64, eps=1e-05, momentum=0.1, affine=True, track_running_stats=True)\n",
            "    (hs2): h_swish(\n",
            "      (sigmoid): h_sigmoid(\n",
            "        (relu): ReLU6(inplace=True)\n",
            "      )\n",
            "    )\n",
            "    (se1): SELayer(\n",
            "      (avg_pool): AdaptiveAvgPool2d(output_size=1)\n",
            "      (fc): Sequential(\n",
            "        (0): Linear(in_features=64, out_features=16, bias=False)\n",
            "        (1): ReLU(inplace=True)\n",
            "        (2): Linear(in_features=16, out_features=64, bias=False)\n",
            "        (3): ReLU(inplace=True)\n",
            "      )\n",
            "    )\n",
            "    (pw2): Conv2d(64, 48, kernel_size=(1, 1), stride=(1, 1), bias=False)\n",
            "    (bn3): BatchNorm2d(48, eps=1e-05, momentum=0.1, affine=True, track_running_stats=True)\n",
            "    (hs4): h_swish(\n",
            "      (sigmoid): h_sigmoid(\n",
            "        (relu): ReLU6(inplace=True)\n",
            "      )\n",
            "    )\n",
            "  )\n",
            "  (block5): MobileNetV3_block(\n",
            "    (pw1): Conv2d(48, 96, kernel_size=(1, 1), stride=(1, 1), bias=False)\n",
            "    (bn1): BatchNorm2d(96, eps=1e-05, momentum=0.1, affine=True, track_running_stats=True)\n",
            "    (hs1): h_swish(\n",
            "      (sigmoid): h_sigmoid(\n",
            "        (relu): ReLU6(inplace=True)\n",
            "      )\n",
            "    )\n",
            "    (dw1): Conv2d(96, 96, kernel_size=(3, 3), stride=(2, 2), padding=(1, 1), groups=96, bias=False)\n",
            "    (bn2): BatchNorm2d(96, eps=1e-05, momentum=0.1, affine=True, track_running_stats=True)\n",
            "    (hs2): h_swish(\n",
            "      (sigmoid): h_sigmoid(\n",
            "        (relu): ReLU6(inplace=True)\n",
            "      )\n",
            "    )\n",
            "    (se1): SELayer(\n",
            "      (avg_pool): AdaptiveAvgPool2d(output_size=1)\n",
            "      (fc): Sequential(\n",
            "        (0): Linear(in_features=96, out_features=24, bias=False)\n",
            "        (1): ReLU(inplace=True)\n",
            "        (2): Linear(in_features=24, out_features=96, bias=False)\n",
            "        (3): ReLU(inplace=True)\n",
            "      )\n",
            "    )\n",
            "    (pw2): Conv2d(96, 64, kernel_size=(1, 1), stride=(1, 1), bias=False)\n",
            "    (bn3): BatchNorm2d(64, eps=1e-05, momentum=0.1, affine=True, track_running_stats=True)\n",
            "    (hs4): h_swish(\n",
            "      (sigmoid): h_sigmoid(\n",
            "        (relu): ReLU6(inplace=True)\n",
            "      )\n",
            "    )\n",
            "  )\n",
            "  (block6): MobileNetV3_block(\n",
            "    (pw1): Conv2d(64, 96, kernel_size=(1, 1), stride=(1, 1), bias=False)\n",
            "    (bn1): BatchNorm2d(96, eps=1e-05, momentum=0.1, affine=True, track_running_stats=True)\n",
            "    (hs1): h_swish(\n",
            "      (sigmoid): h_sigmoid(\n",
            "        (relu): ReLU6(inplace=True)\n",
            "      )\n",
            "    )\n",
            "    (dw1): Conv2d(96, 96, kernel_size=(3, 3), stride=(2, 2), padding=(1, 1), groups=96, bias=False)\n",
            "    (bn2): BatchNorm2d(96, eps=1e-05, momentum=0.1, affine=True, track_running_stats=True)\n",
            "    (hs2): h_swish(\n",
            "      (sigmoid): h_sigmoid(\n",
            "        (relu): ReLU6(inplace=True)\n",
            "      )\n",
            "    )\n",
            "    (se1): SELayer(\n",
            "      (avg_pool): AdaptiveAvgPool2d(output_size=1)\n",
            "      (fc): Sequential(\n",
            "        (0): Linear(in_features=96, out_features=24, bias=False)\n",
            "        (1): ReLU(inplace=True)\n",
            "        (2): Linear(in_features=24, out_features=96, bias=False)\n",
            "        (3): ReLU(inplace=True)\n",
            "      )\n",
            "    )\n",
            "    (pw2): Conv2d(96, 64, kernel_size=(1, 1), stride=(1, 1), bias=False)\n",
            "    (bn3): BatchNorm2d(64, eps=1e-05, momentum=0.1, affine=True, track_running_stats=True)\n",
            "    (hs4): h_swish(\n",
            "      (sigmoid): h_sigmoid(\n",
            "        (relu): ReLU6(inplace=True)\n",
            "      )\n",
            "    )\n",
            "  )\n",
            "  (block7): MobileNetV3_block(\n",
            "    (pw1): Conv2d(64, 48, kernel_size=(1, 1), stride=(1, 1), bias=False)\n",
            "    (bn1): BatchNorm2d(48, eps=1e-05, momentum=0.1, affine=True, track_running_stats=True)\n",
            "    (hs1): h_swish(\n",
            "      (sigmoid): h_sigmoid(\n",
            "        (relu): ReLU6(inplace=True)\n",
            "      )\n",
            "    )\n",
            "    (dw1): Conv2d(48, 48, kernel_size=(3, 3), stride=(2, 2), padding=(1, 1), groups=48, bias=False)\n",
            "    (bn2): BatchNorm2d(48, eps=1e-05, momentum=0.1, affine=True, track_running_stats=True)\n",
            "    (hs2): h_swish(\n",
            "      (sigmoid): h_sigmoid(\n",
            "        (relu): ReLU6(inplace=True)\n",
            "      )\n",
            "    )\n",
            "    (se1): SELayer(\n",
            "      (avg_pool): AdaptiveAvgPool2d(output_size=1)\n",
            "      (fc): Sequential(\n",
            "        (0): Linear(in_features=48, out_features=16, bias=False)\n",
            "        (1): ReLU(inplace=True)\n",
            "        (2): Linear(in_features=16, out_features=48, bias=False)\n",
            "        (3): ReLU(inplace=True)\n",
            "      )\n",
            "    )\n",
            "    (pw2): Conv2d(48, 32, kernel_size=(1, 1), stride=(1, 1), bias=False)\n",
            "    (bn3): BatchNorm2d(32, eps=1e-05, momentum=0.1, affine=True, track_running_stats=True)\n",
            "    (hs4): h_swish(\n",
            "      (sigmoid): h_sigmoid(\n",
            "        (relu): ReLU6(inplace=True)\n",
            "      )\n",
            "    )\n",
            "  )\n",
            "  (avgpool): AdaptiveAvgPool2d(output_size=1)\n",
            "  (classifier): Sequential(\n",
            "    (0): Linear(in_features=32, out_features=20, bias=False)\n",
            "    (1): ReLU(inplace=True)\n",
            "    (2): Linear(in_features=20, out_features=10, bias=False)\n",
            "  )\n",
            ")\n"
          ]
        }
      ],
      "source": [
        "# Create an instance of the DNN model\n",
        "from mobilenet_model.mobilenet_model import Our_MobileNetV3,BN_fold_Our_MobileNetV3\n",
        "from mobilenet_model.mobilenet_model import SELayer,h_swish,h_sigmoid\n",
        "from mobilenet_model.mobilenet_model import _make_divisible\n",
        "\n",
        "net =  Our_MobileNetV3().cuda()  # Move the model to GPU if available\n",
        "print(net)\n"
      ]
    },
    {
      "attachments": {},
      "cell_type": "markdown",
      "metadata": {
        "id": "Axxipd9UZu8f"
      },
      "source": [
        "# Caculating the number of the parameter and the MACs of the model"
      ]
    },
    {
      "cell_type": "code",
      "execution_count": 13,
      "metadata": {
        "colab": {
          "base_uri": "https://localhost:8080/"
        },
        "id": "I9Ij-VC8tIk8",
        "outputId": "794879db-1ff9-4ae8-d98a-1f86f9e92a6c"
      },
      "outputs": [
        {
          "name": "stdout",
          "output_type": "stream",
          "text": [
            "----------------------------------------------------------------\n",
            "        Layer (type)               Output Shape         Param #\n",
            "================================================================\n",
            "            Conv2d-1            [-1, 8, 28, 28]              80\n",
            "            Conv2d-2            [-1, 8, 28, 28]              64\n",
            "       BatchNorm2d-3            [-1, 8, 28, 28]              16\n",
            "             ReLU6-4            [-1, 8, 28, 28]               0\n",
            "         h_sigmoid-5            [-1, 8, 28, 28]               0\n",
            "           h_swish-6            [-1, 8, 28, 28]               0\n",
            "            Conv2d-7            [-1, 8, 14, 14]              72\n",
            "       BatchNorm2d-8            [-1, 8, 14, 14]              16\n",
            "             ReLU6-9            [-1, 8, 14, 14]               0\n",
            "        h_sigmoid-10            [-1, 8, 14, 14]               0\n",
            "          h_swish-11            [-1, 8, 14, 14]               0\n",
            "AdaptiveAvgPool2d-12              [-1, 8, 1, 1]               0\n",
            "           Linear-13                    [-1, 8]              64\n",
            "             ReLU-14                    [-1, 8]               0\n",
            "           Linear-15                    [-1, 8]              64\n",
            "             ReLU-16                    [-1, 8]               0\n",
            "          SELayer-17            [-1, 8, 14, 14]               0\n",
            "           Conv2d-18           [-1, 16, 14, 14]             128\n",
            "      BatchNorm2d-19           [-1, 16, 14, 14]              32\n",
            "            ReLU6-20           [-1, 16, 14, 14]               0\n",
            "        h_sigmoid-21           [-1, 16, 14, 14]               0\n",
            "          h_swish-22           [-1, 16, 14, 14]               0\n",
            "MobileNetV3_block-23           [-1, 16, 14, 14]               0\n",
            "           Conv2d-24           [-1, 48, 14, 14]             768\n",
            "      BatchNorm2d-25           [-1, 48, 14, 14]              96\n",
            "            ReLU6-26           [-1, 48, 14, 14]               0\n",
            "        h_sigmoid-27           [-1, 48, 14, 14]               0\n",
            "          h_swish-28           [-1, 48, 14, 14]               0\n",
            "           Conv2d-29             [-1, 48, 7, 7]             432\n",
            "      BatchNorm2d-30             [-1, 48, 7, 7]              96\n",
            "            ReLU6-31             [-1, 48, 7, 7]               0\n",
            "        h_sigmoid-32             [-1, 48, 7, 7]               0\n",
            "          h_swish-33             [-1, 48, 7, 7]               0\n",
            "AdaptiveAvgPool2d-34             [-1, 48, 1, 1]               0\n",
            "           Linear-35                   [-1, 16]             768\n",
            "             ReLU-36                   [-1, 16]               0\n",
            "           Linear-37                   [-1, 48]             768\n",
            "             ReLU-38                   [-1, 48]               0\n",
            "          SELayer-39             [-1, 48, 7, 7]               0\n",
            "           Conv2d-40             [-1, 32, 7, 7]           1,536\n",
            "      BatchNorm2d-41             [-1, 32, 7, 7]              64\n",
            "            ReLU6-42             [-1, 32, 7, 7]               0\n",
            "        h_sigmoid-43             [-1, 32, 7, 7]               0\n",
            "          h_swish-44             [-1, 32, 7, 7]               0\n",
            "MobileNetV3_block-45             [-1, 32, 7, 7]               0\n",
            "           Conv2d-46             [-1, 64, 7, 7]           2,048\n",
            "      BatchNorm2d-47             [-1, 64, 7, 7]             128\n",
            "            ReLU6-48             [-1, 64, 7, 7]               0\n",
            "        h_sigmoid-49             [-1, 64, 7, 7]               0\n",
            "          h_swish-50             [-1, 64, 7, 7]               0\n",
            "           Conv2d-51             [-1, 64, 4, 4]             576\n",
            "      BatchNorm2d-52             [-1, 64, 4, 4]             128\n",
            "            ReLU6-53             [-1, 64, 4, 4]               0\n",
            "        h_sigmoid-54             [-1, 64, 4, 4]               0\n",
            "          h_swish-55             [-1, 64, 4, 4]               0\n",
            "AdaptiveAvgPool2d-56             [-1, 64, 1, 1]               0\n",
            "           Linear-57                   [-1, 16]           1,024\n",
            "             ReLU-58                   [-1, 16]               0\n",
            "           Linear-59                   [-1, 64]           1,024\n",
            "             ReLU-60                   [-1, 64]               0\n",
            "          SELayer-61             [-1, 64, 4, 4]               0\n",
            "           Conv2d-62             [-1, 32, 4, 4]           2,048\n",
            "      BatchNorm2d-63             [-1, 32, 4, 4]              64\n",
            "            ReLU6-64             [-1, 32, 4, 4]               0\n",
            "        h_sigmoid-65             [-1, 32, 4, 4]               0\n",
            "          h_swish-66             [-1, 32, 4, 4]               0\n",
            "MobileNetV3_block-67             [-1, 32, 4, 4]               0\n",
            "           Conv2d-68             [-1, 64, 4, 4]           2,048\n",
            "      BatchNorm2d-69             [-1, 64, 4, 4]             128\n",
            "            ReLU6-70             [-1, 64, 4, 4]               0\n",
            "        h_sigmoid-71             [-1, 64, 4, 4]               0\n",
            "          h_swish-72             [-1, 64, 4, 4]               0\n",
            "           Conv2d-73             [-1, 64, 2, 2]             576\n",
            "      BatchNorm2d-74             [-1, 64, 2, 2]             128\n",
            "            ReLU6-75             [-1, 64, 2, 2]               0\n",
            "        h_sigmoid-76             [-1, 64, 2, 2]               0\n",
            "          h_swish-77             [-1, 64, 2, 2]               0\n",
            "AdaptiveAvgPool2d-78             [-1, 64, 1, 1]               0\n",
            "           Linear-79                   [-1, 16]           1,024\n",
            "             ReLU-80                   [-1, 16]               0\n",
            "           Linear-81                   [-1, 64]           1,024\n",
            "             ReLU-82                   [-1, 64]               0\n",
            "          SELayer-83             [-1, 64, 2, 2]               0\n",
            "           Conv2d-84             [-1, 48, 2, 2]           3,072\n",
            "      BatchNorm2d-85             [-1, 48, 2, 2]              96\n",
            "            ReLU6-86             [-1, 48, 2, 2]               0\n",
            "        h_sigmoid-87             [-1, 48, 2, 2]               0\n",
            "          h_swish-88             [-1, 48, 2, 2]               0\n",
            "MobileNetV3_block-89             [-1, 48, 2, 2]               0\n",
            "           Conv2d-90             [-1, 96, 2, 2]           4,608\n",
            "      BatchNorm2d-91             [-1, 96, 2, 2]             192\n",
            "            ReLU6-92             [-1, 96, 2, 2]               0\n",
            "        h_sigmoid-93             [-1, 96, 2, 2]               0\n",
            "          h_swish-94             [-1, 96, 2, 2]               0\n",
            "           Conv2d-95             [-1, 96, 1, 1]             864\n",
            "      BatchNorm2d-96             [-1, 96, 1, 1]             192\n",
            "            ReLU6-97             [-1, 96, 1, 1]               0\n",
            "        h_sigmoid-98             [-1, 96, 1, 1]               0\n",
            "          h_swish-99             [-1, 96, 1, 1]               0\n",
            "AdaptiveAvgPool2d-100             [-1, 96, 1, 1]               0\n",
            "          Linear-101                   [-1, 24]           2,304\n",
            "            ReLU-102                   [-1, 24]               0\n",
            "          Linear-103                   [-1, 96]           2,304\n",
            "            ReLU-104                   [-1, 96]               0\n",
            "         SELayer-105             [-1, 96, 1, 1]               0\n",
            "          Conv2d-106             [-1, 64, 1, 1]           6,144\n",
            "     BatchNorm2d-107             [-1, 64, 1, 1]             128\n",
            "           ReLU6-108             [-1, 64, 1, 1]               0\n",
            "       h_sigmoid-109             [-1, 64, 1, 1]               0\n",
            "         h_swish-110             [-1, 64, 1, 1]               0\n",
            "MobileNetV3_block-111             [-1, 64, 1, 1]               0\n",
            "          Conv2d-112             [-1, 96, 1, 1]           6,144\n",
            "     BatchNorm2d-113             [-1, 96, 1, 1]             192\n",
            "           ReLU6-114             [-1, 96, 1, 1]               0\n",
            "       h_sigmoid-115             [-1, 96, 1, 1]               0\n",
            "         h_swish-116             [-1, 96, 1, 1]               0\n",
            "          Conv2d-117             [-1, 96, 1, 1]             864\n",
            "     BatchNorm2d-118             [-1, 96, 1, 1]             192\n",
            "           ReLU6-119             [-1, 96, 1, 1]               0\n",
            "       h_sigmoid-120             [-1, 96, 1, 1]               0\n",
            "         h_swish-121             [-1, 96, 1, 1]               0\n",
            "AdaptiveAvgPool2d-122             [-1, 96, 1, 1]               0\n",
            "          Linear-123                   [-1, 24]           2,304\n",
            "            ReLU-124                   [-1, 24]               0\n",
            "          Linear-125                   [-1, 96]           2,304\n",
            "            ReLU-126                   [-1, 96]               0\n",
            "         SELayer-127             [-1, 96, 1, 1]               0\n",
            "          Conv2d-128             [-1, 64, 1, 1]           6,144\n",
            "     BatchNorm2d-129             [-1, 64, 1, 1]             128\n",
            "           ReLU6-130             [-1, 64, 1, 1]               0\n",
            "       h_sigmoid-131             [-1, 64, 1, 1]               0\n",
            "         h_swish-132             [-1, 64, 1, 1]               0\n",
            "MobileNetV3_block-133             [-1, 64, 1, 1]               0\n",
            "          Conv2d-134             [-1, 48, 1, 1]           3,072\n",
            "     BatchNorm2d-135             [-1, 48, 1, 1]              96\n",
            "           ReLU6-136             [-1, 48, 1, 1]               0\n",
            "       h_sigmoid-137             [-1, 48, 1, 1]               0\n",
            "         h_swish-138             [-1, 48, 1, 1]               0\n",
            "          Conv2d-139             [-1, 48, 1, 1]             432\n",
            "     BatchNorm2d-140             [-1, 48, 1, 1]              96\n",
            "           ReLU6-141             [-1, 48, 1, 1]               0\n",
            "       h_sigmoid-142             [-1, 48, 1, 1]               0\n",
            "         h_swish-143             [-1, 48, 1, 1]               0\n",
            "AdaptiveAvgPool2d-144             [-1, 48, 1, 1]               0\n",
            "          Linear-145                   [-1, 16]             768\n",
            "            ReLU-146                   [-1, 16]               0\n",
            "          Linear-147                   [-1, 48]             768\n",
            "            ReLU-148                   [-1, 48]               0\n",
            "         SELayer-149             [-1, 48, 1, 1]               0\n",
            "          Conv2d-150             [-1, 32, 1, 1]           1,536\n",
            "     BatchNorm2d-151             [-1, 32, 1, 1]              64\n",
            "           ReLU6-152             [-1, 32, 1, 1]               0\n",
            "       h_sigmoid-153             [-1, 32, 1, 1]               0\n",
            "         h_swish-154             [-1, 32, 1, 1]               0\n",
            "MobileNetV3_block-155             [-1, 32, 1, 1]               0\n",
            "AdaptiveAvgPool2d-156             [-1, 32, 1, 1]               0\n",
            "          Linear-157                   [-1, 20]             640\n",
            "            ReLU-158                   [-1, 20]               0\n",
            "          Linear-159                   [-1, 10]             200\n",
            "================================================================\n",
            "Total params: 62,880\n",
            "Trainable params: 62,880\n",
            "Non-trainable params: 0\n",
            "----------------------------------------------------------------\n",
            "Input size (MB): 0.00\n",
            "Forward/backward pass size (MB): 1.34\n",
            "Params size (MB): 0.24\n",
            "Estimated Total Size (MB): 1.58\n",
            "----------------------------------------------------------------\n",
            "[INFO] Register count_convNd() for <class 'torch.nn.modules.conv.Conv2d'>.\n",
            "[INFO] Register count_normalization() for <class 'torch.nn.modules.batchnorm.BatchNorm2d'>.\n",
            "[INFO] Register zero_ops() for <class 'torch.nn.modules.activation.ReLU6'>.\n",
            "[INFO] Register count_adap_avgpool() for <class 'torch.nn.modules.pooling.AdaptiveAvgPool2d'>.\n",
            "[INFO] Register count_linear() for <class 'torch.nn.modules.linear.Linear'>.\n",
            "[INFO] Register zero_ops() for <class 'torch.nn.modules.activation.ReLU'>.\n",
            "[INFO] Register zero_ops() for <class 'torch.nn.modules.container.Sequential'>.\n",
            "MACs = 0.000774896G\n",
            "Params = 0.06288M\n"
          ]
        }
      ],
      "source": [
        "def count_parameters(model):\n",
        "    return sum(p.numel() for p in model.parameters() if p.requires_grad)\n",
        "grad_para = count_parameters(net)\n",
        "# print(f'Total params: {grad_para / 1e6}M')\n",
        "summary(net,(1,28,28))\n",
        "\n",
        "#Compute MACs\n",
        "from thop import profile\n",
        "input1 = torch.randn(1,1,28,28).cuda()\n",
        "MACs, params = profile(net, inputs=(input1, ))\n",
        "print('MACs = ' + str(MACs/1000**3) + 'G')\n",
        "print('Params = ' + str(params/1000**2) + 'M')\n",
        "\n"
      ]
    },
    {
      "attachments": {},
      "cell_type": "markdown",
      "metadata": {
        "id": "9P1zmlUkbUJd"
      },
      "source": [
        "# Configuration"
      ]
    },
    {
      "cell_type": "code",
      "execution_count": 14,
      "metadata": {
        "id": "OAqeDnegt-wW"
      },
      "outputs": [],
      "source": [
        "### TODO : You can modify the configuration for model training ###\n",
        "\n",
        "# For the classification task, we use cross-entropy as the measurement of performance.\n",
        "criterion = nn.CrossEntropyLoss()\n",
        "\n",
        "# Initialize optimizer, you may fine-tune some hyperparameters such as learning rate on your own.\n",
        "optimizer = optim.Adam(net.parameters(), lr=0.001)\n",
        "\n",
        "# The number of batch size.\n",
        "batch_size = 512\n",
        "\n",
        "# If no improvement in 'patience' epochs, early stop.\n",
        "patience  = 10\n",
        "\n",
        "# The number of training epochs\n",
        "n_epoch = 100\n",
        "\n",
        "_exp_name = \"N26122246_minist\""
      ]
    },
    {
      "attachments": {},
      "cell_type": "markdown",
      "metadata": {
        "id": "YAQbIclcm0JX"
      },
      "source": [
        "# Dataloader"
      ]
    },
    {
      "cell_type": "code",
      "execution_count": 15,
      "metadata": {
        "colab": {
          "base_uri": "https://localhost:8080/"
        },
        "id": "oIVOCYSLm0RO",
        "outputId": "f1420064-c079-463d-bd9d-d8ee7541cb67"
      },
      "outputs": [],
      "source": [
        "\n",
        "\n",
        "# Select training_set and testing_set (dataset : FashionMNIST )\n",
        "train_data = datasets.FashionMNIST(\"data\",train= True, download=True,   transform = transforms.ToTensor())\n",
        "\n",
        "test_data = datasets.FashionMNIST(\"data\",  train= False, download=True, transform = transforms.ToTensor())\n",
        "\n",
        "# # Number of subprocesses to use for data loading\n",
        "# num_workers = 0\n",
        "\n",
        "# Percentage of training set to use as validation\n",
        "n_valid = 0.2\n",
        "\n",
        "# Get indices for training_set and validation_set\n",
        "n_train = len(train_data)\n",
        "indices = list(range(n_train))\n",
        "np.random.shuffle(indices)\n",
        "\n",
        "split = int(np.floor(n_valid * n_train))\n",
        "train_idx, valid_idx = indices[split:], indices[:split]\n",
        "\n",
        "# Define samplers for obtaining training and validation\n",
        "train_sampler = SubsetRandomSampler(train_idx)\n",
        "valid_sampler = SubsetRandomSampler(valid_idx)\n"
      ]
    },
    {
      "cell_type": "code",
      "execution_count": 16,
      "metadata": {
        "id": "McDXU5qdtujs"
      },
      "outputs": [],
      "source": [
        "# Training data\n",
        "trainset = torchvision.datasets.FashionMNIST(root='./data', train=True, download=True, transform=transforms.ToTensor())\n",
        "trainloader = torch.utils.data.DataLoader(trainset, batch_size=batch_size,  sampler = train_sampler , num_workers=2)\n",
        "\n",
        "# Validation data\n",
        "validloader = torch.utils.data.DataLoader(trainset, batch_size = batch_size, sampler = valid_sampler, num_workers = 2)\n",
        "\n",
        "# Test data\n",
        "testset = torchvision.datasets.FashionMNIST(root='./data', train=False, download=True, transform=transforms.ToTensor())\n",
        "testloader = torch.utils.data.DataLoader(testset, batch_size=batch_size,  num_workers=2)\n",
        "\n"
      ]
    },
    {
      "attachments": {},
      "cell_type": "markdown",
      "metadata": {
        "id": "6brCFwGvbW2M"
      },
      "source": [
        "# Model Training"
      ]
    },
    {
      "cell_type": "code",
      "execution_count": 17,
      "metadata": {},
      "outputs": [
        {
          "name": "stdout",
          "output_type": "stream",
          "text": [
            "========================================================================================================\n",
            "[ Train | 001/100 ] loss = 2.30232, acc = 0.10573\n"
          ]
        },
        {
          "name": "stderr",
          "output_type": "stream",
          "text": [
            "100%|██████████| 24/24 [00:02<00:00,  8.56it/s]\n"
          ]
        },
        {
          "name": "stdout",
          "output_type": "stream",
          "text": [
            "[ Valid | 001/100 ] loss = 2.29842, acc = 0.10538\n",
            "Best model found at epoch 001, saving model\n",
            "========================================================================================================\n",
            "[ Train | 002/100 ] loss = 2.29250, acc = 0.10651\n"
          ]
        },
        {
          "name": "stderr",
          "output_type": "stream",
          "text": [
            "100%|██████████| 24/24 [00:02<00:00,  8.66it/s]\n"
          ]
        },
        {
          "name": "stdout",
          "output_type": "stream",
          "text": [
            "[ Valid | 002/100 ] loss = 2.29317, acc = 0.10796\n",
            "Best model found at epoch 002, saving model\n",
            "========================================================================================================\n",
            "[ Train | 003/100 ] loss = 2.29371, acc = 0.10736\n"
          ]
        },
        {
          "name": "stderr",
          "output_type": "stream",
          "text": [
            "100%|██████████| 24/24 [00:02<00:00,  8.52it/s]\n"
          ]
        },
        {
          "name": "stdout",
          "output_type": "stream",
          "text": [
            "[ Valid | 003/100 ] loss = 2.29158, acc = 0.10479\n",
            "========================================================================================================\n",
            "[ Train | 004/100 ] loss = 2.28925, acc = 0.10681\n"
          ]
        },
        {
          "name": "stderr",
          "output_type": "stream",
          "text": [
            "100%|██████████| 24/24 [00:02<00:00,  8.90it/s]\n"
          ]
        },
        {
          "name": "stdout",
          "output_type": "stream",
          "text": [
            "[ Valid | 004/100 ] loss = 2.28862, acc = 0.10519\n",
            "========================================================================================================\n",
            "[ Train | 005/100 ] loss = 2.28547, acc = 0.11016\n"
          ]
        },
        {
          "name": "stderr",
          "output_type": "stream",
          "text": [
            "100%|██████████| 24/24 [00:02<00:00,  8.29it/s]\n"
          ]
        },
        {
          "name": "stdout",
          "output_type": "stream",
          "text": [
            "[ Valid | 005/100 ] loss = 2.28414, acc = 0.11137\n",
            "Best model found at epoch 005, saving model\n",
            "========================================================================================================\n",
            "[ Train | 006/100 ] loss = 2.27551, acc = 0.11554\n"
          ]
        },
        {
          "name": "stderr",
          "output_type": "stream",
          "text": [
            "100%|██████████| 24/24 [00:02<00:00,  8.50it/s]\n"
          ]
        },
        {
          "name": "stdout",
          "output_type": "stream",
          "text": [
            "[ Valid | 006/100 ] loss = 2.27315, acc = 0.12185\n",
            "Best model found at epoch 006, saving model\n",
            "========================================================================================================\n",
            "[ Train | 007/100 ] loss = 2.25868, acc = 0.12461\n"
          ]
        },
        {
          "name": "stderr",
          "output_type": "stream",
          "text": [
            "100%|██████████| 24/24 [00:02<00:00,  9.42it/s]\n"
          ]
        },
        {
          "name": "stdout",
          "output_type": "stream",
          "text": [
            "[ Valid | 007/100 ] loss = 2.25235, acc = 0.12712\n",
            "Best model found at epoch 007, saving model\n",
            "========================================================================================================\n",
            "[ Train | 008/100 ] loss = 2.21750, acc = 0.13790\n"
          ]
        },
        {
          "name": "stderr",
          "output_type": "stream",
          "text": [
            "100%|██████████| 24/24 [00:02<00:00,  8.34it/s]\n"
          ]
        },
        {
          "name": "stdout",
          "output_type": "stream",
          "text": [
            "[ Valid | 008/100 ] loss = 2.16838, acc = 0.15442\n",
            "Best model found at epoch 008, saving model\n",
            "========================================================================================================\n",
            "[ Train | 009/100 ] loss = 2.03971, acc = 0.18677\n"
          ]
        },
        {
          "name": "stderr",
          "output_type": "stream",
          "text": [
            "100%|██████████| 24/24 [00:02<00:00,  8.98it/s]\n"
          ]
        },
        {
          "name": "stdout",
          "output_type": "stream",
          "text": [
            "[ Valid | 009/100 ] loss = 1.90359, acc = 0.24098\n",
            "Best model found at epoch 009, saving model\n",
            "========================================================================================================\n",
            "[ Train | 010/100 ] loss = 1.67085, acc = 0.33252\n"
          ]
        },
        {
          "name": "stderr",
          "output_type": "stream",
          "text": [
            "100%|██████████| 24/24 [00:02<00:00,  9.28it/s]\n"
          ]
        },
        {
          "name": "stdout",
          "output_type": "stream",
          "text": [
            "[ Valid | 010/100 ] loss = 1.42856, acc = 0.44101\n",
            "Best model found at epoch 010, saving model\n",
            "========================================================================================================\n",
            "[ Train | 011/100 ] loss = 1.32666, acc = 0.47592\n"
          ]
        },
        {
          "name": "stderr",
          "output_type": "stream",
          "text": [
            "100%|██████████| 24/24 [00:02<00:00,  9.20it/s]\n"
          ]
        },
        {
          "name": "stdout",
          "output_type": "stream",
          "text": [
            "[ Valid | 011/100 ] loss = 1.26770, acc = 0.50267\n",
            "Best model found at epoch 011, saving model\n",
            "========================================================================================================\n",
            "[ Train | 012/100 ] loss = 1.20116, acc = 0.52567\n"
          ]
        },
        {
          "name": "stderr",
          "output_type": "stream",
          "text": [
            "100%|██████████| 24/24 [00:02<00:00,  9.27it/s]\n"
          ]
        },
        {
          "name": "stdout",
          "output_type": "stream",
          "text": [
            "[ Valid | 012/100 ] loss = 1.15216, acc = 0.54422\n",
            "Best model found at epoch 012, saving model\n",
            "========================================================================================================\n",
            "[ Train | 013/100 ] loss = 1.06895, acc = 0.57705\n"
          ]
        },
        {
          "name": "stderr",
          "output_type": "stream",
          "text": [
            "100%|██████████| 24/24 [00:02<00:00,  9.25it/s]\n"
          ]
        },
        {
          "name": "stdout",
          "output_type": "stream",
          "text": [
            "[ Valid | 013/100 ] loss = 1.06093, acc = 0.57444\n",
            "Best model found at epoch 013, saving model\n",
            "========================================================================================================\n",
            "[ Train | 014/100 ] loss = 0.96437, acc = 0.61668\n"
          ]
        },
        {
          "name": "stderr",
          "output_type": "stream",
          "text": [
            "100%|██████████| 24/24 [00:02<00:00,  9.26it/s]\n"
          ]
        },
        {
          "name": "stdout",
          "output_type": "stream",
          "text": [
            "[ Valid | 014/100 ] loss = 0.92288, acc = 0.64421\n",
            "Best model found at epoch 014, saving model\n",
            "========================================================================================================\n",
            "[ Train | 015/100 ] loss = 0.84142, acc = 0.67537\n"
          ]
        },
        {
          "name": "stderr",
          "output_type": "stream",
          "text": [
            "100%|██████████| 24/24 [00:02<00:00,  9.11it/s]\n"
          ]
        },
        {
          "name": "stdout",
          "output_type": "stream",
          "text": [
            "[ Valid | 015/100 ] loss = 0.79115, acc = 0.69720\n",
            "Best model found at epoch 015, saving model\n",
            "========================================================================================================\n",
            "[ Train | 016/100 ] loss = 0.72683, acc = 0.72508\n"
          ]
        },
        {
          "name": "stderr",
          "output_type": "stream",
          "text": [
            "100%|██████████| 24/24 [00:02<00:00,  9.47it/s]\n"
          ]
        },
        {
          "name": "stdout",
          "output_type": "stream",
          "text": [
            "[ Valid | 016/100 ] loss = 0.70621, acc = 0.73683\n",
            "Best model found at epoch 016, saving model\n",
            "========================================================================================================\n",
            "[ Train | 017/100 ] loss = 0.66027, acc = 0.75255\n"
          ]
        },
        {
          "name": "stderr",
          "output_type": "stream",
          "text": [
            "100%|██████████| 24/24 [00:02<00:00,  9.09it/s]\n"
          ]
        },
        {
          "name": "stdout",
          "output_type": "stream",
          "text": [
            "[ Valid | 017/100 ] loss = 0.65545, acc = 0.75686\n",
            "Best model found at epoch 017, saving model\n",
            "========================================================================================================\n",
            "[ Train | 018/100 ] loss = 0.62390, acc = 0.76560\n"
          ]
        },
        {
          "name": "stderr",
          "output_type": "stream",
          "text": [
            "100%|██████████| 24/24 [00:02<00:00,  9.47it/s]\n"
          ]
        },
        {
          "name": "stdout",
          "output_type": "stream",
          "text": [
            "[ Valid | 018/100 ] loss = 0.64738, acc = 0.75559\n",
            "========================================================================================================\n",
            "[ Train | 019/100 ] loss = 0.59429, acc = 0.77571\n"
          ]
        },
        {
          "name": "stderr",
          "output_type": "stream",
          "text": [
            "100%|██████████| 24/24 [00:02<00:00,  9.44it/s]\n"
          ]
        },
        {
          "name": "stdout",
          "output_type": "stream",
          "text": [
            "[ Valid | 019/100 ] loss = 0.61085, acc = 0.77300\n",
            "Best model found at epoch 019, saving model\n",
            "========================================================================================================\n",
            "[ Train | 020/100 ] loss = 0.56224, acc = 0.79013\n"
          ]
        },
        {
          "name": "stderr",
          "output_type": "stream",
          "text": [
            "100%|██████████| 24/24 [00:02<00:00,  9.43it/s]\n"
          ]
        },
        {
          "name": "stdout",
          "output_type": "stream",
          "text": [
            "[ Valid | 020/100 ] loss = 0.57442, acc = 0.78231\n",
            "Best model found at epoch 020, saving model\n",
            "========================================================================================================\n",
            "[ Train | 021/100 ] loss = 0.53905, acc = 0.80010\n"
          ]
        },
        {
          "name": "stderr",
          "output_type": "stream",
          "text": [
            "100%|██████████| 24/24 [00:02<00:00,  9.09it/s]\n"
          ]
        },
        {
          "name": "stdout",
          "output_type": "stream",
          "text": [
            "[ Valid | 021/100 ] loss = 0.54890, acc = 0.79883\n",
            "Best model found at epoch 021, saving model\n",
            "========================================================================================================\n",
            "[ Train | 022/100 ] loss = 0.51919, acc = 0.80926\n"
          ]
        },
        {
          "name": "stderr",
          "output_type": "stream",
          "text": [
            "100%|██████████| 24/24 [00:02<00:00,  9.32it/s]\n"
          ]
        },
        {
          "name": "stdout",
          "output_type": "stream",
          "text": [
            "[ Valid | 022/100 ] loss = 0.53378, acc = 0.80586\n",
            "Best model found at epoch 022, saving model\n",
            "========================================================================================================\n",
            "[ Train | 023/100 ] loss = 0.49473, acc = 0.81788\n"
          ]
        },
        {
          "name": "stderr",
          "output_type": "stream",
          "text": [
            "100%|██████████| 24/24 [00:02<00:00,  9.34it/s]\n"
          ]
        },
        {
          "name": "stdout",
          "output_type": "stream",
          "text": [
            "[ Valid | 023/100 ] loss = 0.51035, acc = 0.81029\n",
            "Best model found at epoch 023, saving model\n",
            "========================================================================================================\n",
            "[ Train | 024/100 ] loss = 0.47835, acc = 0.82472\n"
          ]
        },
        {
          "name": "stderr",
          "output_type": "stream",
          "text": [
            "100%|██████████| 24/24 [00:02<00:00,  9.31it/s]\n"
          ]
        },
        {
          "name": "stdout",
          "output_type": "stream",
          "text": [
            "[ Valid | 024/100 ] loss = 0.49142, acc = 0.81813\n",
            "Best model found at epoch 024, saving model\n",
            "========================================================================================================\n",
            "[ Train | 025/100 ] loss = 0.46027, acc = 0.83172\n"
          ]
        },
        {
          "name": "stderr",
          "output_type": "stream",
          "text": [
            "100%|██████████| 24/24 [00:02<00:00,  9.53it/s]\n"
          ]
        },
        {
          "name": "stdout",
          "output_type": "stream",
          "text": [
            "[ Valid | 025/100 ] loss = 0.48534, acc = 0.82268\n",
            "Best model found at epoch 025, saving model\n",
            "========================================================================================================\n",
            "[ Train | 026/100 ] loss = 0.44394, acc = 0.83736\n"
          ]
        },
        {
          "name": "stderr",
          "output_type": "stream",
          "text": [
            "100%|██████████| 24/24 [00:02<00:00,  9.47it/s]\n"
          ]
        },
        {
          "name": "stdout",
          "output_type": "stream",
          "text": [
            "[ Valid | 026/100 ] loss = 0.47192, acc = 0.82524\n",
            "Best model found at epoch 026, saving model\n",
            "========================================================================================================\n",
            "[ Train | 027/100 ] loss = 0.42869, acc = 0.84361\n"
          ]
        },
        {
          "name": "stderr",
          "output_type": "stream",
          "text": [
            "100%|██████████| 24/24 [00:02<00:00,  9.43it/s]\n"
          ]
        },
        {
          "name": "stdout",
          "output_type": "stream",
          "text": [
            "[ Valid | 027/100 ] loss = 0.45729, acc = 0.83421\n",
            "Best model found at epoch 027, saving model\n",
            "========================================================================================================\n",
            "[ Train | 028/100 ] loss = 0.41490, acc = 0.84842\n"
          ]
        },
        {
          "name": "stderr",
          "output_type": "stream",
          "text": [
            "100%|██████████| 24/24 [00:02<00:00,  9.51it/s]\n"
          ]
        },
        {
          "name": "stdout",
          "output_type": "stream",
          "text": [
            "[ Valid | 028/100 ] loss = 0.44032, acc = 0.84019\n",
            "Best model found at epoch 028, saving model\n",
            "========================================================================================================\n",
            "[ Train | 029/100 ] loss = 0.40417, acc = 0.85157\n"
          ]
        },
        {
          "name": "stderr",
          "output_type": "stream",
          "text": [
            "100%|██████████| 24/24 [00:02<00:00,  9.55it/s]\n"
          ]
        },
        {
          "name": "stdout",
          "output_type": "stream",
          "text": [
            "[ Valid | 029/100 ] loss = 0.43219, acc = 0.84438\n",
            "Best model found at epoch 029, saving model\n",
            "========================================================================================================\n",
            "[ Train | 030/100 ] loss = 0.39322, acc = 0.85419\n"
          ]
        },
        {
          "name": "stderr",
          "output_type": "stream",
          "text": [
            "100%|██████████| 24/24 [00:02<00:00,  9.73it/s]\n"
          ]
        },
        {
          "name": "stdout",
          "output_type": "stream",
          "text": [
            "[ Valid | 030/100 ] loss = 0.42943, acc = 0.84309\n",
            "========================================================================================================\n",
            "[ Train | 031/100 ] loss = 0.38406, acc = 0.85911\n"
          ]
        },
        {
          "name": "stderr",
          "output_type": "stream",
          "text": [
            "100%|██████████| 24/24 [00:02<00:00,  9.38it/s]\n"
          ]
        },
        {
          "name": "stdout",
          "output_type": "stream",
          "text": [
            "[ Valid | 031/100 ] loss = 0.41540, acc = 0.84878\n",
            "Best model found at epoch 031, saving model\n",
            "========================================================================================================\n",
            "[ Train | 032/100 ] loss = 0.37805, acc = 0.86145\n"
          ]
        },
        {
          "name": "stderr",
          "output_type": "stream",
          "text": [
            "100%|██████████| 24/24 [00:02<00:00,  9.66it/s]\n"
          ]
        },
        {
          "name": "stdout",
          "output_type": "stream",
          "text": [
            "[ Valid | 032/100 ] loss = 0.42199, acc = 0.84666\n",
            "========================================================================================================\n",
            "[ Train | 033/100 ] loss = 0.36726, acc = 0.86386\n"
          ]
        },
        {
          "name": "stderr",
          "output_type": "stream",
          "text": [
            "100%|██████████| 24/24 [00:02<00:00,  9.59it/s]\n"
          ]
        },
        {
          "name": "stdout",
          "output_type": "stream",
          "text": [
            "[ Valid | 033/100 ] loss = 0.41865, acc = 0.85011\n",
            "Best model found at epoch 033, saving model\n",
            "========================================================================================================\n",
            "[ Train | 034/100 ] loss = 0.36370, acc = 0.86687\n"
          ]
        },
        {
          "name": "stderr",
          "output_type": "stream",
          "text": [
            "100%|██████████| 24/24 [00:02<00:00,  9.54it/s]\n"
          ]
        },
        {
          "name": "stdout",
          "output_type": "stream",
          "text": [
            "[ Valid | 034/100 ] loss = 0.40648, acc = 0.85234\n",
            "Best model found at epoch 034, saving model\n",
            "========================================================================================================\n",
            "[ Train | 035/100 ] loss = 0.35814, acc = 0.86822\n"
          ]
        },
        {
          "name": "stderr",
          "output_type": "stream",
          "text": [
            "100%|██████████| 24/24 [00:02<00:00,  9.60it/s]\n"
          ]
        },
        {
          "name": "stdout",
          "output_type": "stream",
          "text": [
            "[ Valid | 035/100 ] loss = 0.40053, acc = 0.85595\n",
            "Best model found at epoch 035, saving model\n",
            "========================================================================================================\n",
            "[ Train | 036/100 ] loss = 0.35098, acc = 0.87005\n"
          ]
        },
        {
          "name": "stderr",
          "output_type": "stream",
          "text": [
            "100%|██████████| 24/24 [00:02<00:00,  9.53it/s]\n"
          ]
        },
        {
          "name": "stdout",
          "output_type": "stream",
          "text": [
            "[ Valid | 036/100 ] loss = 0.39751, acc = 0.85572\n",
            "========================================================================================================\n",
            "[ Train | 037/100 ] loss = 0.34264, acc = 0.87283\n"
          ]
        },
        {
          "name": "stderr",
          "output_type": "stream",
          "text": [
            "100%|██████████| 24/24 [00:02<00:00,  9.50it/s]\n"
          ]
        },
        {
          "name": "stdout",
          "output_type": "stream",
          "text": [
            "[ Valid | 037/100 ] loss = 0.39722, acc = 0.85439\n",
            "========================================================================================================\n",
            "[ Train | 038/100 ] loss = 0.33701, acc = 0.87508\n"
          ]
        },
        {
          "name": "stderr",
          "output_type": "stream",
          "text": [
            "100%|██████████| 24/24 [00:02<00:00,  9.36it/s]\n"
          ]
        },
        {
          "name": "stdout",
          "output_type": "stream",
          "text": [
            "[ Valid | 038/100 ] loss = 0.39675, acc = 0.85783\n",
            "Best model found at epoch 038, saving model\n",
            "========================================================================================================\n",
            "[ Train | 039/100 ] loss = 0.33264, acc = 0.87684\n"
          ]
        },
        {
          "name": "stderr",
          "output_type": "stream",
          "text": [
            "100%|██████████| 24/24 [00:02<00:00,  9.49it/s]\n"
          ]
        },
        {
          "name": "stdout",
          "output_type": "stream",
          "text": [
            "[ Valid | 039/100 ] loss = 0.38762, acc = 0.85940\n",
            "Best model found at epoch 039, saving model\n",
            "========================================================================================================\n",
            "[ Train | 040/100 ] loss = 0.32896, acc = 0.87706\n"
          ]
        },
        {
          "name": "stderr",
          "output_type": "stream",
          "text": [
            "100%|██████████| 24/24 [00:02<00:00,  9.56it/s]\n"
          ]
        },
        {
          "name": "stdout",
          "output_type": "stream",
          "text": [
            "[ Valid | 040/100 ] loss = 0.37694, acc = 0.86579\n",
            "Best model found at epoch 040, saving model\n",
            "========================================================================================================\n",
            "[ Train | 041/100 ] loss = 0.32054, acc = 0.88164\n"
          ]
        },
        {
          "name": "stderr",
          "output_type": "stream",
          "text": [
            "100%|██████████| 24/24 [00:02<00:00,  9.52it/s]\n"
          ]
        },
        {
          "name": "stdout",
          "output_type": "stream",
          "text": [
            "[ Valid | 041/100 ] loss = 0.38880, acc = 0.85919\n",
            "========================================================================================================\n",
            "[ Train | 042/100 ] loss = 0.31564, acc = 0.88191\n"
          ]
        },
        {
          "name": "stderr",
          "output_type": "stream",
          "text": [
            "100%|██████████| 24/24 [00:02<00:00,  9.45it/s]\n"
          ]
        },
        {
          "name": "stdout",
          "output_type": "stream",
          "text": [
            "[ Valid | 042/100 ] loss = 0.37505, acc = 0.86223\n",
            "========================================================================================================\n",
            "[ Train | 043/100 ] loss = 0.31069, acc = 0.88522\n"
          ]
        },
        {
          "name": "stderr",
          "output_type": "stream",
          "text": [
            "100%|██████████| 24/24 [00:02<00:00,  9.24it/s]\n"
          ]
        },
        {
          "name": "stdout",
          "output_type": "stream",
          "text": [
            "[ Valid | 043/100 ] loss = 0.37444, acc = 0.86394\n",
            "========================================================================================================\n",
            "[ Train | 044/100 ] loss = 0.30529, acc = 0.88608\n"
          ]
        },
        {
          "name": "stderr",
          "output_type": "stream",
          "text": [
            "100%|██████████| 24/24 [00:02<00:00,  9.40it/s]\n"
          ]
        },
        {
          "name": "stdout",
          "output_type": "stream",
          "text": [
            "[ Valid | 044/100 ] loss = 0.37203, acc = 0.86745\n",
            "Best model found at epoch 044, saving model\n",
            "========================================================================================================\n",
            "[ Train | 045/100 ] loss = 0.30227, acc = 0.88734\n"
          ]
        },
        {
          "name": "stderr",
          "output_type": "stream",
          "text": [
            "100%|██████████| 24/24 [00:02<00:00,  9.48it/s]\n"
          ]
        },
        {
          "name": "stdout",
          "output_type": "stream",
          "text": [
            "[ Valid | 045/100 ] loss = 0.36257, acc = 0.86997\n",
            "Best model found at epoch 045, saving model\n",
            "========================================================================================================\n",
            "[ Train | 046/100 ] loss = 0.29988, acc = 0.88743\n"
          ]
        },
        {
          "name": "stderr",
          "output_type": "stream",
          "text": [
            "100%|██████████| 24/24 [00:02<00:00,  9.43it/s]\n"
          ]
        },
        {
          "name": "stdout",
          "output_type": "stream",
          "text": [
            "[ Valid | 046/100 ] loss = 0.37277, acc = 0.86557\n",
            "========================================================================================================\n",
            "[ Train | 047/100 ] loss = 0.29653, acc = 0.88975\n"
          ]
        },
        {
          "name": "stderr",
          "output_type": "stream",
          "text": [
            "100%|██████████| 24/24 [00:02<00:00,  9.22it/s]\n"
          ]
        },
        {
          "name": "stdout",
          "output_type": "stream",
          "text": [
            "[ Valid | 047/100 ] loss = 0.36059, acc = 0.87106\n",
            "Best model found at epoch 047, saving model\n",
            "========================================================================================================\n",
            "[ Train | 048/100 ] loss = 0.28756, acc = 0.89175\n"
          ]
        },
        {
          "name": "stderr",
          "output_type": "stream",
          "text": [
            "100%|██████████| 24/24 [00:02<00:00,  9.48it/s]\n"
          ]
        },
        {
          "name": "stdout",
          "output_type": "stream",
          "text": [
            "[ Valid | 048/100 ] loss = 0.36452, acc = 0.86808\n",
            "========================================================================================================\n",
            "[ Train | 049/100 ] loss = 0.28127, acc = 0.89470\n"
          ]
        },
        {
          "name": "stderr",
          "output_type": "stream",
          "text": [
            "100%|██████████| 24/24 [00:02<00:00,  8.90it/s]\n"
          ]
        },
        {
          "name": "stdout",
          "output_type": "stream",
          "text": [
            "[ Valid | 049/100 ] loss = 0.36072, acc = 0.86934\n",
            "========================================================================================================\n",
            "[ Train | 050/100 ] loss = 0.28372, acc = 0.89314\n"
          ]
        },
        {
          "name": "stderr",
          "output_type": "stream",
          "text": [
            "100%|██████████| 24/24 [00:02<00:00,  9.06it/s]\n"
          ]
        },
        {
          "name": "stdout",
          "output_type": "stream",
          "text": [
            "[ Valid | 050/100 ] loss = 0.37173, acc = 0.86813\n",
            "========================================================================================================\n",
            "[ Train | 051/100 ] loss = 0.27963, acc = 0.89522\n"
          ]
        },
        {
          "name": "stderr",
          "output_type": "stream",
          "text": [
            "100%|██████████| 24/24 [00:03<00:00,  7.82it/s]\n"
          ]
        },
        {
          "name": "stdout",
          "output_type": "stream",
          "text": [
            "[ Valid | 051/100 ] loss = 0.37358, acc = 0.86907\n",
            "========================================================================================================\n",
            "[ Train | 052/100 ] loss = 0.27418, acc = 0.89626\n"
          ]
        },
        {
          "name": "stderr",
          "output_type": "stream",
          "text": [
            "100%|██████████| 24/24 [00:02<00:00,  9.07it/s]\n"
          ]
        },
        {
          "name": "stdout",
          "output_type": "stream",
          "text": [
            "[ Valid | 052/100 ] loss = 0.36319, acc = 0.87217\n",
            "Best model found at epoch 052, saving model\n",
            "========================================================================================================\n",
            "[ Train | 053/100 ] loss = 0.26956, acc = 0.89828\n"
          ]
        },
        {
          "name": "stderr",
          "output_type": "stream",
          "text": [
            "100%|██████████| 24/24 [00:02<00:00,  8.97it/s]\n"
          ]
        },
        {
          "name": "stdout",
          "output_type": "stream",
          "text": [
            "[ Valid | 053/100 ] loss = 0.36850, acc = 0.86992\n",
            "========================================================================================================\n",
            "[ Train | 054/100 ] loss = 0.26752, acc = 0.89930\n"
          ]
        },
        {
          "name": "stderr",
          "output_type": "stream",
          "text": [
            "100%|██████████| 24/24 [00:02<00:00,  9.13it/s]\n"
          ]
        },
        {
          "name": "stdout",
          "output_type": "stream",
          "text": [
            "[ Valid | 054/100 ] loss = 0.35595, acc = 0.87526\n",
            "Best model found at epoch 054, saving model\n",
            "========================================================================================================\n",
            "[ Train | 055/100 ] loss = 0.26253, acc = 0.90153\n"
          ]
        },
        {
          "name": "stderr",
          "output_type": "stream",
          "text": [
            "100%|██████████| 24/24 [00:02<00:00,  8.75it/s]\n"
          ]
        },
        {
          "name": "stdout",
          "output_type": "stream",
          "text": [
            "[ Valid | 055/100 ] loss = 0.35522, acc = 0.87431\n",
            "========================================================================================================\n",
            "[ Train | 056/100 ] loss = 0.26095, acc = 0.90045\n"
          ]
        },
        {
          "name": "stderr",
          "output_type": "stream",
          "text": [
            "100%|██████████| 24/24 [00:02<00:00,  9.10it/s]\n"
          ]
        },
        {
          "name": "stdout",
          "output_type": "stream",
          "text": [
            "[ Valid | 056/100 ] loss = 0.35936, acc = 0.87340\n",
            "========================================================================================================\n",
            "[ Train | 057/100 ] loss = 0.25666, acc = 0.90277\n"
          ]
        },
        {
          "name": "stderr",
          "output_type": "stream",
          "text": [
            "100%|██████████| 24/24 [00:02<00:00,  8.87it/s]\n"
          ]
        },
        {
          "name": "stdout",
          "output_type": "stream",
          "text": [
            "[ Valid | 057/100 ] loss = 0.36553, acc = 0.87123\n",
            "========================================================================================================\n",
            "[ Train | 058/100 ] loss = 0.25693, acc = 0.90316\n"
          ]
        },
        {
          "name": "stderr",
          "output_type": "stream",
          "text": [
            "100%|██████████| 24/24 [00:02<00:00,  9.05it/s]\n"
          ]
        },
        {
          "name": "stdout",
          "output_type": "stream",
          "text": [
            "[ Valid | 058/100 ] loss = 0.35446, acc = 0.87619\n",
            "Best model found at epoch 058, saving model\n",
            "========================================================================================================\n",
            "[ Train | 059/100 ] loss = 0.25067, acc = 0.90605\n"
          ]
        },
        {
          "name": "stderr",
          "output_type": "stream",
          "text": [
            "100%|██████████| 24/24 [00:03<00:00,  7.43it/s]\n"
          ]
        },
        {
          "name": "stdout",
          "output_type": "stream",
          "text": [
            "[ Valid | 059/100 ] loss = 0.35102, acc = 0.87627\n",
            "Best model found at epoch 059, saving model\n",
            "========================================================================================================\n",
            "[ Train | 060/100 ] loss = 0.24698, acc = 0.90689\n"
          ]
        },
        {
          "name": "stderr",
          "output_type": "stream",
          "text": [
            "100%|██████████| 24/24 [00:02<00:00,  9.06it/s]\n"
          ]
        },
        {
          "name": "stdout",
          "output_type": "stream",
          "text": [
            "[ Valid | 060/100 ] loss = 0.36813, acc = 0.87337\n",
            "========================================================================================================\n",
            "[ Train | 061/100 ] loss = 0.24321, acc = 0.90788\n"
          ]
        },
        {
          "name": "stderr",
          "output_type": "stream",
          "text": [
            "100%|██████████| 24/24 [00:02<00:00,  9.11it/s]\n"
          ]
        },
        {
          "name": "stdout",
          "output_type": "stream",
          "text": [
            "[ Valid | 061/100 ] loss = 0.35998, acc = 0.87528\n",
            "========================================================================================================\n",
            "[ Train | 062/100 ] loss = 0.24122, acc = 0.90994\n"
          ]
        },
        {
          "name": "stderr",
          "output_type": "stream",
          "text": [
            "100%|██████████| 24/24 [00:02<00:00,  8.82it/s]\n"
          ]
        },
        {
          "name": "stdout",
          "output_type": "stream",
          "text": [
            "[ Valid | 062/100 ] loss = 0.36338, acc = 0.87238\n",
            "========================================================================================================\n",
            "[ Train | 063/100 ] loss = 0.24029, acc = 0.90920\n"
          ]
        },
        {
          "name": "stderr",
          "output_type": "stream",
          "text": [
            "100%|██████████| 24/24 [00:02<00:00,  8.39it/s]\n"
          ]
        },
        {
          "name": "stdout",
          "output_type": "stream",
          "text": [
            "[ Valid | 063/100 ] loss = 0.35923, acc = 0.87584\n",
            "========================================================================================================\n",
            "[ Train | 064/100 ] loss = 0.23194, acc = 0.91188\n"
          ]
        },
        {
          "name": "stderr",
          "output_type": "stream",
          "text": [
            "100%|██████████| 24/24 [00:02<00:00,  9.04it/s]\n"
          ]
        },
        {
          "name": "stdout",
          "output_type": "stream",
          "text": [
            "[ Valid | 064/100 ] loss = 0.36383, acc = 0.87581\n",
            "========================================================================================================\n",
            "[ Train | 065/100 ] loss = 0.23517, acc = 0.91244\n"
          ]
        },
        {
          "name": "stderr",
          "output_type": "stream",
          "text": [
            "100%|██████████| 24/24 [00:02<00:00,  9.38it/s]\n"
          ]
        },
        {
          "name": "stdout",
          "output_type": "stream",
          "text": [
            "[ Valid | 065/100 ] loss = 0.36026, acc = 0.87367\n",
            "========================================================================================================\n",
            "[ Train | 066/100 ] loss = 0.23049, acc = 0.91283\n"
          ]
        },
        {
          "name": "stderr",
          "output_type": "stream",
          "text": [
            "100%|██████████| 24/24 [00:02<00:00,  9.26it/s]\n"
          ]
        },
        {
          "name": "stdout",
          "output_type": "stream",
          "text": [
            "[ Valid | 066/100 ] loss = 0.36102, acc = 0.87736\n",
            "Best model found at epoch 066, saving model\n",
            "========================================================================================================\n",
            "[ Train | 067/100 ] loss = 0.22829, acc = 0.91343\n"
          ]
        },
        {
          "name": "stderr",
          "output_type": "stream",
          "text": [
            "100%|██████████| 24/24 [00:02<00:00,  9.23it/s]\n"
          ]
        },
        {
          "name": "stdout",
          "output_type": "stream",
          "text": [
            "[ Valid | 067/100 ] loss = 0.36350, acc = 0.87506\n",
            "========================================================================================================\n",
            "[ Train | 068/100 ] loss = 0.22513, acc = 0.91469\n"
          ]
        },
        {
          "name": "stderr",
          "output_type": "stream",
          "text": [
            "100%|██████████| 24/24 [00:02<00:00,  8.75it/s]\n"
          ]
        },
        {
          "name": "stdout",
          "output_type": "stream",
          "text": [
            "[ Valid | 068/100 ] loss = 0.36772, acc = 0.87635\n",
            "========================================================================================================\n",
            "[ Train | 069/100 ] loss = 0.22257, acc = 0.91560\n"
          ]
        },
        {
          "name": "stderr",
          "output_type": "stream",
          "text": [
            "100%|██████████| 24/24 [00:02<00:00,  9.31it/s]\n"
          ]
        },
        {
          "name": "stdout",
          "output_type": "stream",
          "text": [
            "[ Valid | 069/100 ] loss = 0.35910, acc = 0.87794\n",
            "Best model found at epoch 069, saving model\n",
            "========================================================================================================\n",
            "[ Train | 070/100 ] loss = 0.21954, acc = 0.91663\n"
          ]
        },
        {
          "name": "stderr",
          "output_type": "stream",
          "text": [
            "100%|██████████| 24/24 [00:02<00:00,  9.00it/s]\n"
          ]
        },
        {
          "name": "stdout",
          "output_type": "stream",
          "text": [
            "[ Valid | 070/100 ] loss = 0.36309, acc = 0.87924\n",
            "Best model found at epoch 070, saving model\n",
            "========================================================================================================\n",
            "[ Train | 071/100 ] loss = 0.21723, acc = 0.91775\n"
          ]
        },
        {
          "name": "stderr",
          "output_type": "stream",
          "text": [
            "100%|██████████| 24/24 [00:02<00:00,  9.08it/s]\n"
          ]
        },
        {
          "name": "stdout",
          "output_type": "stream",
          "text": [
            "[ Valid | 071/100 ] loss = 0.37141, acc = 0.87330\n",
            "========================================================================================================\n",
            "[ Train | 072/100 ] loss = 0.21167, acc = 0.91962\n"
          ]
        },
        {
          "name": "stderr",
          "output_type": "stream",
          "text": [
            "100%|██████████| 24/24 [00:02<00:00,  9.12it/s]\n"
          ]
        },
        {
          "name": "stdout",
          "output_type": "stream",
          "text": [
            "[ Valid | 072/100 ] loss = 0.37111, acc = 0.87497\n",
            "========================================================================================================\n",
            "[ Train | 073/100 ] loss = 0.21120, acc = 0.91989\n"
          ]
        },
        {
          "name": "stderr",
          "output_type": "stream",
          "text": [
            "100%|██████████| 24/24 [00:02<00:00,  8.62it/s]\n"
          ]
        },
        {
          "name": "stdout",
          "output_type": "stream",
          "text": [
            "[ Valid | 073/100 ] loss = 0.37390, acc = 0.87941\n",
            "Best model found at epoch 073, saving model\n",
            "========================================================================================================\n",
            "[ Train | 074/100 ] loss = 0.21406, acc = 0.91902\n"
          ]
        },
        {
          "name": "stderr",
          "output_type": "stream",
          "text": [
            "100%|██████████| 24/24 [00:02<00:00,  9.18it/s]\n"
          ]
        },
        {
          "name": "stdout",
          "output_type": "stream",
          "text": [
            "[ Valid | 074/100 ] loss = 0.36369, acc = 0.87780\n",
            "========================================================================================================\n",
            "[ Train | 075/100 ] loss = 0.21121, acc = 0.92086\n"
          ]
        },
        {
          "name": "stderr",
          "output_type": "stream",
          "text": [
            "100%|██████████| 24/24 [00:02<00:00,  9.02it/s]\n"
          ]
        },
        {
          "name": "stdout",
          "output_type": "stream",
          "text": [
            "[ Valid | 075/100 ] loss = 0.35873, acc = 0.87965\n",
            "Best model found at epoch 075, saving model\n",
            "========================================================================================================\n",
            "[ Train | 076/100 ] loss = 0.20475, acc = 0.92089\n"
          ]
        },
        {
          "name": "stderr",
          "output_type": "stream",
          "text": [
            "100%|██████████| 24/24 [00:02<00:00,  9.21it/s]\n"
          ]
        },
        {
          "name": "stdout",
          "output_type": "stream",
          "text": [
            "[ Valid | 076/100 ] loss = 0.37957, acc = 0.87709\n",
            "========================================================================================================\n",
            "[ Train | 077/100 ] loss = 0.20280, acc = 0.92419\n"
          ]
        },
        {
          "name": "stderr",
          "output_type": "stream",
          "text": [
            "100%|██████████| 24/24 [00:02<00:00,  9.25it/s]\n"
          ]
        },
        {
          "name": "stdout",
          "output_type": "stream",
          "text": [
            "[ Valid | 077/100 ] loss = 0.37944, acc = 0.87592\n",
            "========================================================================================================\n",
            "[ Train | 078/100 ] loss = 0.19798, acc = 0.92495\n"
          ]
        },
        {
          "name": "stderr",
          "output_type": "stream",
          "text": [
            "100%|██████████| 24/24 [00:02<00:00,  8.77it/s]\n"
          ]
        },
        {
          "name": "stdout",
          "output_type": "stream",
          "text": [
            "[ Valid | 078/100 ] loss = 0.37857, acc = 0.87917\n",
            "========================================================================================================\n",
            "[ Train | 079/100 ] loss = 0.19662, acc = 0.92632\n"
          ]
        },
        {
          "name": "stderr",
          "output_type": "stream",
          "text": [
            "100%|██████████| 24/24 [00:02<00:00,  9.32it/s]\n"
          ]
        },
        {
          "name": "stdout",
          "output_type": "stream",
          "text": [
            "[ Valid | 079/100 ] loss = 0.38104, acc = 0.87579\n",
            "========================================================================================================\n",
            "[ Train | 080/100 ] loss = 0.19585, acc = 0.92600\n"
          ]
        },
        {
          "name": "stderr",
          "output_type": "stream",
          "text": [
            "100%|██████████| 24/24 [00:02<00:00,  8.90it/s]\n"
          ]
        },
        {
          "name": "stdout",
          "output_type": "stream",
          "text": [
            "[ Valid | 080/100 ] loss = 0.38696, acc = 0.87709\n",
            "========================================================================================================\n",
            "[ Train | 081/100 ] loss = 0.19529, acc = 0.92653\n"
          ]
        },
        {
          "name": "stderr",
          "output_type": "stream",
          "text": [
            "100%|██████████| 24/24 [00:02<00:00,  9.10it/s]\n"
          ]
        },
        {
          "name": "stdout",
          "output_type": "stream",
          "text": [
            "[ Valid | 081/100 ] loss = 0.36810, acc = 0.88053\n",
            "Best model found at epoch 081, saving model\n",
            "========================================================================================================\n",
            "[ Train | 082/100 ] loss = 0.18678, acc = 0.92889\n"
          ]
        },
        {
          "name": "stderr",
          "output_type": "stream",
          "text": [
            "100%|██████████| 24/24 [00:03<00:00,  7.99it/s]\n"
          ]
        },
        {
          "name": "stdout",
          "output_type": "stream",
          "text": [
            "[ Valid | 082/100 ] loss = 0.37563, acc = 0.87750\n",
            "========================================================================================================\n",
            "[ Train | 083/100 ] loss = 0.19052, acc = 0.92888\n"
          ]
        },
        {
          "name": "stderr",
          "output_type": "stream",
          "text": [
            "100%|██████████| 24/24 [00:02<00:00,  8.89it/s]\n"
          ]
        },
        {
          "name": "stdout",
          "output_type": "stream",
          "text": [
            "[ Valid | 083/100 ] loss = 0.37980, acc = 0.87892\n",
            "========================================================================================================\n",
            "[ Train | 084/100 ] loss = 0.18674, acc = 0.92853\n"
          ]
        },
        {
          "name": "stderr",
          "output_type": "stream",
          "text": [
            "100%|██████████| 24/24 [00:02<00:00,  8.51it/s]\n"
          ]
        },
        {
          "name": "stdout",
          "output_type": "stream",
          "text": [
            "[ Valid | 084/100 ] loss = 0.37670, acc = 0.87945\n",
            "========================================================================================================\n",
            "[ Train | 085/100 ] loss = 0.18688, acc = 0.92875\n"
          ]
        },
        {
          "name": "stderr",
          "output_type": "stream",
          "text": [
            "100%|██████████| 24/24 [00:02<00:00,  9.24it/s]\n"
          ]
        },
        {
          "name": "stdout",
          "output_type": "stream",
          "text": [
            "[ Valid | 085/100 ] loss = 0.38395, acc = 0.87844\n",
            "========================================================================================================\n",
            "[ Train | 086/100 ] loss = 0.18318, acc = 0.93127\n"
          ]
        },
        {
          "name": "stderr",
          "output_type": "stream",
          "text": [
            "100%|██████████| 24/24 [00:03<00:00,  7.52it/s]\n"
          ]
        },
        {
          "name": "stdout",
          "output_type": "stream",
          "text": [
            "[ Valid | 086/100 ] loss = 0.38981, acc = 0.87992\n",
            "========================================================================================================\n",
            "[ Train | 087/100 ] loss = 0.17934, acc = 0.93189\n"
          ]
        },
        {
          "name": "stderr",
          "output_type": "stream",
          "text": [
            "100%|██████████| 24/24 [00:02<00:00,  8.88it/s]\n"
          ]
        },
        {
          "name": "stdout",
          "output_type": "stream",
          "text": [
            "[ Valid | 087/100 ] loss = 0.39350, acc = 0.87826\n",
            "========================================================================================================\n",
            "[ Train | 088/100 ] loss = 0.17601, acc = 0.93360\n"
          ]
        },
        {
          "name": "stderr",
          "output_type": "stream",
          "text": [
            "100%|██████████| 24/24 [00:02<00:00,  9.10it/s]\n"
          ]
        },
        {
          "name": "stdout",
          "output_type": "stream",
          "text": [
            "[ Valid | 088/100 ] loss = 0.38852, acc = 0.87956\n",
            "========================================================================================================\n",
            "[ Train | 089/100 ] loss = 0.17220, acc = 0.93446\n"
          ]
        },
        {
          "name": "stderr",
          "output_type": "stream",
          "text": [
            "100%|██████████| 24/24 [00:02<00:00,  8.81it/s]\n"
          ]
        },
        {
          "name": "stdout",
          "output_type": "stream",
          "text": [
            "[ Valid | 089/100 ] loss = 0.40395, acc = 0.87565\n",
            "========================================================================================================\n",
            "[ Train | 090/100 ] loss = 0.17162, acc = 0.93514\n"
          ]
        },
        {
          "name": "stderr",
          "output_type": "stream",
          "text": [
            "100%|██████████| 24/24 [00:02<00:00,  9.20it/s]\n"
          ]
        },
        {
          "name": "stdout",
          "output_type": "stream",
          "text": [
            "[ Valid | 090/100 ] loss = 0.39605, acc = 0.88005\n",
            "========================================================================================================\n",
            "[ Train | 091/100 ] loss = 0.17076, acc = 0.93549\n"
          ]
        },
        {
          "name": "stderr",
          "output_type": "stream",
          "text": [
            "100%|██████████| 24/24 [00:02<00:00,  9.02it/s]\n"
          ]
        },
        {
          "name": "stdout",
          "output_type": "stream",
          "text": [
            "[ Valid | 091/100 ] loss = 0.38876, acc = 0.87707\n",
            "========================================================================================================\n",
            "[ Train | 092/100 ] loss = 0.17106, acc = 0.93526\n"
          ]
        },
        {
          "name": "stderr",
          "output_type": "stream",
          "text": [
            "100%|██████████| 24/24 [00:02<00:00,  8.60it/s]"
          ]
        },
        {
          "name": "stdout",
          "output_type": "stream",
          "text": [
            "[ Valid | 092/100 ] loss = 0.41306, acc = 0.87427\n",
            "No improvment 10 consecutive epochs, early stopping\n",
            "Finished Training\n"
          ]
        },
        {
          "name": "stderr",
          "output_type": "stream",
          "text": [
            "\n"
          ]
        }
      ],
      "source": [
        "train_loss_epoch = []\n",
        "val_loss_epoch = []\n",
        "\n",
        "best_acc = 0\n",
        "epoch_counter = 0\n",
        "\n",
        "for epoch in range(n_epoch):  # loop over the dataset multiple times\n",
        "\n",
        "\n",
        "    running_loss = 0.0\n",
        "    epoch_counter += 1\n",
        "\n",
        "    ################## Training ##################\n",
        "    # These are used to record information in training.\n",
        "    train_loss = []\n",
        "    train_accs = []\n",
        "\n",
        "    for i, data in enumerate(trainloader):\n",
        "        # get the inputs; data is a list of [inputs, labels]\n",
        "        inputs, labels = data\n",
        "        if use_gpu:\n",
        "            inputs, labels = inputs.cuda(),labels.cuda()\n",
        "        # zero the parameter gradients\n",
        "        optimizer.zero_grad()\n",
        "        # forward + backward + optimize\n",
        "        outputs = net(inputs)\n",
        "        loss = criterion(outputs, labels)\n",
        "        loss.backward()\n",
        "        optimizer.step()\n",
        "\n",
        "        # Compute the accuracy for current batch.\n",
        "        acc = (outputs.argmax(dim=-1) == labels.to(device)).float().mean()\n",
        "\n",
        "        # Record the loss and accuracy.\n",
        "        train_loss.append(loss.item())\n",
        "        train_accs.append(acc)\n",
        "\n",
        "    train_loss = sum(train_loss) / len(train_loss)\n",
        "    train_acc = sum(train_accs) / len(train_accs)\n",
        "\n",
        "    train_loss_epoch.append(train_loss)\n",
        "\n",
        "\n",
        "    # Print the information.\n",
        "    print('========================================================================================================')\n",
        "    print(f\"[ Train | {epoch + 1:03d}/{n_epoch:03d} ] loss = {train_loss:.5f}, acc = {train_acc:.5f}\")\n",
        "\n",
        "    ################## Validition ##################\n",
        "    valid_loss = []\n",
        "    valid_accs = []\n",
        "\n",
        "    # Iterate the validation set by batches.\n",
        "    for data in tqdm(validloader):\n",
        "\n",
        "        # A batch consists of image data and corresponding labels.\n",
        "        imgs, labels = data\n",
        "        #imgs = imgs.half()\n",
        "\n",
        "        # We don't need gradient in validation.\n",
        "        # Using torch.no_grad() accelerates the forward process.\n",
        "        with torch.no_grad():\n",
        "            logits = net(imgs.to(device))\n",
        "\n",
        "        # We can still compute the loss (but not the gradient).\n",
        "        loss = criterion(logits, labels.to(device))\n",
        "\n",
        "        # Compute the accuracy for current batch.\n",
        "        acc = (logits.argmax(dim=-1) == labels.to(device)).float().mean()\n",
        "\n",
        "        # Record the loss and accuracy.\n",
        "        valid_loss.append(loss.item())\n",
        "        valid_accs.append(acc.item())\n",
        "        #break\n",
        "\n",
        "    valid_loss = sum(valid_loss) / len(valid_loss)\n",
        "    valid_acc = sum(valid_accs) / len(valid_accs)\n",
        "\n",
        "    val_loss_epoch.append(valid_loss)\n",
        "\n",
        "\n",
        "    # Print the information.\n",
        "    print(f\"[ Valid | {epoch + 1:03d}/{n_epoch:03d} ] loss = {valid_loss:.5f}, acc = {valid_acc:.5f}\")\n",
        "\n",
        "\n",
        "     # save models\n",
        "    if valid_acc > best_acc:\n",
        "        print(f\"Best model found at epoch {epoch + 1:03d}, saving model\")\n",
        "        torch.save(net.state_dict(), './Mobilenet_ckpt/Mobilenet_origin_trained.ckpt') # only save best to prevent output memory exceed error\n",
        "        best_acc = valid_acc\n",
        "        stale = 0\n",
        "    else:\n",
        "        stale += 1\n",
        "        if stale > patience:\n",
        "            print(f\"No improvment {patience} consecutive epochs, early stopping\")\n",
        "            break\n",
        "\n",
        "print('Finished Training')"
      ]
    },
    {
      "attachments": {},
      "cell_type": "markdown",
      "metadata": {
        "id": "i1FysodHZ_Vy"
      },
      "source": [
        "# Model Testing"
      ]
    },
    {
      "attachments": {},
      "cell_type": "markdown",
      "metadata": {
        "id": "tE5Wel6g1r67"
      },
      "source": [
        "Your test accuracy  shoud be greater than 85%"
      ]
    },
    {
      "cell_type": "code",
      "execution_count": 18,
      "metadata": {
        "colab": {
          "base_uri": "https://localhost:8080/"
        },
        "id": "0qU93KBtvE-N",
        "outputId": "a6f060d2-eaea-4f77-f704-574c447ec5a3"
      },
      "outputs": [
        {
          "name": "stdout",
          "output_type": "stream",
          "text": [
            "Accuracy of the network on the 10000 test images: 87 %\n"
          ]
        }
      ],
      "source": [
        "correct = 0\n",
        "total = 0\n",
        "# since we're not training, we don't need to calculate the gradients for our outputs\n",
        "with torch.no_grad():\n",
        "    for data in testloader:\n",
        "        images, labels = data\n",
        "        if use_gpu:\n",
        "            images, labels = images.cuda(),labels.cuda()\n",
        "        # calculate outputs by running images through the network\n",
        "        outputs = net(images)\n",
        "        # the class with the highest energy is what we choose as prediction\n",
        "        _, predicted = torch.max(outputs.data, 1)\n",
        "        total += labels.size(0)\n",
        "        correct += (predicted == labels).sum().item()\n",
        "\n",
        "print(f'Accuracy of the network on the 10000 test images: {100 * correct // total} %')"
      ]
    },
    {
      "attachments": {},
      "cell_type": "markdown",
      "metadata": {
        "id": "8S5nKlhLaIq-"
      },
      "source": [
        "# Plot the train/val Loss curve"
      ]
    },
    {
      "attachments": {},
      "cell_type": "markdown",
      "metadata": {
        "id": "y7scBA59aXjl"
      },
      "source": [
        "# Plot the train/val loss curve"
      ]
    },
    {
      "cell_type": "code",
      "execution_count": 19,
      "metadata": {
        "id": "1cX3Gest2APC"
      },
      "outputs": [
        {
          "data": {
            "image/png": "[encoded data removed]",
            "text/plain": [
              "<Figure size 640x480 with 1 Axes>"
            ]
          },
          "metadata": {},
          "output_type": "display_data"
        }
      ],
      "source": [
        "from matplotlib import pyplot as plt\n",
        "### TODO : Please plot the rain/val loss curve ###\n",
        "\n",
        "\n",
        "plt.plot(train_loss_epoch, label = 'train_loss')\n",
        "plt.plot(val_loss_epoch, label = 'valid_loss')\n",
        "plt.xlabel('Epoch')\n",
        "plt.ylabel('Loss')\n",
        "plt.legend()\n",
        "plt.show()\n",
        "###########################################################"
      ]
    },
    {
      "attachments": {},
      "cell_type": "markdown",
      "metadata": {
        "id": "YtzycHHEaotl"
      },
      "source": [
        "## Downloading \".onnx file\" , and using  Netron to visualize the model\n"
      ]
    },
    {
      "attachments": {},
      "cell_type": "markdown",
      "metadata": {
        "id": "DTnCedWtdX7R"
      },
      "source": [
        "Save the model in .onnx format\n"
      ]
    },
    {
      "cell_type": "code",
      "execution_count": 20,
      "metadata": {
        "id": "qWkJWw1leJal"
      },
      "outputs": [
        {
          "ename": "FileNotFoundError",
          "evalue": "[Errno 2] No such file or directory: 'N26122246_minist_best.ckpt'",
          "output_type": "error",
          "traceback": [
            "\u001b[1;31m---------------------------------------------------------------------------\u001b[0m",
            "\u001b[1;31mFileNotFoundError\u001b[0m                         Traceback (most recent call last)",
            "Cell \u001b[1;32mIn[20], line 9\u001b[0m\n\u001b[0;32m      6\u001b[0m trained_net \u001b[39m=\u001b[39m Our_MobileNetV3()\u001b[39m.\u001b[39mcuda()\n\u001b[0;32m      8\u001b[0m input_shape \u001b[39m=\u001b[39m torch\u001b[39m.\u001b[39mrandn(\u001b[39m1\u001b[39m,\u001b[39m1\u001b[39m,\u001b[39m28\u001b[39m,\u001b[39m28\u001b[39m)\u001b[39m.\u001b[39mcuda()\n\u001b[1;32m----> 9\u001b[0m trained_net_weight \u001b[39m=\u001b[39m torch\u001b[39m.\u001b[39;49mload(\u001b[39m\"\u001b[39;49m\u001b[39mN26122246_minist_best.ckpt\u001b[39;49m\u001b[39m\"\u001b[39;49m)\n\u001b[0;32m     10\u001b[0m trained_net\u001b[39m.\u001b[39mload_state_dict(trained_net_weight,strict\u001b[39m=\u001b[39m\u001b[39mFalse\u001b[39;00m)\n\u001b[0;32m     11\u001b[0m trained_net\u001b[39m.\u001b[39meval()\n",
            "File \u001b[1;32mc:\\Users\\胡家豪\\AppData\\Local\\Programs\\Python\\Python311\\Lib\\site-packages\\torch\\serialization.py:986\u001b[0m, in \u001b[0;36mload\u001b[1;34m(f, map_location, pickle_module, weights_only, mmap, **pickle_load_args)\u001b[0m\n\u001b[0;32m    983\u001b[0m \u001b[39mif\u001b[39;00m \u001b[39m'\u001b[39m\u001b[39mencoding\u001b[39m\u001b[39m'\u001b[39m \u001b[39mnot\u001b[39;00m \u001b[39min\u001b[39;00m pickle_load_args\u001b[39m.\u001b[39mkeys():\n\u001b[0;32m    984\u001b[0m     pickle_load_args[\u001b[39m'\u001b[39m\u001b[39mencoding\u001b[39m\u001b[39m'\u001b[39m] \u001b[39m=\u001b[39m \u001b[39m'\u001b[39m\u001b[39mutf-8\u001b[39m\u001b[39m'\u001b[39m\n\u001b[1;32m--> 986\u001b[0m \u001b[39mwith\u001b[39;00m _open_file_like(f, \u001b[39m'\u001b[39;49m\u001b[39mrb\u001b[39;49m\u001b[39m'\u001b[39;49m) \u001b[39mas\u001b[39;00m opened_file:\n\u001b[0;32m    987\u001b[0m     \u001b[39mif\u001b[39;00m _is_zipfile(opened_file):\n\u001b[0;32m    988\u001b[0m         \u001b[39m# The zipfile reader is going to advance the current file position.\u001b[39;00m\n\u001b[0;32m    989\u001b[0m         \u001b[39m# If we want to actually tail call to torch.jit.load, we need to\u001b[39;00m\n\u001b[0;32m    990\u001b[0m         \u001b[39m# reset back to the original position.\u001b[39;00m\n\u001b[0;32m    991\u001b[0m         orig_position \u001b[39m=\u001b[39m opened_file\u001b[39m.\u001b[39mtell()\n",
            "File \u001b[1;32mc:\\Users\\胡家豪\\AppData\\Local\\Programs\\Python\\Python311\\Lib\\site-packages\\torch\\serialization.py:435\u001b[0m, in \u001b[0;36m_open_file_like\u001b[1;34m(name_or_buffer, mode)\u001b[0m\n\u001b[0;32m    433\u001b[0m \u001b[39mdef\u001b[39;00m \u001b[39m_open_file_like\u001b[39m(name_or_buffer, mode):\n\u001b[0;32m    434\u001b[0m     \u001b[39mif\u001b[39;00m _is_path(name_or_buffer):\n\u001b[1;32m--> 435\u001b[0m         \u001b[39mreturn\u001b[39;00m _open_file(name_or_buffer, mode)\n\u001b[0;32m    436\u001b[0m     \u001b[39melse\u001b[39;00m:\n\u001b[0;32m    437\u001b[0m         \u001b[39mif\u001b[39;00m \u001b[39m'\u001b[39m\u001b[39mw\u001b[39m\u001b[39m'\u001b[39m \u001b[39min\u001b[39;00m mode:\n",
            "File \u001b[1;32mc:\\Users\\胡家豪\\AppData\\Local\\Programs\\Python\\Python311\\Lib\\site-packages\\torch\\serialization.py:416\u001b[0m, in \u001b[0;36m_open_file.__init__\u001b[1;34m(self, name, mode)\u001b[0m\n\u001b[0;32m    415\u001b[0m \u001b[39mdef\u001b[39;00m \u001b[39m__init__\u001b[39m(\u001b[39mself\u001b[39m, name, mode):\n\u001b[1;32m--> 416\u001b[0m     \u001b[39msuper\u001b[39m()\u001b[39m.\u001b[39m\u001b[39m__init__\u001b[39m(\u001b[39mopen\u001b[39;49m(name, mode))\n",
            "\u001b[1;31mFileNotFoundError\u001b[0m: [Errno 2] No such file or directory: 'N26122246_minist_best.ckpt'"
          ]
        }
      ],
      "source": [
        "# Some standard imports\n",
        "import io\n",
        "import torch.utils.model_zoo as model_zoo\n",
        "import torch.onnx\n",
        "\n",
        "trained_net = Our_MobileNetV3().cuda()\n",
        "\n",
        "input_shape = torch.randn(1,1,28,28).cuda()\n",
        "trained_net_weight = torch.load(\"N26122246_minist_best.ckpt\")\n",
        "trained_net.load_state_dict(trained_net_weight,strict=False)\n",
        "trained_net.eval()\n",
        "\n",
        "### TODO : export your model in .onnx format ###\n",
        "torch.onnx.export( trained_net,\n",
        "                  input_shape,\n",
        "                  \"N26122246_fashion_mnist.onnx\",\n",
        "                  opset_version=10,\n",
        "                  do_constant_folding=True,\n",
        "                  input_names = ['input'],\n",
        "                  output_names = ['output'],\n",
        "                  dynamic_axes={'input' : {0 : 'batch_size'},    # variable length axes\n",
        "                                'output' : {0 : 'batch_size'}})\n",
        "\n"
      ]
    },
    {
      "attachments": {},
      "cell_type": "markdown",
      "metadata": {},
      "source": [
        "https://netron.app/"
      ]
    }
  ],
  "metadata": {
    "accelerator": "GPU",
    "colab": {
      "gpuType": "T4",
      "provenance": []
    },
    "kernelspec": {
      "display_name": "Python 3",
      "name": "python3"
    },
    "language_info": {
      "codemirror_mode": {
        "name": "ipython",
        "version": 3
      },
      "file_extension": ".py",
      "mimetype": "text/x-python",
      "name": "python",
      "nbconvert_exporter": "python",
      "pygments_lexer": "ipython3",
      "version": "3.11.6"
    }
  },
  "nbformat": 4,
  "nbformat_minor": 0
}
